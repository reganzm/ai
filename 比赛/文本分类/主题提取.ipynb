{
 "cells": [
  {
   "cell_type": "code",
   "execution_count": 2,
   "metadata": {
    "collapsed": true
   },
   "outputs": [],
   "source": [
    "import pandas as pd\n",
    "import numpy as np\n",
    "import threading\n",
    "import pandas as pd, numpy as np\n",
    "from sklearn.feature_extraction.text import TfidfVectorizer\n",
    "from sklearn import svm"
   ]
  },
  {
   "cell_type": "code",
   "execution_count": 2,
   "metadata": {
    "collapsed": false
   },
   "outputs": [],
   "source": [
    "\n",
    "\n",
    "column = \"word_seg\"\n",
    "train = pd.read_csv('D://datas/text/train_set.csv')[column]\n",
    "test = pd.read_csv('D://datas/text/test_set.csv')[column]"
   ]
  },
  {
   "cell_type": "markdown",
   "metadata": {
    "collapsed": true
   },
   "source": [
    "### gensim"
   ]
  },
  {
   "cell_type": "code",
   "execution_count": 3,
   "metadata": {
    "collapsed": false
   },
   "outputs": [
    {
     "name": "stderr",
     "output_type": "stream",
     "text": [
      "D:\\SOFTWARES\\ANACONDA3\\lib\\site-packages\\gensim\\utils.py:863: UserWarning: detected Windows; aliasing chunkize to chunkize_serial\n",
      "  warnings.warn(\"detected Windows; aliasing chunkize to chunkize_serial\")\n"
     ]
    }
   ],
   "source": [
    "import jieba, os\n",
    "import codecs\n",
    "from gensim import corpora, models, similarities\n",
    "from pprint import pprint\n",
    "from collections import defaultdict"
   ]
  },
  {
   "cell_type": "code",
   "execution_count": 4,
   "metadata": {
    "collapsed": false
   },
   "outputs": [
    {
     "name": "stdout",
     "output_type": "stream",
     "text": [
      "id在多少文档出现:{0: 1, 1: 2, 2: 2}\n",
      "文档数：2\n",
      "字典列表：[(0, '一'), (1, '三'), (2, '二')]\n",
      "id2token:{0: '一', 1: '三', 2: '二'}\n",
      "所有词个数：8\n",
      "每个文件非重复词数量:5\n",
      "更新字典......\n",
      "id在多少文档出现:{0: 2, 1: 3, 2: 2, 3: 1}\n",
      "文档数：3\n",
      "字典列表：[(0, '一'), (1, '三'), (2, '二'), (3, '四')]\n",
      "id2token:{0: '一', 1: '三', 2: '二', 3: '四'}\n",
      "所有词个数：13\n",
      "每个文件非重复词数量:8\n",
      "----------------------------------------\n",
      "词袋b，列表[(单词id，词频)]\n",
      "[(0, 2), (1, 1), (3, 2)]\n",
      "不在字典中的词及其词频，字典[(单词，词频)]\n",
      "{}\n",
      "0 一 2\n",
      "1 三 1\n",
      "3 四 2\n",
      "########dictionary信息##########\n"
     ]
    }
   ],
   "source": [
    "a = [['一','三','二','三','三'],['二','三','三']]\n",
    "b = ['一','一','三','四','四']\n",
    "dictionary = corpora.Dictionary(a)\n",
    "print('id在多少文档出现:{}'.format(dictionary.dfs))\n",
    "print('文档数：{}'.format(dictionary.num_docs))\n",
    "print('字典列表：{}'.format(list(dictionary.items())))\n",
    "print('id2token:{}'.format(dictionary.id2token))\n",
    "print('所有词个数：{}'.format(dictionary.num_pos))\n",
    "print('每个文件非重复词数量:{}'.format(dictionary.num_nnz))\n",
    "print('更新字典......')\n",
    "dictionary.add_documents([b])\n",
    "print('id在多少文档出现:{}'.format(dictionary.dfs))\n",
    "print('文档数：{}'.format(dictionary.num_docs))\n",
    "print('字典列表：{}'.format(list(dictionary.items())))\n",
    "print('id2token:{}'.format(dictionary.id2token))\n",
    "print('所有词个数：{}'.format(dictionary.num_pos))\n",
    "print('每个文件非重复词数量:{}'.format(dictionary.num_nnz))\n",
    "print('--------'*5)\n",
    "result, missing = dictionary.doc2bow(b, allow_update=False, return_missing=True)\n",
    "print (\"词袋b，列表[(单词id，词频)]\")\n",
    "print (result)\n",
    "print (\"不在字典中的词及其词频，字典[(单词，词频)]\")\n",
    "print(missing)\n",
    "for ids, freq in result:\n",
    "    print(ids, dictionary.id2token[ids], freq)\n",
    "print(\"########dictionary信息##########\")\n",
    "#过滤文档频率大于no_below，小于no_above*num_docs的词\n",
    "dictionary.filter_extremes(no_below=1, no_above=0.5, keep_n=10)"
   ]
  },
  {
   "cell_type": "code",
   "execution_count": 5,
   "metadata": {
    "collapsed": false
   },
   "outputs": [
    {
     "name": "stdout",
     "output_type": "stream",
     "text": [
      "add_documents\n",
      "compactify\n",
      "dfs\n",
      "doc2bow\n",
      "filter_extremes\n",
      "filter_n_most_frequent\n",
      "filter_tokens\n",
      "from_corpus\n",
      "from_documents\n",
      "get\n",
      "id2token\n",
      "items\n",
      "iteritems\n",
      "iterkeys\n",
      "itervalues\n",
      "keys\n",
      "load\n",
      "load_from_text\n",
      "merge_with\n",
      "num_docs\n",
      "num_nnz\n",
      "num_pos\n",
      "save\n",
      "save_as_text\n",
      "token2id\n",
      "values\n"
     ]
    }
   ],
   "source": [
    "a = dir(dictionary)\n",
    "for i in  a:\n",
    "    if not i.startswith('_'):\n",
    "        print(i)"
   ]
  },
  {
   "cell_type": "markdown",
   "metadata": {},
   "source": [
    "### 使用gensim制作词典"
   ]
  },
  {
   "cell_type": "code",
   "execution_count": 6,
   "metadata": {
    "collapsed": false
   },
   "outputs": [],
   "source": [
    "train_word = [[j for j in i.split(' ') if j] for i in train.values if i ]\n",
    "dictionary = corpora.Dictionary(train_word)"
   ]
  },
  {
   "cell_type": "code",
   "execution_count": 7,
   "metadata": {
    "collapsed": true
   },
   "outputs": [],
   "source": [
    "train_word.clear()\n",
    "train = None"
   ]
  },
  {
   "cell_type": "code",
   "execution_count": 8,
   "metadata": {
    "collapsed": false
   },
   "outputs": [
    {
     "data": {
      "text/plain": [
       "102277"
      ]
     },
     "execution_count": 8,
     "metadata": {},
     "output_type": "execute_result"
    }
   ],
   "source": [
    "dictionary.num_docs"
   ]
  },
  {
   "cell_type": "code",
   "execution_count": 9,
   "metadata": {
    "collapsed": false
   },
   "outputs": [
    {
     "data": {
      "text/plain": [
       "73327966"
      ]
     },
     "execution_count": 9,
     "metadata": {},
     "output_type": "execute_result"
    }
   ],
   "source": [
    "dictionary.num_pos"
   ]
  },
  {
   "cell_type": "code",
   "execution_count": 10,
   "metadata": {
    "collapsed": false
   },
   "outputs": [
    {
     "data": {
      "text/plain": [
       "31307531"
      ]
     },
     "execution_count": 10,
     "metadata": {},
     "output_type": "execute_result"
    }
   ],
   "source": [
    "dictionary.num_nnz"
   ]
  },
  {
   "cell_type": "code",
   "execution_count": 11,
   "metadata": {
    "collapsed": true
   },
   "outputs": [],
   "source": [
    "test_word = [[j for j in i.split(' ') if j] for i in test.values if i]\n",
    "dictionary.add_documents(test_word)"
   ]
  },
  {
   "cell_type": "code",
   "execution_count": 12,
   "metadata": {
    "collapsed": true
   },
   "outputs": [],
   "source": [
    "test_word.clear()\n",
    "test  = None"
   ]
  },
  {
   "cell_type": "code",
   "execution_count": 13,
   "metadata": {
    "collapsed": false
   },
   "outputs": [
    {
     "data": {
      "text/plain": [
       "102277.0"
      ]
     },
     "execution_count": 13,
     "metadata": {},
     "output_type": "execute_result"
    }
   ],
   "source": [
    "dictionary.num_docs / 2"
   ]
  },
  {
   "cell_type": "code",
   "execution_count": 14,
   "metadata": {
    "collapsed": false
   },
   "outputs": [
    {
     "data": {
      "text/plain": [
       "146768186"
      ]
     },
     "execution_count": 14,
     "metadata": {},
     "output_type": "execute_result"
    }
   ],
   "source": [
    "dictionary.num_pos"
   ]
  },
  {
   "cell_type": "code",
   "execution_count": 15,
   "metadata": {
    "collapsed": false
   },
   "outputs": [],
   "source": [
    "#dictionary.filter_n_most_frequent(5)"
   ]
  },
  {
   "cell_type": "code",
   "execution_count": 16,
   "metadata": {
    "collapsed": true
   },
   "outputs": [],
   "source": [
    "dictionary.compactify()"
   ]
  },
  {
   "cell_type": "code",
   "execution_count": 17,
   "metadata": {
    "collapsed": false
   },
   "outputs": [],
   "source": [
    "#dictionary.token2id"
   ]
  },
  {
   "cell_type": "code",
   "execution_count": 18,
   "metadata": {
    "collapsed": false
   },
   "outputs": [
    {
     "name": "stdout",
     "output_type": "stream",
     "text": [
      "字典长度：1271460\n"
     ]
    }
   ],
   "source": [
    "print('字典长度：{}'.format(len(dictionary.token2id.keys())))"
   ]
  },
  {
   "cell_type": "code",
   "execution_count": 19,
   "metadata": {
    "collapsed": true
   },
   "outputs": [],
   "source": [
    "np.save('dict',dictionary.token2id)"
   ]
  },
  {
   "cell_type": "code",
   "execution_count": 20,
   "metadata": {
    "collapsed": true
   },
   "outputs": [],
   "source": [
    "dictionary = None"
   ]
  },
  {
   "cell_type": "markdown",
   "metadata": {},
   "source": [
    "### 保存训练集标签"
   ]
  },
  {
   "cell_type": "code",
   "execution_count": 21,
   "metadata": {
    "collapsed": true
   },
   "outputs": [],
   "source": [
    "labels = pd.read_csv('D://datas/text/train_set.csv')['class']"
   ]
  },
  {
   "cell_type": "code",
   "execution_count": 22,
   "metadata": {
    "collapsed": false
   },
   "outputs": [
    {
     "data": {
      "text/plain": [
       "102277"
      ]
     },
     "execution_count": 22,
     "metadata": {},
     "output_type": "execute_result"
    }
   ],
   "source": [
    "len(labels.values)"
   ]
  },
  {
   "cell_type": "code",
   "execution_count": 23,
   "metadata": {
    "collapsed": true
   },
   "outputs": [],
   "source": [
    "np.save('labels',labels.values)\n",
    "labels = None"
   ]
  },
  {
   "cell_type": "markdown",
   "metadata": {},
   "source": [
    "### 用词典id表示词"
   ]
  },
  {
   "cell_type": "code",
   "execution_count": 3,
   "metadata": {
    "collapsed": false
   },
   "outputs": [],
   "source": [
    "dic = np.load('dict.npy').tolist()"
   ]
  },
  {
   "cell_type": "code",
   "execution_count": 4,
   "metadata": {
    "collapsed": true
   },
   "outputs": [],
   "source": [
    "train = pd.read_csv('D://datas/text/train_set.csv')['word_seg']"
   ]
  },
  {
   "cell_type": "code",
   "execution_count": 5,
   "metadata": {
    "collapsed": false
   },
   "outputs": [],
   "source": [
    "token_to_id = [[dic.get(word) for word in doc.split(' ') if dic.get(word)] for doc in train]\n",
    "train = None"
   ]
  },
  {
   "cell_type": "code",
   "execution_count": 7,
   "metadata": {
    "collapsed": true
   },
   "outputs": [],
   "source": [
    "np.save('trian_docs',token_to_idn_to_id)\n",
    "token_to_id = None"
   ]
  },
  {
   "cell_type": "code",
   "execution_count": 6,
   "metadata": {
    "collapsed": false
   },
   "outputs": [
    {
     "data": {
      "text/plain": [
       "677.22880021901312"
      ]
     },
     "execution_count": 6,
     "metadata": {},
     "output_type": "execute_result"
    }
   ],
   "source": [
    "a = len(token_to_id)\n",
    "ls = [len(token_to_id[i]) for i in range(a)]\n",
    "n = np.sum(ls)\n",
    "n / a"
   ]
  },
  {
   "cell_type": "code",
   "execution_count": 28,
   "metadata": {
    "collapsed": true
   },
   "outputs": [],
   "source": [
    "import matplotlib.pyplot as plt"
   ]
  },
  {
   "cell_type": "code",
   "execution_count": 29,
   "metadata": {
    "collapsed": false
   },
   "outputs": [
    {
     "data": {
      "image/png": "[encoded data removed]",
      "text/plain": [
       "<matplotlib.figure.Figure at 0xbff6b278>"
      ]
     },
     "metadata": {},
     "output_type": "display_data"
    }
   ],
   "source": [
    "plt.hist(ls)\n",
    "plt.show()"
   ]
  },
  {
   "cell_type": "code",
   "execution_count": 30,
   "metadata": {
    "collapsed": false
   },
   "outputs": [],
   "source": [
    "b = sorted(ls,reverse=True)"
   ]
  },
  {
   "cell_type": "code",
   "execution_count": 31,
   "metadata": {
    "collapsed": false
   },
   "outputs": [],
   "source": [
    "with open('b','w') as f:\n",
    "    for i in b:\n",
    "        f.write(str(i)+\"\\n\")"
   ]
  },
  {
   "cell_type": "code",
   "execution_count": 32,
   "metadata": {
    "collapsed": true
   },
   "outputs": [],
   "source": [
    "### 长度1000以上的单独训练分类器，长度1000以下的训练一个分类器\n",
    "train_0_1000_docs = [(i,token_to_id[i]) for i in range(len(token_to_id)) if len(token_to_id[i]) <=1000 ]\n",
    "train_1000_5000_docs = [(i,token_to_id[i]) for i in range(len(token_to_id))  if len(token_to_id[i]) > 1000  and len(token_to_id[i]) < 5000]\n",
    "train_g_5000_docs = [(i,token_to_id[i]) for i in range(len(token_to_id)) if len(token_to_id[i]) >=5000 ]"
   ]
  },
  {
   "cell_type": "code",
   "execution_count": 33,
   "metadata": {
    "collapsed": false
   },
   "outputs": [
    {
     "data": {
      "image/png": "[encoded data removed]",
      "text/plain": [
       "<matplotlib.figure.Figure at 0xbe0b2080>"
      ]
     },
     "metadata": {},
     "output_type": "display_data"
    },
    {
     "data": {
      "text/plain": [
       "84096"
      ]
     },
     "execution_count": 33,
     "metadata": {},
     "output_type": "execute_result"
    }
   ],
   "source": [
    "plt.hist([len(i[1]) for i in train_0_1000_docs])\n",
    "plt.show()\n",
    "len(train_0_1000_docs)"
   ]
  },
  {
   "cell_type": "code",
   "execution_count": 34,
   "metadata": {
    "collapsed": false
   },
   "outputs": [
    {
     "data": {
      "image/png": "[encoded data removed]",
      "text/plain": [
       "<matplotlib.figure.Figure at 0xbffa1240>"
      ]
     },
     "metadata": {},
     "output_type": "display_data"
    },
    {
     "data": {
      "text/plain": [
       "17749"
      ]
     },
     "execution_count": 34,
     "metadata": {},
     "output_type": "execute_result"
    }
   ],
   "source": [
    "plt.hist([len(i[1]) for i in train_1000_5000_docs])\n",
    "plt.show()\n",
    "len(train_1000_5000_docs)"
   ]
  },
  {
   "cell_type": "code",
   "execution_count": 35,
   "metadata": {
    "collapsed": false
   },
   "outputs": [
    {
     "data": {
      "image/png": "[encoded data removed]",
      "text/plain": [
       "<matplotlib.figure.Figure at 0xc0ae0f60>"
      ]
     },
     "metadata": {},
     "output_type": "display_data"
    },
    {
     "data": {
      "text/plain": [
       "432"
      ]
     },
     "execution_count": 35,
     "metadata": {},
     "output_type": "execute_result"
    }
   ],
   "source": [
    "plt.hist([len(i[1]) for i in train_g_5000_docs])\n",
    "plt.show()\n",
    "len(train_g_5000_docs)"
   ]
  },
  {
   "cell_type": "code",
   "execution_count": 36,
   "metadata": {
    "collapsed": false
   },
   "outputs": [],
   "source": [
    "labels = np.load('labels.npy')\n",
    "index_to_label = dict(zip(list(range(len(labels))),labels))"
   ]
  },
  {
   "cell_type": "code",
   "execution_count": 37,
   "metadata": {
    "collapsed": false
   },
   "outputs": [],
   "source": [
    "#保存不同文本长度对应的label\n",
    "np.save('train_0_1000_docs',[tupe[1] for tupe in train_0_1000_docs])\n",
    "np.save('train_0_1000_labels',[index_to_label.get(tupe[0]) for tupe in train_0_1000_docs])\n",
    "\n",
    "np.save('train_1000_5000_docs',[tupe[1] for tupe in train_1000_5000_docs])\n",
    "np.save('train_1000_5000_labels',[index_to_label.get(tupe[0]) for tupe in train_1000_5000_docs])\n",
    "\n",
    "np.save('train_g_5000_docs',[tupe[1] for tupe in train_g_5000_docs])\n",
    "np.save('train_g_5000_labels',[index_to_label.get(tupe[0]) for tupe in train_g_5000_docs])"
   ]
  },
  {
   "cell_type": "code",
   "execution_count": 38,
   "metadata": {
    "collapsed": true
   },
   "outputs": [],
   "source": [
    "train = None\n",
    "token_to_id.clear()\n",
    "train_0_1000_docs.clear()\n",
    "train_1000_5000_docs.clear()\n",
    "train_g_5000_docs.clear()"
   ]
  },
  {
   "cell_type": "code",
   "execution_count": 8,
   "metadata": {
    "collapsed": true
   },
   "outputs": [],
   "source": [
    "test = pd.read_csv('D://datas/text/test_set.csv')['word_seg']"
   ]
  },
  {
   "cell_type": "code",
   "execution_count": 9,
   "metadata": {
    "collapsed": false
   },
   "outputs": [],
   "source": [
    "test_to_id = [[dic.get(word) for word in doc.split(' ') if dic.get(word)] for doc in test]\n",
    "test = None"
   ]
  },
  {
   "cell_type": "code",
   "execution_count": 10,
   "metadata": {
    "collapsed": true
   },
   "outputs": [],
   "source": [
    "np.save('test_docs',test_to_id)"
   ]
  },
  {
   "cell_type": "code",
   "execution_count": 41,
   "metadata": {
    "collapsed": false
   },
   "outputs": [],
   "source": [
    "test_0_1000_docs = [(i,test_to_id[i]) for i in range(len(test_to_id))  if len(test_to_id[i]) <=1000 ]\n",
    "test_1000_5000_docs = [(i,test_to_id[i]) for i in range(len(test_to_id)) if len(test_to_id[i]) > 1000  and len(test_to_id[i])<5000]\n",
    "test_g_5000_docs = [(i,test_to_id[i]) for i in range(len(test_to_id)) if len(test_to_id[i]) >=5000 ]"
   ]
  },
  {
   "cell_type": "code",
   "execution_count": 42,
   "metadata": {
    "collapsed": false
   },
   "outputs": [
    {
     "data": {
      "image/png": "[encoded data removed]",
      "text/plain": [
       "<matplotlib.figure.Figure at 0xc0b406a0>"
      ]
     },
     "metadata": {},
     "output_type": "display_data"
    },
    {
     "data": {
      "text/plain": [
       "84010"
      ]
     },
     "execution_count": 42,
     "metadata": {},
     "output_type": "execute_result"
    }
   ],
   "source": [
    "plt.hist([len(i[1]) for i in test_0_1000_docs])\n",
    "plt.show()\n",
    "len(test_0_1000_docs)"
   ]
  },
  {
   "cell_type": "code",
   "execution_count": 43,
   "metadata": {
    "collapsed": false
   },
   "outputs": [
    {
     "data": {
      "image/png": "[encoded data removed]",
      "text/plain": [
       "<matplotlib.figure.Figure at 0xc0b08c88>"
      ]
     },
     "metadata": {},
     "output_type": "display_data"
    },
    {
     "data": {
      "text/plain": [
       "17831"
      ]
     },
     "execution_count": 43,
     "metadata": {},
     "output_type": "execute_result"
    }
   ],
   "source": [
    "plt.hist([len(i[1]) for i in test_1000_5000_docs])\n",
    "plt.show()\n",
    "len(test_1000_5000_docs)"
   ]
  },
  {
   "cell_type": "code",
   "execution_count": 44,
   "metadata": {
    "collapsed": false
   },
   "outputs": [
    {
     "data": {
      "image/png": "[encoded data removed]",
      "text/plain": [
       "<matplotlib.figure.Figure at 0xc07887b8>"
      ]
     },
     "metadata": {},
     "output_type": "display_data"
    },
    {
     "data": {
      "text/plain": [
       "436"
      ]
     },
     "execution_count": 44,
     "metadata": {},
     "output_type": "execute_result"
    }
   ],
   "source": [
    "plt.hist([len(i[1]) for i in test_g_5000_docs])\n",
    "plt.show()\n",
    "len(test_g_5000_docs)"
   ]
  },
  {
   "cell_type": "code",
   "execution_count": 45,
   "metadata": {
    "collapsed": true
   },
   "outputs": [],
   "source": [
    "### 根据文档的长度\n",
    "np.save('test_0_1000_docs',[tupe[1] for tupe in test_0_1000_docs])\n",
    "\n",
    "np.save('test_1000_5000_docs',[tupe[1] for tupe in test_1000_5000_docs])\n",
    "\n",
    "np.save('test_g_5000_docs',[tupe[1] for tupe in test_g_5000_docs])\n"
   ]
  },
  {
   "cell_type": "code",
   "execution_count": 2,
   "metadata": {
    "collapsed": true
   },
   "outputs": [],
   "source": [
    "### 做词嵌入操作\n",
    "dic = np.load('dict.npy').tolist()\n",
    "train = pd.read_csv('D://datas/text/train_set.csv')['word_seg']\n",
    "test = pd.read_csv('D://datas/text/test_set.csv')['word_seg']\n",
    "train_docs = [[word for word in doc.split(' ') if dic.get(word)] for doc in train]\n",
    "test_docs = [[word for word in doc.split(' ') if dic.get(word)] for doc in test]\n",
    "all_docs = train_docs + test_docs"
   ]
  },
  {
   "cell_type": "code",
   "execution_count": 3,
   "metadata": {
    "collapsed": false
   },
   "outputs": [],
   "source": [
    "train = None\n",
    "test = None\n",
    "train_docs.clear()\n",
    "test_docs.clear()"
   ]
  },
  {
   "cell_type": "code",
   "execution_count": 4,
   "metadata": {
    "collapsed": false
   },
   "outputs": [
    {
     "name": "stderr",
     "output_type": "stream",
     "text": [
      "D:\\SOFTWARES\\ANACONDA3\\lib\\site-packages\\gensim\\utils.py:863: UserWarning: detected Windows; aliasing chunkize to chunkize_serial\n",
      "  warnings.warn(\"detected Windows; aliasing chunkize to chunkize_serial\")\n"
     ]
    }
   ],
   "source": []
  },
  {
   "cell_type": "code",
   "execution_count": 6,
   "metadata": {
    "collapsed": false
   },
   "outputs": [],
   "source": [
    "with open('all_token','wt',encoding='utf8') as f:\n",
    "    for doc in all_docs:\n",
    "        content = ' '.join(doc)\n",
    "        f.write(content+\"\\n\")\n",
    "    f.flush()"
   ]
  },
  {
   "cell_type": "code",
   "execution_count": 1,
   "metadata": {
    "collapsed": false
   },
   "outputs": [
    {
     "name": "stderr",
     "output_type": "stream",
     "text": [
      "D:\\SOFTWARES\\ANACONDA3\\lib\\site-packages\\gensim\\utils.py:863: UserWarning: detected Windows; aliasing chunkize to chunkize_serial\n",
      "  warnings.warn(\"detected Windows; aliasing chunkize to chunkize_serial\")\n"
     ]
    }
   ],
   "source": [
    "from gensim.models import Word2Vec\n",
    "from gensim.models.word2vec import LineSentence\n",
    "#sentences = LineSentence('./all_token')\n",
    "# size：词向量的维度\n",
    "# window：上下文环境的窗口大小\n",
    "# min_count：忽略出现次数低于min_count的词\n",
    "#model = Word2Vec(sentences, size=128, window=5, min_count=1, workers=10,compute_loss=True,iter=200,sg=0)\n",
    "\n",
    "# 保存模型\n",
    "#model.save('./word_embedding_128')"
   ]
  },
  {
   "cell_type": "code",
   "execution_count": null,
   "metadata": {
    "collapsed": true
   },
   "outputs": [],
   "source": []
  }
 ],
 "metadata": {
  "kernelspec": {
   "display_name": "Python 3",
   "language": "python",
   "name": "python3"
  },
  "language_info": {
   "codemirror_mode": {
    "name": "ipython",
    "version": 3
   },
   "file_extension": ".py",
   "mimetype": "text/x-python",
   "name": "python",
   "nbconvert_exporter": "python",
   "pygments_lexer": "ipython3",
   "version": "3.6.0"
  }
 },
 "nbformat": 4,
 "nbformat_minor": 2
}
