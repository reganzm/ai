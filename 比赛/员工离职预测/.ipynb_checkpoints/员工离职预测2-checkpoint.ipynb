{
 "cells": [
  {
   "cell_type": "code",
   "execution_count": 1,
   "metadata": {
    "collapsed": true
   },
   "outputs": [],
   "source": [
    "import pandas as pd\n",
    "import numpy as np\n",
    "train = pd.read_csv('pfm_train.csv',encoding='utf8')\n",
    "train.groupby(by='Attrition').count()\n",
    "BusinessTravel = train['BusinessTravel']\n",
    "Department = train['Department']\n",
    "EducationField = train['EducationField']\n",
    "Gender = train['Gender']\n",
    "JobRole  = train['JobRole']\n",
    "MaritalStatus = train['MaritalStatus']\n",
    "Over18 = train['Over18']\n",
    "OverTime = train['OverTime']\n",
    "\n",
    "BusinessTravel_df = pd.get_dummies(BusinessTravel)\n",
    "Department_df = pd.get_dummies(Department)\n",
    "EducationField_df = pd.get_dummies(EducationField)\n",
    "Gender_df = pd.get_dummies(Gender)\n",
    "JobRole_df = pd.get_dummies(JobRole)\n",
    "MaritalStatus_df = pd.get_dummies(MaritalStatus)\n",
    "Over18_df = pd.get_dummies(Over18)\n",
    "OverTime_df = pd.get_dummies(OverTime)\n",
    "\n",
    "del train['BusinessTravel']\n",
    "del train['Department']\n",
    "del train['EducationField']\n",
    "del train['Gender']\n",
    "del train['JobRole']\n",
    "del train['MaritalStatus']\n",
    "del train['Over18']\n",
    "del train['OverTime']\n",
    "del train['EmployeeNumber']\n",
    "\n",
    "df = pd.concat([train,BusinessTravel_df,Department_df,EducationField_df,Gender_df,JobRole_df,MaritalStatus_df,Over18_df,OverTime_df],axis=1)\n",
    "\n",
    "\n",
    "del df['Non-Travel']\n",
    "del df['Human Resources']\n",
    "del df['Other']\n",
    "del df['Female']\n",
    "del df['Research Scientist']\n",
    "del df['Divorced']\n",
    "del df['Y']\n",
    "del df['No']\n",
    "\n"
   ]
  },
  {
   "cell_type": "code",
   "execution_count": 43,
   "metadata": {
    "collapsed": false
   },
   "outputs": [
    {
     "data": {
      "text/plain": [
       "34"
      ]
     },
     "execution_count": 43,
     "metadata": {},
     "output_type": "execute_result"
    }
   ],
   "source": [
    "cov = df.corr()['MonthlyIncome']\n",
    "cov\n",
    "filterd_cov = cov[abs(cov) > 0.01]\n",
    "b = list(filterd_cov.index.values)\n",
    "b.remove('Attrition')\n",
    "filterd_cov.count()\n",
    "#cov.count()"
   ]
  },
  {
   "cell_type": "code",
   "execution_count": 69,
   "metadata": {
    "collapsed": false
   },
   "outputs": [
    {
     "name": "stdout",
     "output_type": "stream",
     "text": [
      "Coefficients:[[ -1.47226815e-02   3.70799509e-02   4.60213684e-02  -2.79927025e-01\n",
      "   -1.54294086e-01  -8.51578241e-06   5.06831245e-02  -1.72833081e-02\n",
      "    2.97416975e-01  -1.65309560e-01  -5.12885482e-02  -1.58745027e-01\n",
      "   -1.30695787e-01   7.31904346e-02  -1.58697889e-01   5.96446336e-02\n",
      "   -4.78575496e-02   4.25454613e-01   2.06991900e-01  -2.20134318e-01\n",
      "    2.19479668e-01  -1.16467477e-01   2.45557961e-01   2.23886742e-01\n",
      "   -2.14617287e-01   1.81719682e-01   1.11708866e-01  -1.07887503e-01\n",
      "   -9.73197352e-02  -2.02968521e-01   3.80030361e-01  -1.16249131e-01\n",
      "    7.14122524e-01]], intercept [ 0.12661928]\n",
      "Residual sum of squares: 0.15\n",
      "Score: 0.85\n"
     ]
    }
   ],
   "source": [
    "from sklearn.model_selection import train_test_split\n",
    "from sklearn.linear_model import LogisticRegression\n",
    "# 将数据集拆分为训练集和测试集 \n",
    "X_train, X_test, y_train, y_test = train_test_split(df[b], df.Attrition, test_size=0.30)\n",
    "\n",
    "# 选择模型\n",
    "cls = LogisticRegression(C=0.1)\n",
    "# 把数据交给模型训练\n",
    "cls.fit(X_train, y_train)\n",
    "print(\"Coefficients:%s, intercept %s\"%(cls.coef_,cls.intercept_))\n",
    "print(\"Residual sum of squares: %.2f\"% np.mean((cls.predict(X_test) - y_test) ** 2))\n",
    "print('Score: %.2f' % cls.score(X_test, y_test))"
   ]
  },
  {
   "cell_type": "code",
   "execution_count": 97,
   "metadata": {
    "collapsed": false
   },
   "outputs": [
    {
     "name": "stdout",
     "output_type": "stream",
     "text": [
      "Residual sum of squares: 0.15\n",
      "Score: 0.85\n"
     ]
    }
   ],
   "source": [
    "from sklearn.model_selection import train_test_split\n",
    "from sklearn.linear_model import LogisticRegression\n",
    "from xgboost import XGBClassifier\n",
    "# 将数据集拆分为训练集和测试集 \n",
    "X_train, X_test, y_train, y_test = train_test_split(df[b], df.Attrition, test_size=0.30)\n",
    "\n",
    "# 选择模型\n",
    "cls = XGBClassifier()\n",
    "# 把数据交给模型训练\n",
    "cls.fit(X_train, y_train)\n",
    "#print(\"Coefficients:%s, intercept %s\"%(cls.coef_,cls.intercept_))\n",
    "print(\"Residual sum of squares: %.2f\"% np.mean((cls.predict(X_test) - y_test) ** 2))\n",
    "print('Score: %.2f' % cls.score(X_test, y_test))"
   ]
  },
  {
   "cell_type": "code",
   "execution_count": 92,
   "metadata": {
    "collapsed": false
   },
   "outputs": [
    {
     "name": "stdout",
     "output_type": "stream",
     "text": [
      "Residual sum of squares: 0.15\n",
      "Score: 0.85\n"
     ]
    }
   ],
   "source": [
    "from sklearn.grid_search import GridSearchCV\n",
    "from sklearn.preprocessing import PolynomialFeatures\n",
    "from sklearn.preprocessing import StandardScaler \n",
    "from sklearn.pipeline import Pipeline\n",
    "from sklearn.svm import SVC\n",
    "from sklearn.linear_model import LogisticRegression\n",
    "from sklearn.ensemble import RandomForestClassifier\n",
    "from xgboost import XGBClassifier\n",
    "def PolynomialLogisticRegression(degree = 1,C = 0.1):\n",
    "    return Pipeline([\n",
    "        ('poly', PolynomialFeatures(degree=degree)),\n",
    "        ('std_scaler', StandardScaler()),\n",
    "        ('log_reg', XGBClassifier())\n",
    "    ])\n",
    " \n",
    "# 待进行网格搜索的算法    \n",
    "poly_log_reg = PolynomialLogisticRegression()\n",
    " \n",
    "# 准备待搜索的参数列表\n",
    "C_PARM = [0.1,0.2,0.3,0.4,0.5]\n",
    "param_grid = [\n",
    "    {\n",
    "        'poly__degree': [i for i in range(1, 4)]\n",
    "    }\n",
    "]\n",
    " \n",
    "# 实例化GridSearchCV进行网格搜索\n",
    "grid_search = GridSearchCV(poly_log_reg, param_grid)\n",
    "grid_search.fit(X_train,y_train)\n",
    "print(\"Residual sum of squares: %.2f\"% np.mean((grid_search.predict(X_test) - y_test) ** 2))\n",
    "print('Score: %.2f' % grid_search.score(X_test, y_test))"
   ]
  },
  {
   "cell_type": "markdown",
   "metadata": {},
   "source": [
    "## 过采样"
   ]
  },
  {
   "cell_type": "code",
   "execution_count": 105,
   "metadata": {
    "collapsed": false
   },
   "outputs": [
    {
     "name": "stdout",
     "output_type": "stream",
     "text": [
      "Coefficients:[[ -2.44311764e-02   3.12012960e-02  -1.15626358e-01  -4.42425189e-01\n",
      "   -2.70722370e-01   1.12135986e-04   2.56627625e-01   7.42501244e-03\n",
      "    5.07151325e-01  -1.44215821e-01  -1.25558243e-01  -1.92835932e-01\n",
      "   -1.54676322e-01   1.16273840e-01  -1.80922185e-01   8.76301658e-02\n",
      "   -5.63875009e-02   1.24597557e+00   1.02388517e+00  -4.50600044e-01\n",
      "    2.64432227e-01  -1.08011529e-01  -4.99318931e-01   2.00211206e-01\n",
      "   -7.09770908e-01   4.70377742e-01  -3.79994067e-01  -3.14824764e-01\n",
      "   -1.26828000e+00   4.48382265e-01   1.98715878e-01   5.26747587e-01\n",
      "    1.10406699e+00]], intercept [ 0.44072451]\n",
      "Residual sum of squares: 0.33\n",
      "Score: 0.67\n"
     ]
    }
   ],
   "source": [
    "from imblearn.over_sampling import SMOTE\n",
    "\n",
    "from sklearn.model_selection import train_test_split\n",
    "from sklearn.linear_model import LogisticRegression\n",
    "# 将数据集拆分为训练集和测试集 \n",
    "X_train, X_test, y_train, y_test = train_test_split(df[b], df.Attrition, test_size=0.30)\n",
    "oversampler=SMOTE(random_state=0)\n",
    "X_train,y_train=oversampler.fit_sample(X_train,y_train)\n",
    "X_test,y_test=oversampler.fit_sample(X_test,y_test)\n",
    "# 选择模型\n",
    "cls = LogisticRegression()\n",
    "# 把数据交给模型训练\n",
    "cls.fit(X_train, y_train)\n",
    "print(\"Coefficients:%s, intercept %s\"%(cls.coef_,cls.intercept_))\n",
    "print(\"Residual sum of squares: %.2f\"% np.mean((cls.predict(X_test) - y_test) ** 2))\n",
    "print('Score: %.2f' % cls.score(X_test, y_test))"
   ]
  },
  {
   "cell_type": "markdown",
   "metadata": {},
   "source": [
    "### 欠采样"
   ]
  },
  {
   "cell_type": "code",
   "execution_count": 106,
   "metadata": {
    "collapsed": false
   },
   "outputs": [
    {
     "data": {
      "text/html": [
       "<div>\n",
       "<style scoped>\n",
       "    .dataframe tbody tr th:only-of-type {\n",
       "        vertical-align: middle;\n",
       "    }\n",
       "\n",
       "    .dataframe tbody tr th {\n",
       "        vertical-align: top;\n",
       "    }\n",
       "\n",
       "    .dataframe thead th {\n",
       "        text-align: right;\n",
       "    }\n",
       "</style>\n",
       "<table border=\"1\" class=\"dataframe\">\n",
       "  <thead>\n",
       "    <tr style=\"text-align: right;\">\n",
       "      <th></th>\n",
       "      <th>Age</th>\n",
       "      <th>DistanceFromHome</th>\n",
       "      <th>Education</th>\n",
       "      <th>EnvironmentSatisfaction</th>\n",
       "      <th>JobInvolvement</th>\n",
       "      <th>JobLevel</th>\n",
       "      <th>JobSatisfaction</th>\n",
       "      <th>MonthlyIncome</th>\n",
       "      <th>NumCompaniesWorked</th>\n",
       "      <th>PercentSalaryHike</th>\n",
       "      <th>...</th>\n",
       "      <th>RelationshipSatisfaction</th>\n",
       "      <th>StandardHours</th>\n",
       "      <th>StockOptionLevel</th>\n",
       "      <th>TotalWorkingYears</th>\n",
       "      <th>TrainingTimesLastYear</th>\n",
       "      <th>WorkLifeBalance</th>\n",
       "      <th>YearsAtCompany</th>\n",
       "      <th>YearsInCurrentRole</th>\n",
       "      <th>YearsSinceLastPromotion</th>\n",
       "      <th>YearsWithCurrManager</th>\n",
       "    </tr>\n",
       "    <tr>\n",
       "      <th>Attrition</th>\n",
       "      <th></th>\n",
       "      <th></th>\n",
       "      <th></th>\n",
       "      <th></th>\n",
       "      <th></th>\n",
       "      <th></th>\n",
       "      <th></th>\n",
       "      <th></th>\n",
       "      <th></th>\n",
       "      <th></th>\n",
       "      <th></th>\n",
       "      <th></th>\n",
       "      <th></th>\n",
       "      <th></th>\n",
       "      <th></th>\n",
       "      <th></th>\n",
       "      <th></th>\n",
       "      <th></th>\n",
       "      <th></th>\n",
       "      <th></th>\n",
       "      <th></th>\n",
       "    </tr>\n",
       "  </thead>\n",
       "  <tbody>\n",
       "    <tr>\n",
       "      <th>0</th>\n",
       "      <td>922</td>\n",
       "      <td>922</td>\n",
       "      <td>922</td>\n",
       "      <td>922</td>\n",
       "      <td>922</td>\n",
       "      <td>922</td>\n",
       "      <td>922</td>\n",
       "      <td>922</td>\n",
       "      <td>922</td>\n",
       "      <td>922</td>\n",
       "      <td>...</td>\n",
       "      <td>922</td>\n",
       "      <td>922</td>\n",
       "      <td>922</td>\n",
       "      <td>922</td>\n",
       "      <td>922</td>\n",
       "      <td>922</td>\n",
       "      <td>922</td>\n",
       "      <td>922</td>\n",
       "      <td>922</td>\n",
       "      <td>922</td>\n",
       "    </tr>\n",
       "    <tr>\n",
       "      <th>1</th>\n",
       "      <td>178</td>\n",
       "      <td>178</td>\n",
       "      <td>178</td>\n",
       "      <td>178</td>\n",
       "      <td>178</td>\n",
       "      <td>178</td>\n",
       "      <td>178</td>\n",
       "      <td>178</td>\n",
       "      <td>178</td>\n",
       "      <td>178</td>\n",
       "      <td>...</td>\n",
       "      <td>178</td>\n",
       "      <td>178</td>\n",
       "      <td>178</td>\n",
       "      <td>178</td>\n",
       "      <td>178</td>\n",
       "      <td>178</td>\n",
       "      <td>178</td>\n",
       "      <td>178</td>\n",
       "      <td>178</td>\n",
       "      <td>178</td>\n",
       "    </tr>\n",
       "  </tbody>\n",
       "</table>\n",
       "<p>2 rows × 21 columns</p>\n",
       "</div>"
      ],
      "text/plain": [
       "           Age  DistanceFromHome  Education  EnvironmentSatisfaction  \\\n",
       "Attrition                                                              \n",
       "0          922               922        922                      922   \n",
       "1          178               178        178                      178   \n",
       "\n",
       "           JobInvolvement  JobLevel  JobSatisfaction  MonthlyIncome  \\\n",
       "Attrition                                                             \n",
       "0                     922       922              922            922   \n",
       "1                     178       178              178            178   \n",
       "\n",
       "           NumCompaniesWorked  PercentSalaryHike          ...           \\\n",
       "Attrition                                                 ...            \n",
       "0                         922                922          ...            \n",
       "1                         178                178          ...            \n",
       "\n",
       "           RelationshipSatisfaction  StandardHours  StockOptionLevel  \\\n",
       "Attrition                                                              \n",
       "0                               922            922               922   \n",
       "1                               178            178               178   \n",
       "\n",
       "           TotalWorkingYears  TrainingTimesLastYear  WorkLifeBalance  \\\n",
       "Attrition                                                              \n",
       "0                        922                    922              922   \n",
       "1                        178                    178              178   \n",
       "\n",
       "           YearsAtCompany  YearsInCurrentRole  YearsSinceLastPromotion  \\\n",
       "Attrition                                                                \n",
       "0                     922                 922                      922   \n",
       "1                     178                 178                      178   \n",
       "\n",
       "           YearsWithCurrManager  \n",
       "Attrition                        \n",
       "0                           922  \n",
       "1                           178  \n",
       "\n",
       "[2 rows x 21 columns]"
      ]
     },
     "execution_count": 106,
     "metadata": {},
     "output_type": "execute_result"
    }
   ],
   "source": [
    "train.groupby(by='Attrition').count()"
   ]
  },
  {
   "cell_type": "markdown",
   "metadata": {},
   "source": [
    "## 规范化和标准化"
   ]
  },
  {
   "cell_type": "code",
   "execution_count": 110,
   "metadata": {
    "collapsed": false
   },
   "outputs": [
    {
     "name": "stdout",
     "output_type": "stream",
     "text": [
      "Residual sum of squares: 0.24\n",
      "Score: 0.76\n"
     ]
    }
   ],
   "source": [
    "from sklearn.grid_search import GridSearchCV\n",
    "from sklearn.preprocessing import PolynomialFeatures\n",
    "from sklearn.preprocessing import StandardScaler \n",
    "from sklearn.pipeline import Pipeline\n",
    "from sklearn.svm import SVC\n",
    "from sklearn.linear_model import LogisticRegression\n",
    "from sklearn.ensemble import RandomForestClassifier\n",
    "from xgboost import XGBClassifier\n",
    "from sklearn.preprocessing import Normalizer\n",
    "def PolynomialLogisticRegression(degree = 1,C = 0.1):\n",
    "    return Pipeline([\n",
    "        ('poly', PolynomialFeatures(degree=degree)),\n",
    "        ('norm',Normalizer(norm='l2')),\n",
    "        ('std_scaler', StandardScaler()),\n",
    "        ('log_reg', LogisticRegression())\n",
    "    ])\n",
    " \n",
    "# 待进行网格搜索的算法    \n",
    "poly_log_reg = PolynomialLogisticRegression()\n",
    " \n",
    "# 准备待搜索的参数列表\n",
    "C_PARM = [0.1,0.2,0.3,0.4,0.5]\n",
    "param_grid = [\n",
    "    {\n",
    "        'poly__degree': [i for i in range(1, 4)]\n",
    "    }\n",
    "]\n",
    " \n",
    "# 实例化GridSearchCV进行网格搜索\n",
    "grid_search = GridSearchCV(poly_log_reg, param_grid)\n",
    "grid_search.fit(X_train,y_train)\n",
    "print(\"Residual sum of squares: %.2f\"% np.mean((grid_search.predict(X_test) - y_test) ** 2))\n",
    "print('Score: %.2f' % grid_search.score(X_test, y_test))"
   ]
  },
  {
   "cell_type": "code",
   "execution_count": 101,
   "metadata": {
    "collapsed": false
   },
   "outputs": [
    {
     "name": "stdout",
     "output_type": "stream",
     "text": [
      "[ 0.83766234  0.83766234  0.83766234  0.83766234  0.83766234  0.83766234\n",
      "  0.83766234  0.83766234  0.83766234  0.83766234  0.83766234  0.83766234\n",
      "  0.83766234  0.83766234  0.83766234  0.83766234  0.83766234  0.83766234\n",
      "  0.83766234  0.83766234  0.83766234  0.83766234  0.83766234  0.83766234\n",
      "  0.83766234  0.83766234  0.83766234  0.83766234  0.83766234  0.83766234\n",
      "  0.83766234  0.84415584  0.84415584  0.84415584  0.84545455  0.84545455\n",
      "  0.84545455  0.84415584  0.84415584  0.84415584  0.84285714  0.84285714\n",
      "  0.84285714  0.84415584  0.84415584  0.84415584  0.84935065  0.84935065\n",
      "  0.84935065  0.84935065  0.84675325  0.84675325  0.84675325  0.84675325\n",
      "  0.84675325  0.84675325  0.84805195  0.84805195  0.84805195  0.84935065\n",
      "  0.84935065  0.84935065  0.84805195  0.84805195  0.84805195  0.84935065\n",
      "  0.84935065  0.84935065  0.84545455  0.84545455  0.84545455  0.84545455\n",
      "  0.84545455  0.84545455  0.84545455  0.84805195  0.84805195  0.84805195\n",
      "  0.85324675  0.85324675  0.85324675  0.85194805  0.85194805  0.85194805\n",
      "  0.84675325  0.84675325  0.84675325  0.85064935  0.85064935  0.85064935\n",
      "  0.84155844  0.84155844  0.84155844  0.84675325  0.84675325  0.84675325\n",
      "  0.84285714  0.84285714  0.84285714  0.84285714]\n",
      "[78 79 80]\n"
     ]
    }
   ],
   "source": [
    "from sklearn.cross_validation import cross_val_score\n",
    "import numpy as np\n",
    "from sklearn import feature_selection\n",
    "percentiles = range(1,101)\n",
    "from sklearn.linear_model import LogisticRegression\n",
    "lr = LogisticRegression()\n",
    "results = []\n",
    "for i in percentiles:\n",
    "    fs = feature_selection.SelectPercentile(feature_selection.chi2,percentile=i)\n",
    "    X_train_fs = fs.fit_transform(X_train,y_train)\n",
    "    scores = cross_val_score(lr,X_train_fs,y_train,cv=5)\n",
    "    #print(scores)\n",
    "    results = np.append(results,scores.mean())\n",
    "print(results)\n",
    "#找到性能最佳的点\n",
    "opt = np.where(results==results.max())[0]\n",
    "print(opt)\n"
   ]
  },
  {
   "cell_type": "code",
   "execution_count": 102,
   "metadata": {
    "collapsed": false
   },
   "outputs": [
    {
     "data": {
      "image/png": "[encoded data removed]",
      "text/plain": [
       "<matplotlib.figure.Figure at 0xe2af7f0>"
      ]
     },
     "metadata": {},
     "output_type": "display_data"
    }
   ],
   "source": [
    "import matplotlib.pyplot as plt\n",
    "plt.figure(figsize=(20,10))\n",
    "plt.plot(percentiles,results)\n",
    "plt.xlabel('percentiles')\n",
    "plt.ylabel('R-scored')\n",
    "plt.show()"
   ]
  },
  {
   "cell_type": "markdown",
   "metadata": {},
   "source": [
    "### 测试数据"
   ]
  },
  {
   "cell_type": "code",
   "execution_count": 39,
   "metadata": {
    "collapsed": true
   },
   "outputs": [],
   "source": [
    "test = pd.read_csv('pfm_test.csv',encoding='utf8')\n",
    "BusinessTravel = test['BusinessTravel']\n",
    "Department = test['Department']\n",
    "EducationField = test['EducationField']\n",
    "Gender = test['Gender']\n",
    "JobRole  = test['JobRole']\n",
    "MaritalStatus = test['MaritalStatus']\n",
    "Over18 = test['Over18']\n",
    "OverTime = test['OverTime']\n",
    "\n",
    "BusinessTravel_df = pd.get_dummies(BusinessTravel)\n",
    "Department_df = pd.get_dummies(Department)\n",
    "EducationField_df = pd.get_dummies(EducationField)\n",
    "Gender_df = pd.get_dummies(Gender)\n",
    "JobRole_df = pd.get_dummies(JobRole)\n",
    "MaritalStatus_df = pd.get_dummies(MaritalStatus)\n",
    "Over18_df = pd.get_dummies(Over18)\n",
    "OverTime_df = pd.get_dummies(OverTime)\n",
    "\n",
    "del test['BusinessTravel']\n",
    "del test['Department']\n",
    "del test['EducationField']\n",
    "del test['Gender']\n",
    "del test['JobRole']\n",
    "del test['MaritalStatus']\n",
    "del test['Over18']\n",
    "del test['OverTime']\n",
    "del test['EmployeeNumber']\n",
    "\n",
    "df1 = pd.concat([test,BusinessTravel_df,Department_df,EducationField_df,Gender_df,JobRole_df,MaritalStatus_df,Over18_df,OverTime_df],axis=1)\n",
    "\n",
    "del df1['Non-Travel']\n",
    "del df1['Human Resources']\n",
    "del df1['Other']\n",
    "del df1['Female']\n",
    "del df1['Research Scientist']\n",
    "del df1['Divorced']\n",
    "del df1['Y']\n",
    "del df1['No']\n",
    "\n",
    "res = cls.predict(df1[b].values)\n",
    "res_df = pd.DataFrame(res,columns=['class'])\n",
    "res_df.to_csv('res_1.csv',encoding='utf8')"
   ]
  },
  {
   "cell_type": "code",
   "execution_count": null,
   "metadata": {
    "collapsed": true
   },
   "outputs": [],
   "source": []
  }
 ],
 "metadata": {
  "kernelspec": {
   "display_name": "Python 3",
   "language": "python",
   "name": "python3"
  },
  "language_info": {
   "codemirror_mode": {
    "name": "ipython",
    "version": 3
   },
   "file_extension": ".py",
   "mimetype": "text/x-python",
   "name": "python",
   "nbconvert_exporter": "python",
   "pygments_lexer": "ipython3",
   "version": "3.6.0"
  }
 },
 "nbformat": 4,
 "nbformat_minor": 2
}
