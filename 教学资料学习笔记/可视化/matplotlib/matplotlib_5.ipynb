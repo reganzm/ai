{
 "cells": [
  {
   "cell_type": "markdown",
   "metadata": {},
   "source": [
    "# 处理日期数据"
   ]
  },
  {
   "cell_type": "code",
   "execution_count": 1,
   "metadata": {
    "collapsed": false
   },
   "outputs": [],
   "source": [
    "import matplotlib.pyplot as plt\n",
    "import pandas as pd\n",
    "import numpy as np\n",
    "import datetime"
   ]
  },
  {
   "cell_type": "code",
   "execution_count": 3,
   "metadata": {
    "collapsed": false
   },
   "outputs": [],
   "source": [
    "dates = [datetime.date(2017,10,1),datetime.date(2017,11,2),datetime.date(2017,12,3),\n",
    "        datetime.date(2017,10,7),datetime.date(2017,11,8),datetime.date(2017,12,9),\n",
    "        datetime.date(2017,10,13),datetime.date(2017,11,14),datetime.date(2017,12,15),\n",
    "        datetime.date(2017,10,19),datetime.date(2017,11,20),datetime.date(2017,12,21),\n",
    "        datetime.date(2017,10,28),datetime.date(2017,11,29),datetime.date(2017,12,30)]\n",
    "Y = np.random.random([15])*10"
   ]
  },
  {
   "cell_type": "code",
   "execution_count": 4,
   "metadata": {
    "collapsed": false
   },
   "outputs": [
    {
     "data": {
      "image/png": "[encoded data removed]",
      "text/plain": [
       "<matplotlib.figure.Figure at 0x84b8ef0>"
      ]
     },
     "metadata": {},
     "output_type": "display_data"
    }
   ],
   "source": [
    "plt.plot(dates,Y,'ro')\n",
    "plt.show()"
   ]
  },
  {
   "cell_type": "code",
   "execution_count": 8,
   "metadata": {
    "collapsed": false
   },
   "outputs": [
    {
     "data": {
      "image/png": "[encoded data removed]",
      "text/plain": [
       "<matplotlib.figure.Figure at 0x8d1c128>"
      ]
     },
     "metadata": {},
     "output_type": "display_data"
    }
   ],
   "source": [
    "#只要年和月份\n",
    "import matplotlib.dates as mdates\n",
    "months = mdates.MonthLocator()\n",
    "days = mdates.DayLocator()\n",
    "timeFormat = mdates.DateFormatter('%Y-%m')\n",
    "dates = [datetime.date(2017,10,1),datetime.date(2017,11,2),datetime.date(2017,12,3),\n",
    "        datetime.date(2017,10,7),datetime.date(2017,11,8),datetime.date(2017,12,9),\n",
    "        datetime.date(2017,10,13),datetime.date(2017,11,14),datetime.date(2017,12,15),\n",
    "        datetime.date(2017,10,19),datetime.date(2017,11,20),datetime.date(2017,12,21),\n",
    "        datetime.date(2017,10,28),datetime.date(2017,11,29),datetime.date(2017,12,30)]\n",
    "Y = np.random.random([15])*10\n",
    "figure,ax = plt.subplots()\n",
    "plt.plot(dates,Y,'ro')\n",
    "ax.xaxis.set_major_locator(months)\n",
    "ax.xaxis.set_minor_locator(days)\n",
    "ax.xaxis.set_major_formatter(timeFormat)\n",
    "plt.show()"
   ]
  },
  {
   "cell_type": "code",
   "execution_count": null,
   "metadata": {
    "collapsed": false
   },
   "outputs": [],
   "source": []
  },
  {
   "cell_type": "code",
   "execution_count": null,
   "metadata": {
    "collapsed": false
   },
   "outputs": [],
   "source": []
  },
  {
   "cell_type": "code",
   "execution_count": null,
   "metadata": {
    "collapsed": true
   },
   "outputs": [],
   "source": []
  },
  {
   "cell_type": "code",
   "execution_count": null,
   "metadata": {
    "collapsed": true
   },
   "outputs": [],
   "source": []
  }
 ],
 "metadata": {
  "kernelspec": {
   "display_name": "Python 3",
   "language": "python",
   "name": "python3"
  },
  "language_info": {
   "codemirror_mode": {
    "name": "ipython",
    "version": 3
   },
   "file_extension": ".py",
   "mimetype": "text/x-python",
   "name": "python",
   "nbconvert_exporter": "python",
   "pygments_lexer": "ipython3",
   "version": "3.6.0"
  }
 },
 "nbformat": 4,
 "nbformat_minor": 2
}
