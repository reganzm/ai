{
 "cells": [
  {
   "cell_type": "code",
   "execution_count": 6,
   "metadata": {
    "collapsed": true
   },
   "outputs": [],
   "source": [
    "import pandas as pd\n",
    "import matplotlib.pyplot as plt\n",
    "import numpy as np"
   ]
  },
  {
   "cell_type": "code",
   "execution_count": 9,
   "metadata": {
    "collapsed": false
   },
   "outputs": [],
   "source": [
    "datas = np.random.randint(0,100,1000)\n"
   ]
  },
  {
   "cell_type": "code",
   "execution_count": 10,
   "metadata": {
    "collapsed": false
   },
   "outputs": [
    {
     "data": {
      "image/png": "[encoded data removed]",
      "text/plain": [
       "<matplotlib.figure.Figure at 0x65d3e10>"
      ]
     },
     "metadata": {},
     "output_type": "display_data"
    }
   ],
   "source": [
    "#使用hist函数绘制直方图,使用bins设置面元的个数。\n",
    "plt.hist(datas,bins=25)\n",
    "plt.show()"
   ]
  },
  {
   "cell_type": "code",
   "execution_count": 11,
   "metadata": {
    "collapsed": false
   },
   "outputs": [
    {
     "data": {
      "image/png": "[encoded data removed]",
      "text/plain": [
       "<matplotlib.figure.Figure at 0x8c0e278>"
      ]
     },
     "metadata": {},
     "output_type": "display_data"
    },
    {
     "data": {
      "text/plain": [
       "(array([ 40.,  43.,  29.,  39.,  44.,  46.,  56.,  54.,  33.,  34.,  42.,\n",
       "         40.,  43.,  33.,  39.,  28.,  29.,  32.,  53.,  44.,  47.,  39.,\n",
       "         26.,  45.,  42.]),\n",
       " array([  0.  ,   3.96,   7.92,  11.88,  15.84,  19.8 ,  23.76,  27.72,\n",
       "         31.68,  35.64,  39.6 ,  43.56,  47.52,  51.48,  55.44,  59.4 ,\n",
       "         63.36,  67.32,  71.28,  75.24,  79.2 ,  83.16,  87.12,  91.08,\n",
       "         95.04,  99.  ]),\n",
       " <a list of 25 Patch objects>)"
      ]
     },
     "execution_count": 11,
     "metadata": {},
     "output_type": "execute_result"
    }
   ],
   "source": [
    "#使用hist函数绘制直方图,使用bins设置面元的个数。\n",
    "res = plt.hist(datas,bins=25)\n",
    "plt.show()\n",
    "res"
   ]
  },
  {
   "cell_type": "code",
   "execution_count": 13,
   "metadata": {
    "collapsed": false
   },
   "outputs": [
    {
     "name": "stdout",
     "output_type": "stream",
     "text": [
      "Rectangle(0,0;3.96x40)\n",
      "Rectangle(3.96,0;3.96x43)\n",
      "Rectangle(7.92,0;3.96x29)\n",
      "Rectangle(11.88,0;3.96x39)\n",
      "Rectangle(15.84,0;3.96x44)\n",
      "Rectangle(19.8,0;3.96x46)\n",
      "Rectangle(23.76,0;3.96x56)\n",
      "Rectangle(27.72,0;3.96x54)\n",
      "Rectangle(31.68,0;3.96x33)\n",
      "Rectangle(35.64,0;3.96x34)\n",
      "Rectangle(39.6,0;3.96x42)\n",
      "Rectangle(43.56,0;3.96x40)\n",
      "Rectangle(47.52,0;3.96x43)\n",
      "Rectangle(51.48,0;3.96x33)\n",
      "Rectangle(55.44,0;3.96x39)\n",
      "Rectangle(59.4,0;3.96x28)\n",
      "Rectangle(63.36,0;3.96x29)\n",
      "Rectangle(67.32,0;3.96x32)\n",
      "Rectangle(71.28,0;3.96x53)\n",
      "Rectangle(75.24,0;3.96x44)\n",
      "Rectangle(79.2,0;3.96x47)\n",
      "Rectangle(83.16,0;3.96x39)\n",
      "Rectangle(87.12,0;3.96x26)\n",
      "Rectangle(91.08,0;3.96x45)\n",
      "Rectangle(95.04,0;3.96x42)\n"
     ]
    }
   ],
   "source": [
    "for i in res[2]:\n",
    "    print(i)"
   ]
  },
  {
   "cell_type": "code",
   "execution_count": null,
   "metadata": {
    "collapsed": true
   },
   "outputs": [],
   "source": []
  }
 ],
 "metadata": {
  "kernelspec": {
   "display_name": "Python 3",
   "language": "python",
   "name": "python3"
  },
  "language_info": {
   "codemirror_mode": {
    "name": "ipython",
    "version": 3
   },
   "file_extension": ".py",
   "mimetype": "text/x-python",
   "name": "python",
   "nbconvert_exporter": "python",
   "pygments_lexer": "ipython3",
   "version": "3.6.0"
  }
 },
 "nbformat": 4,
 "nbformat_minor": 2
}
