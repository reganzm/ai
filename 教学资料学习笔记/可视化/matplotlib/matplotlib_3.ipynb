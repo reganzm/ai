{
 "cells": [
  {
   "cell_type": "code",
   "execution_count": 1,
   "metadata": {
    "collapsed": true
   },
   "outputs": [],
   "source": [
    "import matplotlib.pyplot as plt\n",
    "import numpy as np"
   ]
  },
  {
   "cell_type": "code",
   "execution_count": 2,
   "metadata": {
    "collapsed": false
   },
   "outputs": [
    {
     "data": {
      "text/plain": [
       "array([  1.        ,   1.3877551 ,   1.7755102 ,   2.16326531,\n",
       "         2.55102041,   2.93877551,   3.32653061,   3.71428571,\n",
       "         4.10204082,   4.48979592,   4.87755102,   5.26530612,\n",
       "         5.65306122,   6.04081633,   6.42857143,   6.81632653,\n",
       "         7.20408163,   7.59183673,   7.97959184,   8.36734694,\n",
       "         8.75510204,   9.14285714,   9.53061224,   9.91836735,\n",
       "        10.30612245,  10.69387755,  11.08163265,  11.46938776,\n",
       "        11.85714286,  12.24489796,  12.63265306,  13.02040816,\n",
       "        13.40816327,  13.79591837,  14.18367347,  14.57142857,\n",
       "        14.95918367,  15.34693878,  15.73469388,  16.12244898,\n",
       "        16.51020408,  16.89795918,  17.28571429,  17.67346939,\n",
       "        18.06122449,  18.44897959,  18.83673469,  19.2244898 ,\n",
       "        19.6122449 ,  20.        ])"
      ]
     },
     "execution_count": 2,
     "metadata": {},
     "output_type": "execute_result"
    }
   ],
   "source": [
    "#1到20的数组分为50份，返回一个数组\n",
    "data = np.linspace(1,20,50)\n",
    "data"
   ]
  },
  {
   "cell_type": "code",
   "execution_count": 3,
   "metadata": {
    "collapsed": true
   },
   "outputs": [],
   "source": [
    "y1 = np.log2(data)\n",
    "y2 =  np.log10(data)"
   ]
  },
  {
   "cell_type": "code",
   "execution_count": 4,
   "metadata": {
    "collapsed": false
   },
   "outputs": [
    {
     "data": {
      "image/png": "[encoded data removed]",
      "text/plain": [
       "<matplotlib.figure.Figure at 0x79569e8>"
      ]
     },
     "metadata": {},
     "output_type": "display_data"
    }
   ],
   "source": [
    "#绘图\n",
    "plt.subplot(211)\n",
    "plt.plot(data,y1,'r-.')\n",
    "plt.subplot(212)\n",
    "plt.plot(data,y2,'b--')\n",
    "plt.show()"
   ]
  },
  {
   "cell_type": "code",
   "execution_count": 5,
   "metadata": {
    "collapsed": false
   },
   "outputs": [
    {
     "data": {
      "image/png": "[encoded data removed]",
      "text/plain": [
       "<matplotlib.figure.Figure at 0x7f46d68>"
      ]
     },
     "metadata": {},
     "output_type": "display_data"
    }
   ],
   "source": [
    "#绘图\n",
    "plt.subplot(121)\n",
    "plt.plot(data,y1,'r-.')\n",
    "plt.subplot(122)\n",
    "plt.plot(data,y2,'b--')\n",
    "plt.show()"
   ]
  },
  {
   "cell_type": "code",
   "execution_count": null,
   "metadata": {
    "collapsed": true
   },
   "outputs": [],
   "source": []
  }
 ],
 "metadata": {
  "kernelspec": {
   "display_name": "Python 3",
   "language": "python",
   "name": "python3"
  },
  "language_info": {
   "codemirror_mode": {
    "name": "ipython",
    "version": 3
   },
   "file_extension": ".py",
   "mimetype": "text/x-python",
   "name": "python",
   "nbconvert_exporter": "python",
   "pygments_lexer": "ipython3",
   "version": "3.6.0"
  }
 },
 "nbformat": 4,
 "nbformat_minor": 2
}
