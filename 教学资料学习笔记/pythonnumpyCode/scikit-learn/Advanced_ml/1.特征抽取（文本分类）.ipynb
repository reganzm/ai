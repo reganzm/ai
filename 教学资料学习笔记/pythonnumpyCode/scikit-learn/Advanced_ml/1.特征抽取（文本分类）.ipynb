{
 "cells": [
  {
   "cell_type": "markdown",
   "metadata": {},
   "source": [
    "##### 原始数据的类型有很多，除了数字化数据外，还有大量符号化的文本数据，然而对于符号化的数据，我们是无法直接用于计算的，需要经过某些手段，将\n",
    "##### 文本转换为特征向量。"
   ]
  },
  {
   "cell_type": "markdown",
   "metadata": {},
   "source": [
    "##### 有些符号化的数据特征已经相对结构化，且以字典数据结构进行存储。这是我们可以用DictVectorizer对特征进行抽取和向量化"
   ]
  },
  {
   "cell_type": "markdown",
   "metadata": {},
   "source": [
    "### 1.使用DictVectorizer对字典存储的数据进行特征抽取和向量化"
   ]
  },
  {
   "cell_type": "code",
   "execution_count": 1,
   "metadata": {
    "collapsed": false
   },
   "outputs": [
    {
     "name": "stdout",
     "output_type": "stream",
     "text": [
      "[[ 26.   1.   0.]\n",
      " [ 24.   0.   1.]]\n"
     ]
    }
   ],
   "source": [
    "dic_list = [{'name':'regan','age':26},{'name':'tingting','age':24}]\n",
    "from sklearn.feature_extraction import DictVectorizer\n",
    "vec = DictVectorizer()\n",
    "#特征转换\n",
    "print(vec.fit_transform(dic_list).toarray())"
   ]
  },
  {
   "cell_type": "code",
   "execution_count": 2,
   "metadata": {
    "collapsed": false
   },
   "outputs": [
    {
     "name": "stdout",
     "output_type": "stream",
     "text": [
      "['age', 'name=regan', 'name=tingting']\n"
     ]
    }
   ],
   "source": [
    "#输出各个维度的含义\n",
    "print(vec.get_feature_names())"
   ]
  },
  {
   "cell_type": "markdown",
   "metadata": {},
   "source": [
    "###### 从上面的输出可以看到，DictVectorizer对于类型数据和数值数据特征数据的处理方式有很大的差异，由于类别型特征无法直接数字化表示，\n",
    "###### 因此需要借助原特征的名称，组合产生新的特征，并采用0/1二值化方式进行量化。而数字化特征转换相对方便，维持原特征即可\n",
    "###### 对于另外的一些存储的更加原始的数据，几乎没有使用特殊的存储结构来做存储，只是一系列的字符串，处理这些数据比较常用的文本处理方法为词袋法\n",
    "###### bog of words。顾名思义，不考虑词语的出现顺序，只是将训练文本中每个出现过的词汇单独视为一列特征，我们称这些不重合的词汇的集合为词表###### vocabulary。因此对于每条训练文本，都可以在高维度的次表上面映射出一个特征向量。而特征数值的常见计算方式有两种：1.CountVectorizer和###### TfidfVectorizer。对于每一条训练样本，CountVectorizer只考虑每种词汇term在当前文本中出现的频率。Term Frequency。而TfidfVectorizer除了考虑###### 每个term在当前文本中出现的频率以外，同时要关注包含这个词汇的文本条数的倒数。Inverse Document Frequency.对比之下，训练样本越多\n",
    "###### TfidfVectorizer这种方式就更加有优势。"
   ]
  },
  {
   "cell_type": "markdown",
   "metadata": {},
   "source": [
    "###### 因为我们计算词频的目的在于找出对于所有文本的含义更有贡献的词汇。如果一个词汇几乎在每一个文档中都有出现，说明这是一个常用词汇，\n",
    "###### 反而对模型的分类没有任何的贡献。在训练文本较多的时候，利用TfidfVectorizer压制常用词汇对分类决策的干扰，往往可以提升模型的性能。"
   ]
  },
  {
   "cell_type": "markdown",
   "metadata": {},
   "source": [
    "##### 在文本挖掘中，常用的词汇如中文的你我他，英文的the,a等被称之为停用词stop words,这些停用词在文本特征的抽取中，经常以黑名单的方式过滤掉\n",
    "##### 去掉停用词往往能提升模型的性能"
   ]
  },
  {
   "cell_type": "markdown",
   "metadata": {},
   "source": [
    "### 1.使用CountVectorizer对文本进行特征抽取，使用朴素贝叶斯模型进行文本分类【不去除停用词】"
   ]
  },
  {
   "cell_type": "code",
   "execution_count": 5,
   "metadata": {
    "collapsed": false
   },
   "outputs": [],
   "source": [
    "from sklearn.datasets import fetch_20newsgroups\n",
    "news = fetch_20newsgroups(subset='all')"
   ]
  },
  {
   "cell_type": "code",
   "execution_count": 6,
   "metadata": {
    "collapsed": false
   },
   "outputs": [
    {
     "name": "stderr",
     "output_type": "stream",
     "text": [
      "D:\\softwares\\Anaconda3\\lib\\site-packages\\sklearn\\cross_validation.py:41: DeprecationWarning: This module was deprecated in version 0.18 in favor of the model_selection module into which all the refactored classes and functions are moved. Also note that the interface of the new CV iterators are different from that of this module. This module will be removed in 0.20.\n",
      "  \"This module will be removed in 0.20.\", DeprecationWarning)\n"
     ]
    }
   ],
   "source": [
    "#分割数据\n",
    "from sklearn.cross_validation import train_test_split\n",
    "x_train,x_test,y_train,y_test = train_test_split(news.data,news.target,test_size=0.25,random_state=123)"
   ]
  },
  {
   "cell_type": "code",
   "execution_count": 7,
   "metadata": {
    "collapsed": true
   },
   "outputs": [],
   "source": [
    "from sklearn.feature_extraction.text import CountVectorizer\n",
    "count_vec = CountVectorizer()\n",
    "#只是用词频的方式对训练数据和测试数据进行向量化特征抽取\n",
    "x_train_vec = count_vec.fit_transform(x_train)\n",
    "x_test_vec = count_vec.transform(x_test)"
   ]
  },
  {
   "cell_type": "code",
   "execution_count": 9,
   "metadata": {
    "collapsed": false
   },
   "outputs": [
    {
     "data": {
      "text/plain": [
       "<14134x145769 sparse matrix of type '<class 'numpy.int64'>'\n",
       "\twith 2214714 stored elements in Compressed Sparse Row format>"
      ]
     },
     "execution_count": 9,
     "metadata": {},
     "output_type": "execute_result"
    }
   ],
   "source": [
    "x_train_vec"
   ]
  },
  {
   "cell_type": "code",
   "execution_count": 10,
   "metadata": {
    "collapsed": false
   },
   "outputs": [],
   "source": [
    "#导入朴素贝叶斯分类器\n",
    "from sklearn.naive_bayes import MultinomialNB\n",
    "mnb = MultinomialNB()\n",
    "mnb.fit(x_train_vec,y_train)\n",
    "mnb_predict = mnb.predict(x_test_vec)"
   ]
  },
  {
   "cell_type": "code",
   "execution_count": 12,
   "metadata": {
    "collapsed": false
   },
   "outputs": [
    {
     "name": "stdout",
     "output_type": "stream",
     "text": [
      "朴素贝叶斯Accuracy : 0.850594227504\n"
     ]
    }
   ],
   "source": [
    "#查看模型性能\n",
    "print('朴素贝叶斯Accuracy : %s'%(mnb.score(x_test_vec,y_test)))"
   ]
  },
  {
   "cell_type": "code",
   "execution_count": 13,
   "metadata": {
    "collapsed": false
   },
   "outputs": [
    {
     "name": "stdout",
     "output_type": "stream",
     "text": [
      "朴素贝叶斯文本分类性能指标：\n",
      "                           precision    recall  f1-score   support\n",
      "\n",
      "             alt.atheism       0.91      0.83      0.87       185\n",
      "           comp.graphics       0.88      0.63      0.73       326\n",
      " comp.os.ms-windows.misc       0.15      0.95      0.26        38\n",
      "comp.sys.ibm.pc.hardware       0.84      0.69      0.76       293\n",
      "   comp.sys.mac.hardware       0.85      0.93      0.89       228\n",
      "          comp.windows.x       0.90      0.72      0.80       301\n",
      "            misc.forsale       0.70      0.94      0.80       185\n",
      "               rec.autos       0.93      0.88      0.90       245\n",
      "         rec.motorcycles       0.92      0.98      0.95       256\n",
      "      rec.sport.baseball       0.95      0.94      0.95       247\n",
      "        rec.sport.hockey       0.96      0.97      0.96       240\n",
      "               sci.crypt       0.98      0.80      0.88       287\n",
      "         sci.electronics       0.82      0.88      0.85       231\n",
      "                 sci.med       0.94      0.95      0.94       255\n",
      "               sci.space       0.96      0.93      0.95       264\n",
      "  soc.religion.christian       0.99      0.80      0.88       327\n",
      "      talk.politics.guns       0.94      0.83      0.88       269\n",
      "   talk.politics.mideast       0.97      0.90      0.93       249\n",
      "      talk.politics.misc       0.85      0.84      0.84       213\n",
      "      talk.religion.misc       0.45      1.00      0.62        73\n",
      "\n",
      "             avg / total       0.90      0.85      0.86      4712\n",
      "\n"
     ]
    }
   ],
   "source": [
    "#使用classification_report计算性能指标，混淆矩阵，准确率，精确率，召回率\n",
    "from sklearn.metrics import classification_report\n",
    "print(\"朴素贝叶斯文本分类性能指标：\\n\",classification_report(mnb_predict,y_test,target_names=news.target_names))"
   ]
  },
  {
   "cell_type": "code",
   "execution_count": 30,
   "metadata": {
    "collapsed": true
   },
   "outputs": [],
   "source": [
    "## 上面的输出结果性能在86%左右"
   ]
  },
  {
   "cell_type": "markdown",
   "metadata": {},
   "source": [
    "### 使用TfidfVectorizer对文本进行量化，和CountVectorizer进行性能对比"
   ]
  },
  {
   "cell_type": "code",
   "execution_count": 14,
   "metadata": {
    "collapsed": false
   },
   "outputs": [],
   "source": [
    "from sklearn.feature_extraction.text import TfidfVectorizer\n",
    "tfidf = TfidfVectorizer()\n",
    "tfidf_x_trian = tfidf.fit_transform(x_train)\n",
    "tfidf_x_test = tfidf.transform(x_test)"
   ]
  },
  {
   "cell_type": "code",
   "execution_count": 15,
   "metadata": {
    "collapsed": false
   },
   "outputs": [],
   "source": [
    "#使用朴素贝叶斯模型进行预测\n",
    "from sklearn.naive_bayes import MultinomialNB\n",
    "mnb = MultinomialNB()\n",
    "mnb.fit(tfidf_x_trian,y_train)\n",
    "mnb_predict_tfidf = mnb.predict(tfidf_x_test)"
   ]
  },
  {
   "cell_type": "code",
   "execution_count": 16,
   "metadata": {
    "collapsed": false
   },
   "outputs": [
    {
     "name": "stdout",
     "output_type": "stream",
     "text": [
      "TfidfVectorizer 朴素贝叶斯 Accuracy : 0.847198641766\n"
     ]
    }
   ],
   "source": [
    "#性能度量\n",
    "#查看模型性能\n",
    "print('TfidfVectorizer 朴素贝叶斯 Accuracy : %s'%(mnb.score(tfidf_x_test,y_test)))"
   ]
  },
  {
   "cell_type": "code",
   "execution_count": 17,
   "metadata": {
    "collapsed": false
   },
   "outputs": [
    {
     "name": "stdout",
     "output_type": "stream",
     "text": [
      "朴素贝叶斯文本分类性能指标：\n",
      "                           precision    recall  f1-score   support\n",
      "\n",
      "             alt.atheism       0.80      0.82      0.81       165\n",
      "           comp.graphics       0.77      0.87      0.82       208\n",
      " comp.os.ms-windows.misc       0.86      0.85      0.85       244\n",
      "comp.sys.ibm.pc.hardware       0.85      0.78      0.81       262\n",
      "   comp.sys.mac.hardware       0.83      0.95      0.88       215\n",
      "          comp.windows.x       0.83      0.94      0.88       211\n",
      "            misc.forsale       0.68      0.95      0.79       179\n",
      "               rec.autos       0.92      0.85      0.89       252\n",
      "         rec.motorcycles       0.94      0.97      0.95       264\n",
      "      rec.sport.baseball       0.95      0.94      0.94       247\n",
      "        rec.sport.hockey       0.98      0.92      0.95       257\n",
      "               sci.crypt       0.99      0.67      0.80       346\n",
      "         sci.electronics       0.81      0.89      0.85       226\n",
      "                 sci.med       0.88      0.98      0.93       232\n",
      "               sci.space       0.98      0.92      0.94       272\n",
      "  soc.religion.christian       0.99      0.59      0.74       445\n",
      "      talk.politics.guns       0.95      0.73      0.82       310\n",
      "   talk.politics.mideast       0.98      0.92      0.95       245\n",
      "      talk.politics.misc       0.48      0.98      0.65       103\n",
      "      talk.religion.misc       0.18      1.00      0.30        29\n",
      "\n",
      "             avg / total       0.89      0.85      0.85      4712\n",
      "\n"
     ]
    }
   ],
   "source": [
    "from sklearn.metrics import classification_report\n",
    "print(\"朴素贝叶斯文本分类性能指标：\\n\",classification_report(mnb_predict_tfidf,y_test,target_names=news.target_names))"
   ]
  },
  {
   "cell_type": "code",
   "execution_count": 52,
   "metadata": {
    "collapsed": true
   },
   "outputs": [],
   "source": [
    "### 从结果来看CountVectorizer和TfidfVectorizer性能相当，但TFIDFVectorizer在多文档文本分类中是被首先推荐使用的"
   ]
  },
  {
   "cell_type": "code",
   "execution_count": 53,
   "metadata": {
    "collapsed": true
   },
   "outputs": [],
   "source": [
    "#上面的测试都没有去掉停用词，那我们去掉停用词在此对比两种文本特征向量化的方式对文本分类的影响"
   ]
  },
  {
   "cell_type": "code",
   "execution_count": 18,
   "metadata": {
    "collapsed": true
   },
   "outputs": [],
   "source": [
    "from sklearn.datasets import fetch_20newsgroups\n",
    "news = fetch_20newsgroups(subset='all')\n",
    "#分割数据\n",
    "from sklearn.cross_validation import train_test_split\n",
    "x_train,x_test,y_train,y_test = train_test_split(news.data,news.target,test_size=0.25,random_state=123)"
   ]
  },
  {
   "cell_type": "code",
   "execution_count": 19,
   "metadata": {
    "collapsed": true
   },
   "outputs": [],
   "source": [
    "#使用CountVectorizer\n",
    "count_vec = CountVectorizer(analyzer='word',stop_words='english')\n",
    "#使用TfidfVectorizer\n",
    "tfidf_vec = TfidfVectorizer(analyzer='word',stop_words='english')"
   ]
  },
  {
   "cell_type": "code",
   "execution_count": 20,
   "metadata": {
    "collapsed": true
   },
   "outputs": [],
   "source": [
    "#对训练样本和测试样本进行向量处理\n",
    "x_train_count = count_vec.fit_transform(x_train)\n",
    "x_test_count = count_vec.transform(x_test)\n",
    "\n",
    "x_train_tfidf = tfidf_vec.fit_transform(x_train)\n",
    "x_test_tfidf = tfidf_vec.transform(x_test)"
   ]
  },
  {
   "cell_type": "code",
   "execution_count": 21,
   "metadata": {
    "collapsed": false
   },
   "outputs": [],
   "source": [
    "#用朴素贝叶斯模型进行分类\n",
    "mnb_count = MultinomialNB()\n",
    "mnb_count.fit(x_train_count,y_train)\n",
    "mnb_count_predict = mnb_count.predict(x_test_count)\n",
    "\n",
    "mnb_tfidf = MultinomialNB()\n",
    "mnb_tfidf.fit(x_train_tfidf,y_train)\n",
    "mnb_tfidf_predict = mnb_tfidf.predict(x_test_tfidf)"
   ]
  },
  {
   "cell_type": "code",
   "execution_count": 24,
   "metadata": {
    "collapsed": false
   },
   "outputs": [
    {
     "name": "stdout",
     "output_type": "stream",
     "text": [
      "CountVectorizer 朴素贝叶斯模型 Accuracy: 0.873302207131\n"
     ]
    }
   ],
   "source": [
    "#性能\n",
    "print('CountVectorizer 朴素贝叶斯模型 Accuracy: %s'%(mnb_count.score(x_test_count,y_test)))"
   ]
  },
  {
   "cell_type": "code",
   "execution_count": 25,
   "metadata": {
    "collapsed": false
   },
   "outputs": [
    {
     "name": "stdout",
     "output_type": "stream",
     "text": [
      "TfidfVectorizer 朴素贝叶斯模型 Accuracy: 0.879244482173\n"
     ]
    }
   ],
   "source": [
    "print('TfidfVectorizer 朴素贝叶斯模型 Accuracy: %s'%(mnb_tfidf.score(x_test_tfidf,y_test)))"
   ]
  },
  {
   "cell_type": "code",
   "execution_count": 26,
   "metadata": {
    "collapsed": false
   },
   "outputs": [
    {
     "name": "stdout",
     "output_type": "stream",
     "text": [
      "CountVectorizer :\n",
      "                           precision    recall  f1-score   support\n",
      "\n",
      "             alt.atheism       0.94      0.84      0.89       190\n",
      "           comp.graphics       0.89      0.66      0.76       315\n",
      " comp.os.ms-windows.misc       0.26      0.95      0.41        66\n",
      "comp.sys.ibm.pc.hardware       0.86      0.71      0.78       292\n",
      "   comp.sys.mac.hardware       0.86      0.92      0.89       231\n",
      "          comp.windows.x       0.90      0.73      0.80       297\n",
      "            misc.forsale       0.80      0.91      0.85       218\n",
      "               rec.autos       0.92      0.89      0.91       241\n",
      "         rec.motorcycles       0.93      0.97      0.95       262\n",
      "      rec.sport.baseball       0.95      0.95      0.95       245\n",
      "        rec.sport.hockey       0.98      0.95      0.96       249\n",
      "               sci.crypt       0.97      0.92      0.94       250\n",
      "         sci.electronics       0.86      0.90      0.88       236\n",
      "                 sci.med       0.94      0.95      0.95       255\n",
      "               sci.space       0.98      0.93      0.95       270\n",
      "  soc.religion.christian       0.98      0.89      0.94       290\n",
      "      talk.politics.guns       0.95      0.83      0.88       273\n",
      "   talk.politics.mideast       0.99      0.95      0.97       239\n",
      "      talk.politics.misc       0.84      0.89      0.86       200\n",
      "      talk.religion.misc       0.54      0.96      0.69        93\n",
      "\n",
      "             avg / total       0.90      0.87      0.88      4712\n",
      "\n",
      "TfidfVectorizer :\n",
      "                           precision    recall  f1-score   support\n",
      "\n",
      "             alt.atheism       0.89      0.84      0.86       180\n",
      "           comp.graphics       0.84      0.84      0.84       231\n",
      " comp.os.ms-windows.misc       0.86      0.85      0.86       245\n",
      "comp.sys.ibm.pc.hardware       0.86      0.78      0.82       265\n",
      "   comp.sys.mac.hardware       0.84      0.95      0.89       218\n",
      "          comp.windows.x       0.89      0.90      0.89       237\n",
      "            misc.forsale       0.78      0.91      0.84       214\n",
      "               rec.autos       0.92      0.90      0.91       240\n",
      "         rec.motorcycles       0.95      0.96      0.96       271\n",
      "      rec.sport.baseball       0.95      0.94      0.94       246\n",
      "        rec.sport.hockey       0.98      0.90      0.94       262\n",
      "               sci.crypt       0.99      0.84      0.91       275\n",
      "         sci.electronics       0.85      0.91      0.88       229\n",
      "                 sci.med       0.92      0.98      0.95       244\n",
      "               sci.space       0.98      0.92      0.95       272\n",
      "  soc.religion.christian       0.98      0.75      0.85       345\n",
      "      talk.politics.guns       0.96      0.74      0.84       310\n",
      "   talk.politics.mideast       0.99      0.93      0.96       243\n",
      "      talk.politics.misc       0.63      0.96      0.76       137\n",
      "      talk.religion.misc       0.29      1.00      0.45        48\n",
      "\n",
      "             avg / total       0.90      0.88      0.89      4712\n",
      "\n"
     ]
    }
   ],
   "source": [
    "print(\"CountVectorizer :\\n\",classification_report(mnb_count_predict,y_test,target_names=news.target_names))\n",
    "\n",
    "print(\"TfidfVectorizer :\\n\",classification_report(mnb_tfidf_predict,y_test,target_names=news.target_names))"
   ]
  },
  {
   "cell_type": "code",
   "execution_count": null,
   "metadata": {
    "collapsed": true
   },
   "outputs": [],
   "source": [
    "#去掉停用词之后，可以看到TfidfVectorizer这种向量化方式性能为87.9%,高于CountVectorizer，去掉停用词之后平均性能提高2%~5%"
   ]
  }
 ],
 "metadata": {
  "kernelspec": {
   "display_name": "Python 3",
   "language": "python",
   "name": "python3"
  },
  "language_info": {
   "codemirror_mode": {
    "name": "ipython",
    "version": 3
   },
   "file_extension": ".py",
   "mimetype": "text/x-python",
   "name": "python",
   "nbconvert_exporter": "python",
   "pygments_lexer": "ipython3",
   "version": "3.6.0"
  }
 },
 "nbformat": 4,
 "nbformat_minor": 2
}
