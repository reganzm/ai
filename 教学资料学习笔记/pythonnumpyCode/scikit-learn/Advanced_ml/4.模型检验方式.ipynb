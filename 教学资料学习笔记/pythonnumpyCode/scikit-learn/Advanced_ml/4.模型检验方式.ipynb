{
 "cells": [
  {
   "cell_type": "markdown",
   "metadata": {},
   "source": [
    "### 根据验证流程复杂度的不同，验证方式分为留一验证与交叉验证"
   ]
  },
  {
   "cell_type": "markdown",
   "metadata": {},
   "source": [
    "### 留一验证"
   ]
  },
  {
   "cell_type": "markdown",
   "metadata": {},
   "source": [
    "##### 从任务提供的数据中，随机采样一定比例作为训练集，剩下的留作“验证”。通常比例为7:3,70%作为训练集，30%作为验证集。但是通过这一验证方法\n",
    "##### 优化的模型性能不稳定，原因在于对验证集随机采样的不确定性。"
   ]
  },
  {
   "cell_type": "markdown",
   "metadata": {},
   "source": [
    "### 交叉验证"
   ]
  },
  {
   "cell_type": "markdown",
   "metadata": {},
   "source": [
    "##### 交叉验证 K-fold cross validation 可以理解为从事了多次留一验证的过程。\n",
    "##### 每次检验所使用的验证集是互斥的，并要保证每一条可用数据都被模型验证过\n",
    "##### 通常K=5\n",
    "##### 全部数据被随机分为平均数量的5组，每次迭代都选取其中一组数据作为验证集。\n",
    "##### 其好处是可以保证每条数据都被训练和验证的机会"
   ]
  },
  {
   "cell_type": "code",
   "execution_count": null,
   "metadata": {
    "collapsed": true
   },
   "outputs": [],
   "source": []
  }
 ],
 "metadata": {
  "kernelspec": {
   "display_name": "Python 3",
   "language": "python",
   "name": "python3"
  },
  "language_info": {
   "codemirror_mode": {
    "name": "ipython",
    "version": 3
   },
   "file_extension": ".py",
   "mimetype": "text/x-python",
   "name": "python",
   "nbconvert_exporter": "python",
   "pygments_lexer": "ipython3",
   "version": "3.6.0"
  }
 },
 "nbformat": 4,
 "nbformat_minor": 2
}
