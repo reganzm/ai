{
 "cells": [
  {
   "cell_type": "markdown",
   "metadata": {},
   "source": [
    "##### 回归树在选择不同特征作为分裂节点的策略上，与决策树的思路类似。不同之处是回归树的叶节点数据类型不是离散的数据类型，而是连续的。\n"
   ]
  },
  {
   "cell_type": "markdown",
   "metadata": {},
   "source": [
    "##### 使用回归树预测波士顿房价"
   ]
  },
  {
   "cell_type": "markdown",
   "metadata": {},
   "source": [
    "### 1.加载数据\n"
   ]
  },
  {
   "cell_type": "code",
   "execution_count": 21,
   "metadata": {
    "collapsed": true
   },
   "outputs": [],
   "source": [
    "from sklearn.datasets import load_boston\n",
    "df = load_boston()"
   ]
  },
  {
   "cell_type": "markdown",
   "metadata": {},
   "source": [
    "### 2.拆分数据"
   ]
  },
  {
   "cell_type": "code",
   "execution_count": 22,
   "metadata": {
    "collapsed": false
   },
   "outputs": [],
   "source": [
    "from sklearn.cross_validation import train_test_split\n",
    "x_train,x_test,y_train,y_test = train_test_split(df.data,df.target,test_size=0.25,random_state=123)"
   ]
  },
  {
   "cell_type": "markdown",
   "metadata": {},
   "source": [
    "### 3.标准化数据"
   ]
  },
  {
   "cell_type": "code",
   "execution_count": 23,
   "metadata": {
    "collapsed": false
   },
   "outputs": [],
   "source": [
    "from sklearn.preprocessing import StandardScaler\n",
    "ss_X = StandardScaler()\n",
    "ss_Y = StandardScaler()\n",
    "\n",
    "#x_train = ss_X.fit_transform(x_train)\n",
    "#x_test = ss_X.transform(x_test)\n",
    "\n",
    "#y_train = ss_Y.fit_transform(y_train.reshape(-1,1))\n",
    "#y_test = ss_Y.transform(y_test.reshape(-1,1))"
   ]
  },
  {
   "cell_type": "markdown",
   "metadata": {},
   "source": [
    "### 4.使用回归树预测房价"
   ]
  },
  {
   "cell_type": "code",
   "execution_count": 24,
   "metadata": {
    "collapsed": true
   },
   "outputs": [],
   "source": [
    "from sklearn.tree import DecisionTreeRegressor\n",
    "dtr = DecisionTreeRegressor(max_depth=4)\n",
    "dtr.fit(x_train,y_train)\n",
    "dtr_predict = dtr.predict(x_test)"
   ]
  },
  {
   "cell_type": "markdown",
   "metadata": {},
   "source": [
    "### 5.性能评估"
   ]
  },
  {
   "cell_type": "code",
   "execution_count": 25,
   "metadata": {
    "collapsed": false
   },
   "outputs": [
    {
     "name": "stdout",
     "output_type": "stream",
     "text": [
      "回归树的\n",
      "R-squared:0.565344152157,MAE:3.16710084975,MSE:34.3127054774\n"
     ]
    }
   ],
   "source": [
    "from sklearn.metrics import r2_score,mean_absolute_error,mean_squared_error\n",
    "print('回归树的\\nR-squared:%s,MAE:%s,MSE:%s'%(dtr.score(x_test,y_test),mean_absolute_error(dtr_predict,y_test),\n",
    "                                               mean_squared_error(dtr_predict,y_test)))"
   ]
  },
  {
   "cell_type": "markdown",
   "metadata": {},
   "source": [
    "### 6.特点分析"
   ]
  },
  {
   "cell_type": "markdown",
   "metadata": {},
   "source": [
    "### 优点"
   ]
  },
  {
   "cell_type": "markdown",
   "metadata": {},
   "source": [
    "##### 1.树形模型可以解决非线性特征的问题\n",
    "##### 2.树形模型不要求对特征标准化或统一量化，数值和类别型特征都可以直接应用到树模型的构建和预测过程中\n",
    "##### 3.树形模型可以直观的输出决策过程，使得预测结果具有可解释性"
   ]
  },
  {
   "cell_type": "markdown",
   "metadata": {},
   "source": [
    "### 缺点"
   ]
  },
  {
   "cell_type": "markdown",
   "metadata": {},
   "source": [
    "##### 1.因为树形模型可以解决复杂的非线性拟合问题，所以更容易因为模型搭建更加复杂而丧失对新数据的预测精度（泛化能力弱，易过拟合）\n",
    "##### 2.树模型从上至下的预测流程会因为数据细微的更改而发生较大的结构变化，因此预测稳定性低\n",
    "##### 3.依托树形模型构建最佳的模型是NP难题，在有限的时间内无法找到最优解。因此我们使用类似贪婪算法的解法只能找到一些次优解，这也是\n",
    "#####   我们为什么借助集成模型，在多个次优解中寻找更高性能的模型"
   ]
  },
  {
   "cell_type": "code",
   "execution_count": null,
   "metadata": {
    "collapsed": true
   },
   "outputs": [],
   "source": []
  }
 ],
 "metadata": {
  "kernelspec": {
   "display_name": "Python 3",
   "language": "python",
   "name": "python3"
  },
  "language_info": {
   "codemirror_mode": {
    "name": "ipython",
    "version": 3
   },
   "file_extension": ".py",
   "mimetype": "text/x-python",
   "name": "python",
   "nbconvert_exporter": "python",
   "pygments_lexer": "ipython3",
   "version": "3.6.0"
  }
 },
 "nbformat": 4,
 "nbformat_minor": 2
}
