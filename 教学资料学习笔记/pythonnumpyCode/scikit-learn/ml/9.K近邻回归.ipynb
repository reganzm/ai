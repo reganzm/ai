{
 "cells": [
  {
   "cell_type": "markdown",
   "metadata": {},
   "source": [
    "##### K近邻算法模型的特点是不需要训练参数。前面学过的K近邻分类任务中，算法只是关注K个最近的样本的标签来做决策，在K近邻回归中也是相同的思想\n",
    "##### 借助K个最近的样本来辅助做决策。这里的决策方式有两种：\n",
    "##### 1.对K个近邻值计算算数平均数\n",
    "##### 2.考虑距离的差异计算加权平均"
   ]
  },
  {
   "cell_type": "markdown",
   "metadata": {},
   "source": [
    "###### 使用两种不同的K近邻回归算法预测波士顿房价"
   ]
  },
  {
   "cell_type": "markdown",
   "metadata": {},
   "source": [
    "### 1.导入数据"
   ]
  },
  {
   "cell_type": "code",
   "execution_count": 1,
   "metadata": {
    "collapsed": false
   },
   "outputs": [],
   "source": [
    "from sklearn.datasets import load_boston\n",
    "df = load_boston()"
   ]
  },
  {
   "cell_type": "markdown",
   "metadata": {},
   "source": [
    "### 2.划分训练集和测试集"
   ]
  },
  {
   "cell_type": "code",
   "execution_count": 2,
   "metadata": {
    "collapsed": false
   },
   "outputs": [
    {
     "name": "stderr",
     "output_type": "stream",
     "text": [
      "D:\\softwares\\Anaconda3\\lib\\site-packages\\sklearn\\cross_validation.py:41: DeprecationWarning: This module was deprecated in version 0.18 in favor of the model_selection module into which all the refactored classes and functions are moved. Also note that the interface of the new CV iterators are different from that of this module. This module will be removed in 0.20.\n",
      "  \"This module will be removed in 0.20.\", DeprecationWarning)\n"
     ]
    }
   ],
   "source": [
    "from sklearn.cross_validation import train_test_split\n",
    "x_train,x_test,y_train,y_test = train_test_split(df.data,df.target,test_size=0.25,random_state=123)"
   ]
  },
  {
   "cell_type": "markdown",
   "metadata": {},
   "source": [
    "### 3.对数据进行标准化处理"
   ]
  },
  {
   "cell_type": "code",
   "execution_count": 3,
   "metadata": {
    "collapsed": false
   },
   "outputs": [],
   "source": [
    "from sklearn.preprocessing import StandardScaler\n",
    "ss_X = StandardScaler()\n",
    "ss_Y = StandardScaler()\n",
    "\n",
    "x_train = ss_X.fit_transform(x_train)\n",
    "x_test  = ss_X.transform(x_test)\n",
    "\n",
    "y_train = ss_Y.fit_transform(y_train.reshape(-1,1))\n",
    "y_test  = ss_Y.transform(y_test.reshape(-1,1))"
   ]
  },
  {
   "cell_type": "markdown",
   "metadata": {},
   "source": [
    "### 4.使用K近邻回归器对房价数据进行预测"
   ]
  },
  {
   "cell_type": "code",
   "execution_count": 5,
   "metadata": {
    "collapsed": false
   },
   "outputs": [],
   "source": [
    "from sklearn.neighbors import KNeighborsRegressor\n",
    "#使用平均值\n",
    "knr_uniform = KNeighborsRegressor(weights='uniform',n_neighbors=5)\n",
    "knr_uniform.fit(x_train,y_train)\n",
    "knr_uniform_predict = knr_uniform.predict(x_test)\n",
    "\n",
    "#使用距离加权平均\n",
    "knr_distance = KNeighborsRegressor(weights='distance',n_neighbors=5)\n",
    "knr_distance.fit(x_train,y_train)\n",
    "knr_distance_predict = knr_distance.predict(x_test)"
   ]
  },
  {
   "cell_type": "markdown",
   "metadata": {},
   "source": [
    "### 5.性能评估"
   ]
  },
  {
   "cell_type": "code",
   "execution_count": 6,
   "metadata": {
    "collapsed": false
   },
   "outputs": [
    {
     "name": "stdout",
     "output_type": "stream",
     "text": [
      "平均回归方式的KNN的\n",
      "R-squared:0.708147737002,MAE:0.315640563308,MSE:0.267189558961\n",
      "加权平均回归方式的KNN的\n",
      "R-squared:0.764442026598,MAE:0.293790676113,MSE:0.215652365948\n"
     ]
    }
   ],
   "source": [
    "from sklearn.metrics import r2_score,mean_absolute_error,mean_squared_error\n",
    "print('平均回归方式的KNN的\\nR-squared:%s,MAE:%s,MSE:%s'%(knr_uniform.score(x_test,y_test),mean_absolute_error(knr_uniform_predict,y_test),\n",
    "                                               mean_squared_error(knr_uniform_predict,y_test)))\n",
    "\n",
    "print('加权平均回归方式的KNN的\\nR-squared:%s,MAE:%s,MSE:%s'%(knr_distance.score(x_test,y_test),\n",
    "                                                   mean_absolute_error(knr_distance_predict,y_test),\n",
    "                                               mean_squared_error(knr_distance_predict,y_test)))"
   ]
  },
  {
   "cell_type": "markdown",
   "metadata": {},
   "source": [
    "### 6.特点分析"
   ]
  },
  {
   "cell_type": "markdown",
   "metadata": {},
   "source": [
    "##### 从上面的结果可以看到，采用加权平均的方式预测的结果是比较好的。KNN分类与KNN回归均属于无参数模型，都没有参数训练过程"
   ]
  },
  {
   "cell_type": "code",
   "execution_count": null,
   "metadata": {
    "collapsed": true
   },
   "outputs": [],
   "source": []
  }
 ],
 "metadata": {
  "kernelspec": {
   "display_name": "Python 3",
   "language": "python",
   "name": "python3"
  },
  "language_info": {
   "codemirror_mode": {
    "name": "ipython",
    "version": 3
   },
   "file_extension": ".py",
   "mimetype": "text/x-python",
   "name": "python",
   "nbconvert_exporter": "python",
   "pygments_lexer": "ipython3",
   "version": "3.6.0"
  }
 },
 "nbformat": 4,
 "nbformat_minor": 2
}
