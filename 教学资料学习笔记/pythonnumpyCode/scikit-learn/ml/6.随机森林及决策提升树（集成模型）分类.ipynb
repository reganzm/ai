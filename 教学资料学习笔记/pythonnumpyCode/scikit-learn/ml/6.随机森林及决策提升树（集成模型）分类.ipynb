{
 "cells": [
  {
   "cell_type": "markdown",
   "metadata": {},
   "source": [
    "#### 集成Ensumle分类模型是综合考量多个分类器的预测结果，从而做出决策。“综合考量”的方式大体有两种。\n",
    "##### a.使用相同的训练数据，同时搭建多个独立的分类模型，然后以投票的方式，以少数服从多数的原则做出最终的分类决策。\n",
    "##### 比较有代表性的是随机森林算法。但是一株标准的决策树会根据每维特征对预测结果的影响程度进行排序，\n",
    "##### 进而决定不同特征从上至下构建分裂节点的顺序。\n",
    "#### 这样的话，每次构建的都是同一棵树，为了避免这一点，随机深林算法放弃固有的排序算法，转而随机选取特征，这也是随机森林名字的由来"
   ]
  },
  {
   "cell_type": "markdown",
   "metadata": {},
   "source": [
    "##### b.另一种是按照一定的次序搭建多个分类模型，这些模型彼此存在相互依赖关系，每一个后续模型的加入都需要对当前的模型综合性能有所贡献。\n",
    "#####     进而不断提升更新过后的模型的性能。这一类的代表是梯度提升树Gradient Tree Boosting。与随机森林不同的是，这里面每一棵树在生成的过程中\n",
    "#####     都会尽可能降低整体模型在训练集上的拟合误差"
   ]
  },
  {
   "cell_type": "markdown",
   "metadata": {},
   "source": [
    "## 使用随机深林和梯度提升树继续对泰坦尼克号沉船事件数据进行分类预测"
   ]
  },
  {
   "cell_type": "markdown",
   "metadata": {},
   "source": [
    "### 1.导入数据"
   ]
  },
  {
   "cell_type": "code",
   "execution_count": 1,
   "metadata": {
    "collapsed": true
   },
   "outputs": [],
   "source": [
    "import pandas as pd\n",
    "df = pd.read_csv('http://biostat.mc.vanderbilt.edu/wiki/pub/Main/DataSets/titanic.txt')"
   ]
  },
  {
   "cell_type": "code",
   "execution_count": 2,
   "metadata": {
    "collapsed": false
   },
   "outputs": [
    {
     "name": "stdout",
     "output_type": "stream",
     "text": [
      "<class 'pandas.core.frame.DataFrame'>\n",
      "RangeIndex: 1313 entries, 0 to 1312\n",
      "Data columns (total 11 columns):\n",
      "row.names    1313 non-null int64\n",
      "pclass       1313 non-null object\n",
      "survived     1313 non-null int64\n",
      "name         1313 non-null object\n",
      "age          633 non-null float64\n",
      "embarked     821 non-null object\n",
      "home.dest    754 non-null object\n",
      "room         77 non-null object\n",
      "ticket       69 non-null object\n",
      "boat         347 non-null object\n",
      "sex          1313 non-null object\n",
      "dtypes: float64(1), int64(2), object(8)\n",
      "memory usage: 112.9+ KB\n"
     ]
    }
   ],
   "source": [
    "#查看数据基本信息\n",
    "df.info()"
   ]
  },
  {
   "cell_type": "markdown",
   "metadata": {},
   "source": [
    "### 2.使用pclass,age,sex来预测船员的生存状况"
   ]
  },
  {
   "cell_type": "code",
   "execution_count": 3,
   "metadata": {
    "collapsed": false
   },
   "outputs": [
    {
     "name": "stdout",
     "output_type": "stream",
     "text": [
      "<class 'pandas.core.frame.DataFrame'>\n",
      "RangeIndex: 1313 entries, 0 to 1312\n",
      "Data columns (total 3 columns):\n",
      "pclass    1313 non-null object\n",
      "sex       1313 non-null object\n",
      "age       633 non-null float64\n",
      "dtypes: float64(1), object(2)\n",
      "memory usage: 30.9+ KB\n"
     ]
    }
   ],
   "source": [
    "X = df[['pclass','sex','age']]\n",
    "Y = df['survived']\n",
    "X.info()"
   ]
  },
  {
   "cell_type": "markdown",
   "metadata": {},
   "source": [
    "### 3.数据预处理"
   ]
  },
  {
   "cell_type": "code",
   "execution_count": 4,
   "metadata": {
    "collapsed": false
   },
   "outputs": [
    {
     "name": "stdout",
     "output_type": "stream",
     "text": [
      "<class 'pandas.core.frame.DataFrame'>\n",
      "RangeIndex: 1313 entries, 0 to 1312\n",
      "Data columns (total 3 columns):\n",
      "pclass    1313 non-null object\n",
      "sex       1313 non-null object\n",
      "age       1313 non-null float64\n",
      "dtypes: float64(1), object(2)\n",
      "memory usage: 30.9+ KB\n"
     ]
    },
    {
     "name": "stderr",
     "output_type": "stream",
     "text": [
      "D:\\softwares\\Anaconda3\\lib\\site-packages\\pandas\\core\\generic.py:4355: SettingWithCopyWarning: \n",
      "A value is trying to be set on a copy of a slice from a DataFrame\n",
      "\n",
      "See the caveats in the documentation: http://pandas.pydata.org/pandas-docs/stable/indexing.html#indexing-view-versus-copy\n",
      "  self._update_inplace(new_data)\n"
     ]
    }
   ],
   "source": [
    "#查看信息发现，age只有633个是不为nan的，需要补充。使用均值或中位数补充。对于sex和pclass是类别类型，需要转换成数值特诊\n",
    "X['age'].fillna(X['age'].mean(),inplace=True)\n",
    "X.info()"
   ]
  },
  {
   "cell_type": "markdown",
   "metadata": {},
   "source": [
    "### 4.数据分割"
   ]
  },
  {
   "cell_type": "code",
   "execution_count": 5,
   "metadata": {
    "collapsed": false
   },
   "outputs": [
    {
     "name": "stderr",
     "output_type": "stream",
     "text": [
      "D:\\softwares\\Anaconda3\\lib\\site-packages\\sklearn\\cross_validation.py:41: DeprecationWarning: This module was deprecated in version 0.18 in favor of the model_selection module into which all the refactored classes and functions are moved. Also note that the interface of the new CV iterators are different from that of this module. This module will be removed in 0.20.\n",
      "  \"This module will be removed in 0.20.\", DeprecationWarning)\n"
     ]
    }
   ],
   "source": [
    "#现在age已经补充完成，接下来要把sex、pclass壮观成数值\n",
    "from sklearn.cross_validation import train_test_split\n",
    "x_train,x_test,y_train,y_test = train_test_split(X,Y,test_size=0.25,random_state=124)"
   ]
  },
  {
   "cell_type": "markdown",
   "metadata": {},
   "source": [
    "### 5.类别数据转换"
   ]
  },
  {
   "cell_type": "code",
   "execution_count": 6,
   "metadata": {
    "collapsed": true
   },
   "outputs": [],
   "source": [
    "# 使用sklean的feature_extraction对特征进行转换\n",
    "from sklearn.feature_extraction import DictVectorizer\n",
    "vec = DictVectorizer(sparse=False)\n",
    "X_train = vec.fit_transform(x_train.to_dict(orient='record'))\n",
    "X_test = vec.fit_transform(x_test.to_dict(orient='record'))"
   ]
  },
  {
   "cell_type": "markdown",
   "metadata": {},
   "source": [
    "### 6.使用普通决策树"
   ]
  },
  {
   "cell_type": "code",
   "execution_count": 18,
   "metadata": {
    "collapsed": true
   },
   "outputs": [],
   "source": [
    "from sklearn.tree import DecisionTreeClassifier\n",
    "dtc = DecisionTreeClassifier()\n",
    "dtc.fit(X_train,y_train)\n",
    "dtc_result = dtc.predict(X_test)"
   ]
  },
  {
   "cell_type": "markdown",
   "metadata": {},
   "source": [
    "### 7.使用随机深林算法"
   ]
  },
  {
   "cell_type": "code",
   "execution_count": 19,
   "metadata": {
    "collapsed": false
   },
   "outputs": [],
   "source": [
    "from sklearn.ensemble import RandomForestClassifier\n",
    "rfc = RandomForestClassifier()\n",
    "rfc.fit(X_train,y_train)\n",
    "rfc_predict = rfc.predict(X_test)"
   ]
  },
  {
   "cell_type": "markdown",
   "metadata": {},
   "source": [
    "### 8.使用梯度提升树"
   ]
  },
  {
   "cell_type": "code",
   "execution_count": 20,
   "metadata": {
    "collapsed": true
   },
   "outputs": [],
   "source": [
    "from sklearn.ensemble import GradientBoostingClassifier\n",
    "gbc = GradientBoostingClassifier()\n",
    "gbc.fit(X_train,y_train)\n",
    "gbc_predict = gbc.predict(X_test)"
   ]
  },
  {
   "cell_type": "markdown",
   "metadata": {},
   "source": [
    "### 9.性能检测"
   ]
  },
  {
   "cell_type": "code",
   "execution_count": 21,
   "metadata": {
    "collapsed": false
   },
   "outputs": [
    {
     "name": "stdout",
     "output_type": "stream",
     "text": [
      "DecisionTreeClassifier预测准确度：\n",
      " 0.80547112462\n",
      "DecisionTreeClassifier性能指标：\n",
      "              precision    recall  f1-score   support\n",
      "\n",
      "       died       0.90      0.83      0.86       242\n",
      "   survived       0.61      0.74      0.67        87\n",
      "\n",
      "avg / total       0.82      0.81      0.81       329\n",
      "\n",
      "RandomForestClassifier预测准确度：\n",
      " 0.799392097264\n",
      "RandomForestClassifier性能指标：\n",
      "              precision    recall  f1-score   support\n",
      "\n",
      "       died       0.88      0.83      0.86       236\n",
      "   survived       0.63      0.71      0.67        93\n",
      "\n",
      "avg / total       0.81      0.80      0.80       329\n",
      "\n",
      "GradientBoostingClassifier预测准确度：\n",
      " 0.829787234043\n",
      "GradientBoostingClassifier性能指标：\n",
      "              precision    recall  f1-score   support\n",
      "\n",
      "       died       0.93      0.84      0.88       248\n",
      "   survived       0.62      0.80      0.70        81\n",
      "\n",
      "avg / total       0.85      0.83      0.84       329\n",
      "\n"
     ]
    }
   ],
   "source": [
    "from sklearn.metrics import classification_report\n",
    "print('DecisionTreeClassifier预测准确度：\\n',dtc.score(X_test,y_test))\n",
    "print('DecisionTreeClassifier性能指标：\\n',classification_report(dtc_result,y_test,target_names=['died','survived']))\n",
    "print('RandomForestClassifier预测准确度：\\n',rfc.score(X_test,y_test))\n",
    "print('RandomForestClassifier性能指标：\\n',classification_report(rfc_predict,y_test,target_names=['died','survived']))\n",
    "print('GradientBoostingClassifier预测准确度：\\n',gbc.score(X_test,y_test))\n",
    "print('GradientBoostingClassifier性能指标：\\n',classification_report(gbc_predict,y_test,target_names=['died','survived']))"
   ]
  },
  {
   "cell_type": "markdown",
   "metadata": {},
   "source": [
    "### 10.特点分析"
   ]
  },
  {
   "cell_type": "markdown",
   "metadata": {},
   "source": [
    "##### 集成模型在实战中较为常见，它在训练的过程中需要耗费更多的时间，但是得到的模型往往有更高的表现性能和更好的稳定性"
   ]
  },
  {
   "cell_type": "code",
   "execution_count": null,
   "metadata": {
    "collapsed": true
   },
   "outputs": [],
   "source": []
  }
 ],
 "metadata": {
  "kernelspec": {
   "display_name": "Python 3",
   "language": "python",
   "name": "python3"
  },
  "language_info": {
   "codemirror_mode": {
    "name": "ipython",
    "version": 3
   },
   "file_extension": ".py",
   "mimetype": "text/x-python",
   "name": "python",
   "nbconvert_exporter": "python",
   "pygments_lexer": "ipython3",
   "version": "3.6.0"
  }
 },
 "nbformat": 4,
 "nbformat_minor": 2
}
