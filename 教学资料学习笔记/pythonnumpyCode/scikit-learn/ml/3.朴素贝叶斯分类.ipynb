{
 "cells": [
  {
   "cell_type": "code",
   "execution_count": 1,
   "metadata": {
    "collapsed": true
   },
   "outputs": [],
   "source": [
    "## 朴素贝叶斯有很广的应用场景，特别是在文本分类中，新闻分类，垃圾邮件识别等方面有很多的应用。"
   ]
  },
  {
   "cell_type": "code",
   "execution_count": 2,
   "metadata": {
    "collapsed": true
   },
   "outputs": [],
   "source": [
    "## 使用20类新闻文本作为实验数据"
   ]
  },
  {
   "cell_type": "markdown",
   "metadata": {},
   "source": [
    "### 1.读取20类新闻文本数据"
   ]
  },
  {
   "cell_type": "code",
   "execution_count": 1,
   "metadata": {
    "collapsed": false
   },
   "outputs": [],
   "source": [
    "from sklearn.datasets import fetch_20newsgroups\n",
    "#使用fetch_20newgroups方法下载数据\n",
    "news = fetch_20newsgroups(subset='all')"
   ]
  },
  {
   "cell_type": "markdown",
   "metadata": {},
   "source": [
    "### 2.在使用朴素贝叶斯算法处理文本分类之前，首先要对文本进行量化处理"
   ]
  },
  {
   "cell_type": "code",
   "execution_count": 2,
   "metadata": {
    "collapsed": false
   },
   "outputs": [
    {
     "name": "stderr",
     "output_type": "stream",
     "text": [
      "D:\\softwares\\Anaconda3\\lib\\site-packages\\sklearn\\cross_validation.py:41: DeprecationWarning: This module was deprecated in version 0.18 in favor of the model_selection module into which all the refactored classes and functions are moved. Also note that the interface of the new CV iterators are different from that of this module. This module will be removed in 0.20.\n",
      "  \"This module will be removed in 0.20.\", DeprecationWarning)\n"
     ]
    }
   ],
   "source": [
    "from sklearn.cross_validation import train_test_split\n",
    "x_train,x_test,y_train,y_test = train_test_split(news.data,news.target,test_size=0.25,random_state=33)"
   ]
  },
  {
   "cell_type": "code",
   "execution_count": 3,
   "metadata": {
    "collapsed": false
   },
   "outputs": [
    {
     "data": {
      "text/plain": [
       "(14134,)"
      ]
     },
     "execution_count": 3,
     "metadata": {},
     "output_type": "execute_result"
    }
   ],
   "source": [
    "y_train.shape"
   ]
  },
  {
   "cell_type": "code",
   "execution_count": 4,
   "metadata": {
    "collapsed": false
   },
   "outputs": [
    {
     "data": {
      "text/plain": [
       "(4712,)"
      ]
     },
     "execution_count": 4,
     "metadata": {},
     "output_type": "execute_result"
    }
   ],
   "source": [
    "y_test.shape"
   ]
  },
  {
   "cell_type": "markdown",
   "metadata": {},
   "source": [
    "### 3.使用贝叶斯分类器对新闻文本进行预测"
   ]
  },
  {
   "cell_type": "code",
   "execution_count": 5,
   "metadata": {
    "collapsed": true
   },
   "outputs": [],
   "source": [
    "##需要导入文本转向量的方法模块\n",
    "from sklearn.feature_extraction.text import CountVectorizer\n",
    "#初始化countVectorizer\n",
    "vec = CountVectorizer()\n",
    "#转换文本，进行量化\n",
    "X_train = vec.fit_transform(x_train)\n",
    "#使用了一次fit_transform后面要使用transform方法，fit_transform方法带有训练初始化的功能\n",
    "X_test = vec.transform(x_test)"
   ]
  },
  {
   "cell_type": "code",
   "execution_count": 7,
   "metadata": {
    "collapsed": false
   },
   "outputs": [
    {
     "data": {
      "text/plain": [
       "(14134, 150725)"
      ]
     },
     "execution_count": 7,
     "metadata": {},
     "output_type": "execute_result"
    }
   ],
   "source": [
    "X_train.shape"
   ]
  },
  {
   "cell_type": "code",
   "execution_count": 8,
   "metadata": {
    "collapsed": false
   },
   "outputs": [
    {
     "data": {
      "text/plain": [
       "(4712, 150725)"
      ]
     },
     "execution_count": 8,
     "metadata": {},
     "output_type": "execute_result"
    }
   ],
   "source": [
    "X_test.shape"
   ]
  },
  {
   "cell_type": "code",
   "execution_count": 10,
   "metadata": {
    "collapsed": false
   },
   "outputs": [],
   "source": [
    "#导入朴素贝叶斯模型\n",
    "from sklearn.naive_bayes import MultinomialNB\n",
    "#初始化贝叶斯分类器\n",
    "mnb = MultinomialNB()\n",
    "#喂数据，训练模型\n",
    "model = mnb.fit(X_train,y_train)\n"
   ]
  },
  {
   "cell_type": "code",
   "execution_count": 12,
   "metadata": {
    "collapsed": false
   },
   "outputs": [
    {
     "data": {
      "text/plain": [
       "0.83977079796264853"
      ]
     },
     "execution_count": 12,
     "metadata": {},
     "output_type": "execute_result"
    }
   ],
   "source": [
    "#预测\n",
    "mnb_predict = model.predict(X_test)\n",
    "model.score(X_test,y_test)"
   ]
  },
  {
   "cell_type": "code",
   "execution_count": 13,
   "metadata": {
    "collapsed": false
   },
   "outputs": [
    {
     "data": {
      "text/plain": [
       "array([ 8, 15, 13, ...,  1, 19, 11])"
      ]
     },
     "execution_count": 13,
     "metadata": {},
     "output_type": "execute_result"
    }
   ],
   "source": [
    "mnb_predict"
   ]
  },
  {
   "cell_type": "markdown",
   "metadata": {},
   "source": [
    "### 4.性能验证"
   ]
  },
  {
   "cell_type": "code",
   "execution_count": 65,
   "metadata": {
    "collapsed": false
   },
   "outputs": [
    {
     "name": "stdout",
     "output_type": "stream",
     "text": [
      "mnb贝叶斯算法准确度：\n",
      " 0.839770797963\n",
      "mnb算法性能指标：\n",
      "                           precision    recall  f1-score   support\n",
      "\n",
      "             alt.atheism       0.86      0.86      0.86       201\n",
      "           comp.graphics       0.86      0.59      0.70       365\n",
      " comp.os.ms-windows.misc       0.10      0.89      0.17        27\n",
      "comp.sys.ibm.pc.hardware       0.88      0.60      0.72       350\n",
      "   comp.sys.mac.hardware       0.78      0.93      0.85       204\n",
      "          comp.windows.x       0.84      0.82      0.83       271\n",
      "            misc.forsale       0.70      0.91      0.79       197\n",
      "               rec.autos       0.89      0.89      0.89       239\n",
      "         rec.motorcycles       0.92      0.98      0.95       257\n",
      "      rec.sport.baseball       0.91      0.98      0.95       233\n",
      "        rec.sport.hockey       0.99      0.93      0.96       248\n",
      "               sci.crypt       0.98      0.86      0.91       272\n",
      "         sci.electronics       0.88      0.85      0.86       259\n",
      "                 sci.med       0.94      0.92      0.93       252\n",
      "               sci.space       0.96      0.89      0.92       239\n",
      "  soc.religion.christian       0.96      0.78      0.86       285\n",
      "      talk.politics.guns       0.96      0.88      0.92       272\n",
      "   talk.politics.mideast       0.98      0.90      0.94       252\n",
      "      talk.politics.misc       0.89      0.79      0.84       214\n",
      "      talk.religion.misc       0.44      0.93      0.60        75\n",
      "\n",
      "             avg / total       0.89      0.84      0.86      4712\n",
      "\n"
     ]
    }
   ],
   "source": [
    "# 使用sklearn.metrics中的classfication_report方法\n",
    "from sklearn.metrics import classification_report\n",
    "print(\"mnb贝叶斯算法准确度：\\n\",mnb.score(X_test,y_test))\n",
    "print(\"mnb算法性能指标：\\n\",classification_report(mnb_predict,y_test,target_names=news.target_names))"
   ]
  },
  {
   "cell_type": "markdown",
   "metadata": {},
   "source": [
    "### 5.朴素贝叶斯算法特点"
   ]
  },
  {
   "cell_type": "markdown",
   "metadata": {},
   "source": [
    "##### 较强的特征独立性假设，使得模型预测所需要估计的参数规模从幂指数量级向线性量级减少，极大的节约了内存消耗及运算时间\n",
    "##### 缺点：较强的独立性假设，无法将各个特征之间的联系考量在内，使得该模型在其他数据特征关联性较强的分类任务上性能表现不佳"
   ]
  },
  {
   "cell_type": "code",
   "execution_count": null,
   "metadata": {
    "collapsed": true
   },
   "outputs": [],
   "source": []
  }
 ],
 "metadata": {
  "kernelspec": {
   "display_name": "Python 3",
   "language": "python",
   "name": "python3"
  },
  "language_info": {
   "codemirror_mode": {
    "name": "ipython",
    "version": 3
   },
   "file_extension": ".py",
   "mimetype": "text/x-python",
   "name": "python",
   "nbconvert_exporter": "python",
   "pygments_lexer": "ipython3",
   "version": "3.6.0"
  }
 },
 "nbformat": 4,
 "nbformat_minor": 2
}
