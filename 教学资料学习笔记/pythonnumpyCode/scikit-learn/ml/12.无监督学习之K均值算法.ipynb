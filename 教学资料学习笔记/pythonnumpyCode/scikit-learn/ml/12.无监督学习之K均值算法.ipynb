{
 "cells": [
  {
   "cell_type": "markdown",
   "metadata": {},
   "source": [
    "##### 无监督学习这种于发现数据本身的分布特点，与监督学习不同，无监督学习不需要对数据进行标注\n",
    "##### 可以节省大量的人工成本，也让可以利用的数据规模变得无可限量"
   ]
  },
  {
   "cell_type": "markdown",
   "metadata": {},
   "source": [
    "#### K均值聚类 k-means，该算法预先设定聚类的个数，然后不断更新聚类中心，经过几轮的迭代，最后的目标是让所有数据点到其属的聚类中心距离的平方和趋于稳定"
   ]
  },
  {
   "cell_type": "markdown",
   "metadata": {},
   "source": [
    "#### 算法的四个阶段：\n",
    "#### 1.随机设置K个点作为聚类的中心\n",
    "#### 2.根据数据的特征向量，从K各聚类中心中寻找距离最近的一个，并把数据标注为从属于这个聚类中心\n",
    "#### 3.在所有数据都被标注过数据中心之后，根据这些数据新分配的类簇，重新对K个聚类中心做计算\n",
    "#### 4.如果一轮下来，所有数据点从属的聚类中心与上一次的分配的类簇没有变化，迭代停止，否则回到步骤2"
   ]
  },
  {
   "cell_type": "markdown",
   "metadata": {},
   "source": [
    "### 前面我们使用过支持向量机分类手写字体识别，接下来我们使用K-means做聚类操作。\n",
    "### 手写字体完整的数据地址：https://archive.ics.uci.edu/ml/machine-learning-databases/optdigits"
   ]
  },
  {
   "cell_type": "markdown",
   "metadata": {},
   "source": [
    "#### 从这个地址：https://archive.ics.uci.edu/ml/machine-learning-databases/optdigits/optdigits.names我们可以得到一些有用的数据集相关的信息"
   ]
  },
  {
   "cell_type": "markdown",
   "metadata": {},
   "source": [
    "#### 数据集由两部分组成，训练数据3823条，测试数据1797条，图像数据使用8*8矩阵表示，这个地方忽略了图片的格式信息，直接整合成了长度为64的数组"
   ]
  },
  {
   "cell_type": "markdown",
   "metadata": {},
   "source": [
    "### 1.使用pandas读取数据"
   ]
  },
  {
   "cell_type": "code",
   "execution_count": 1,
   "metadata": {
    "collapsed": true
   },
   "outputs": [],
   "source": [
    "import pandas as pd\n",
    "import numpy as np\n",
    "digits_train = pd.read_csv('https://archive.ics.uci.edu/ml/machine-learning-databases/optdigits/optdigits.tra')"
   ]
  },
  {
   "cell_type": "code",
   "execution_count": 2,
   "metadata": {
    "collapsed": false
   },
   "outputs": [
    {
     "data": {
      "text/html": [
       "<div>\n",
       "<style scoped>\n",
       "    .dataframe tbody tr th:only-of-type {\n",
       "        vertical-align: middle;\n",
       "    }\n",
       "\n",
       "    .dataframe tbody tr th {\n",
       "        vertical-align: top;\n",
       "    }\n",
       "\n",
       "    .dataframe thead th {\n",
       "        text-align: right;\n",
       "    }\n",
       "</style>\n",
       "<table border=\"1\" class=\"dataframe\">\n",
       "  <thead>\n",
       "    <tr style=\"text-align: right;\">\n",
       "      <th></th>\n",
       "      <th>0</th>\n",
       "      <th>1</th>\n",
       "      <th>6</th>\n",
       "      <th>15</th>\n",
       "      <th>12</th>\n",
       "      <th>1.1</th>\n",
       "      <th>0.1</th>\n",
       "      <th>0.2</th>\n",
       "      <th>0.3</th>\n",
       "      <th>7</th>\n",
       "      <th>...</th>\n",
       "      <th>0.21</th>\n",
       "      <th>0.22</th>\n",
       "      <th>0.23</th>\n",
       "      <th>6.3</th>\n",
       "      <th>14.1</th>\n",
       "      <th>7.4</th>\n",
       "      <th>1.3</th>\n",
       "      <th>0.24</th>\n",
       "      <th>0.25</th>\n",
       "      <th>0.26</th>\n",
       "    </tr>\n",
       "  </thead>\n",
       "  <tbody>\n",
       "    <tr>\n",
       "      <th>0</th>\n",
       "      <td>0</td>\n",
       "      <td>0</td>\n",
       "      <td>10</td>\n",
       "      <td>16</td>\n",
       "      <td>6</td>\n",
       "      <td>0</td>\n",
       "      <td>0</td>\n",
       "      <td>0</td>\n",
       "      <td>0</td>\n",
       "      <td>7</td>\n",
       "      <td>...</td>\n",
       "      <td>0</td>\n",
       "      <td>0</td>\n",
       "      <td>0</td>\n",
       "      <td>10</td>\n",
       "      <td>16</td>\n",
       "      <td>15</td>\n",
       "      <td>3</td>\n",
       "      <td>0</td>\n",
       "      <td>0</td>\n",
       "      <td>0</td>\n",
       "    </tr>\n",
       "    <tr>\n",
       "      <th>1</th>\n",
       "      <td>0</td>\n",
       "      <td>0</td>\n",
       "      <td>8</td>\n",
       "      <td>15</td>\n",
       "      <td>16</td>\n",
       "      <td>13</td>\n",
       "      <td>0</td>\n",
       "      <td>0</td>\n",
       "      <td>0</td>\n",
       "      <td>1</td>\n",
       "      <td>...</td>\n",
       "      <td>0</td>\n",
       "      <td>0</td>\n",
       "      <td>0</td>\n",
       "      <td>9</td>\n",
       "      <td>14</td>\n",
       "      <td>0</td>\n",
       "      <td>0</td>\n",
       "      <td>0</td>\n",
       "      <td>0</td>\n",
       "      <td>7</td>\n",
       "    </tr>\n",
       "  </tbody>\n",
       "</table>\n",
       "<p>2 rows × 65 columns</p>\n",
       "</div>"
      ],
      "text/plain": [
       "   0  1   6  15  12  1.1  0.1  0.2  0.3  7  ...   0.21  0.22  0.23  6.3  14.1  \\\n",
       "0  0  0  10  16   6    0    0    0    0  7  ...      0     0     0   10    16   \n",
       "1  0  0   8  15  16   13    0    0    0  1  ...      0     0     0    9    14   \n",
       "\n",
       "   7.4  1.3  0.24  0.25  0.26  \n",
       "0   15    3     0     0     0  \n",
       "1    0    0     0     0     7  \n",
       "\n",
       "[2 rows x 65 columns]"
      ]
     },
     "execution_count": 2,
     "metadata": {},
     "output_type": "execute_result"
    }
   ],
   "source": [
    "digits_train.head(2)"
   ]
  },
  {
   "cell_type": "code",
   "execution_count": 3,
   "metadata": {
    "collapsed": true
   },
   "outputs": [],
   "source": [
    "#不要标题\n",
    "digits_train = pd.read_csv('https://archive.ics.uci.edu/ml/machine-learning-databases/optdigits/optdigits.tra',header=None)"
   ]
  },
  {
   "cell_type": "code",
   "execution_count": 4,
   "metadata": {
    "collapsed": true
   },
   "outputs": [],
   "source": [
    "digits_test = pd.read_csv('https://archive.ics.uci.edu/ml/machine-learning-databases/optdigits/optdigits.tes',header=None)"
   ]
  },
  {
   "cell_type": "code",
   "execution_count": 5,
   "metadata": {
    "collapsed": false
   },
   "outputs": [
    {
     "data": {
      "text/html": [
       "<div>\n",
       "<style scoped>\n",
       "    .dataframe tbody tr th:only-of-type {\n",
       "        vertical-align: middle;\n",
       "    }\n",
       "\n",
       "    .dataframe tbody tr th {\n",
       "        vertical-align: top;\n",
       "    }\n",
       "\n",
       "    .dataframe thead th {\n",
       "        text-align: right;\n",
       "    }\n",
       "</style>\n",
       "<table border=\"1\" class=\"dataframe\">\n",
       "  <thead>\n",
       "    <tr style=\"text-align: right;\">\n",
       "      <th></th>\n",
       "      <th>0</th>\n",
       "      <th>1</th>\n",
       "      <th>2</th>\n",
       "      <th>3</th>\n",
       "      <th>4</th>\n",
       "      <th>5</th>\n",
       "      <th>6</th>\n",
       "      <th>7</th>\n",
       "      <th>8</th>\n",
       "      <th>9</th>\n",
       "      <th>...</th>\n",
       "      <th>55</th>\n",
       "      <th>56</th>\n",
       "      <th>57</th>\n",
       "      <th>58</th>\n",
       "      <th>59</th>\n",
       "      <th>60</th>\n",
       "      <th>61</th>\n",
       "      <th>62</th>\n",
       "      <th>63</th>\n",
       "      <th>64</th>\n",
       "    </tr>\n",
       "  </thead>\n",
       "  <tbody>\n",
       "    <tr>\n",
       "      <th>0</th>\n",
       "      <td>0</td>\n",
       "      <td>0</td>\n",
       "      <td>5</td>\n",
       "      <td>13</td>\n",
       "      <td>9</td>\n",
       "      <td>1</td>\n",
       "      <td>0</td>\n",
       "      <td>0</td>\n",
       "      <td>0</td>\n",
       "      <td>0</td>\n",
       "      <td>...</td>\n",
       "      <td>0</td>\n",
       "      <td>0</td>\n",
       "      <td>0</td>\n",
       "      <td>6</td>\n",
       "      <td>13</td>\n",
       "      <td>10</td>\n",
       "      <td>0</td>\n",
       "      <td>0</td>\n",
       "      <td>0</td>\n",
       "      <td>0</td>\n",
       "    </tr>\n",
       "    <tr>\n",
       "      <th>1</th>\n",
       "      <td>0</td>\n",
       "      <td>0</td>\n",
       "      <td>0</td>\n",
       "      <td>12</td>\n",
       "      <td>13</td>\n",
       "      <td>5</td>\n",
       "      <td>0</td>\n",
       "      <td>0</td>\n",
       "      <td>0</td>\n",
       "      <td>0</td>\n",
       "      <td>...</td>\n",
       "      <td>0</td>\n",
       "      <td>0</td>\n",
       "      <td>0</td>\n",
       "      <td>0</td>\n",
       "      <td>11</td>\n",
       "      <td>16</td>\n",
       "      <td>10</td>\n",
       "      <td>0</td>\n",
       "      <td>0</td>\n",
       "      <td>1</td>\n",
       "    </tr>\n",
       "  </tbody>\n",
       "</table>\n",
       "<p>2 rows × 65 columns</p>\n",
       "</div>"
      ],
      "text/plain": [
       "   0   1   2   3   4   5   6   7   8   9  ...  55  56  57  58  59  60  61  62  \\\n",
       "0   0   0   5  13   9   1   0   0   0   0 ...   0   0   0   6  13  10   0   0   \n",
       "1   0   0   0  12  13   5   0   0   0   0 ...   0   0   0   0  11  16  10   0   \n",
       "\n",
       "   63  64  \n",
       "0   0   0  \n",
       "1   0   1  \n",
       "\n",
       "[2 rows x 65 columns]"
      ]
     },
     "execution_count": 5,
     "metadata": {},
     "output_type": "execute_result"
    }
   ],
   "source": [
    "digits_test.head(2)"
   ]
  },
  {
   "cell_type": "code",
   "execution_count": 8,
   "metadata": {
    "collapsed": true
   },
   "outputs": [],
   "source": [
    "#从数据可以看大，每一行数据就是一张图片，前64位表示的是8*8的图片数据，第65位是图片的类别数据"
   ]
  },
  {
   "cell_type": "code",
   "execution_count": 6,
   "metadata": {
    "collapsed": true
   },
   "outputs": [],
   "source": [
    "#取出特征数据和目标数据\n",
    "x_train = digits_train[np.arange(64)]\n",
    "y_train = digits_train[64]\n",
    "\n",
    "x_test = digits_test[np.arange(64)]\n",
    "y_test = digits_test[64]"
   ]
  },
  {
   "cell_type": "code",
   "execution_count": 7,
   "metadata": {
    "collapsed": false
   },
   "outputs": [
    {
     "data": {
      "text/html": [
       "<div>\n",
       "<style scoped>\n",
       "    .dataframe tbody tr th:only-of-type {\n",
       "        vertical-align: middle;\n",
       "    }\n",
       "\n",
       "    .dataframe tbody tr th {\n",
       "        vertical-align: top;\n",
       "    }\n",
       "\n",
       "    .dataframe thead th {\n",
       "        text-align: right;\n",
       "    }\n",
       "</style>\n",
       "<table border=\"1\" class=\"dataframe\">\n",
       "  <thead>\n",
       "    <tr style=\"text-align: right;\">\n",
       "      <th></th>\n",
       "      <th>0</th>\n",
       "      <th>1</th>\n",
       "      <th>2</th>\n",
       "      <th>3</th>\n",
       "      <th>4</th>\n",
       "      <th>5</th>\n",
       "      <th>6</th>\n",
       "      <th>7</th>\n",
       "      <th>8</th>\n",
       "      <th>9</th>\n",
       "      <th>...</th>\n",
       "      <th>54</th>\n",
       "      <th>55</th>\n",
       "      <th>56</th>\n",
       "      <th>57</th>\n",
       "      <th>58</th>\n",
       "      <th>59</th>\n",
       "      <th>60</th>\n",
       "      <th>61</th>\n",
       "      <th>62</th>\n",
       "      <th>63</th>\n",
       "    </tr>\n",
       "  </thead>\n",
       "  <tbody>\n",
       "    <tr>\n",
       "      <th>0</th>\n",
       "      <td>0</td>\n",
       "      <td>1</td>\n",
       "      <td>6</td>\n",
       "      <td>15</td>\n",
       "      <td>12</td>\n",
       "      <td>1</td>\n",
       "      <td>0</td>\n",
       "      <td>0</td>\n",
       "      <td>0</td>\n",
       "      <td>7</td>\n",
       "      <td>...</td>\n",
       "      <td>0</td>\n",
       "      <td>0</td>\n",
       "      <td>0</td>\n",
       "      <td>0</td>\n",
       "      <td>6</td>\n",
       "      <td>14</td>\n",
       "      <td>7</td>\n",
       "      <td>1</td>\n",
       "      <td>0</td>\n",
       "      <td>0</td>\n",
       "    </tr>\n",
       "    <tr>\n",
       "      <th>1</th>\n",
       "      <td>0</td>\n",
       "      <td>0</td>\n",
       "      <td>10</td>\n",
       "      <td>16</td>\n",
       "      <td>6</td>\n",
       "      <td>0</td>\n",
       "      <td>0</td>\n",
       "      <td>0</td>\n",
       "      <td>0</td>\n",
       "      <td>7</td>\n",
       "      <td>...</td>\n",
       "      <td>3</td>\n",
       "      <td>0</td>\n",
       "      <td>0</td>\n",
       "      <td>0</td>\n",
       "      <td>10</td>\n",
       "      <td>16</td>\n",
       "      <td>15</td>\n",
       "      <td>3</td>\n",
       "      <td>0</td>\n",
       "      <td>0</td>\n",
       "    </tr>\n",
       "  </tbody>\n",
       "</table>\n",
       "<p>2 rows × 64 columns</p>\n",
       "</div>"
      ],
      "text/plain": [
       "   0   1   2   3   4   5   6   7   8   9  ...  54  55  56  57  58  59  60  61  \\\n",
       "0   0   1   6  15  12   1   0   0   0   7 ...   0   0   0   0   6  14   7   1   \n",
       "1   0   0  10  16   6   0   0   0   0   7 ...   3   0   0   0  10  16  15   3   \n",
       "\n",
       "   62  63  \n",
       "0   0   0  \n",
       "1   0   0  \n",
       "\n",
       "[2 rows x 64 columns]"
      ]
     },
     "execution_count": 7,
     "metadata": {},
     "output_type": "execute_result"
    }
   ],
   "source": [
    "x_train.head(2)"
   ]
  },
  {
   "cell_type": "code",
   "execution_count": 8,
   "metadata": {
    "collapsed": false
   },
   "outputs": [
    {
     "data": {
      "text/plain": [
       "0    0\n",
       "1    0\n",
       "2    7\n",
       "3    4\n",
       "4    6\n",
       "Name: 64, dtype: int64"
      ]
     },
     "execution_count": 8,
     "metadata": {},
     "output_type": "execute_result"
    }
   ],
   "source": [
    "y_train.head()"
   ]
  },
  {
   "cell_type": "markdown",
   "metadata": {},
   "source": [
    "### 2.使用k-means模型对手写字体进行分类"
   ]
  },
  {
   "cell_type": "code",
   "execution_count": 9,
   "metadata": {
    "collapsed": true
   },
   "outputs": [],
   "source": [
    "from sklearn.cluster import KMeans\n",
    "#设置10个聚类中心\n",
    "kmeans = KMeans(n_clusters=10)\n",
    "#喂数据训练模型\n",
    "kmeans.fit(x_train)\n",
    "#预测\n",
    "kmeans_predict = kmeans.predict(x_test)"
   ]
  },
  {
   "cell_type": "markdown",
   "metadata": {},
   "source": [
    "### 3.聚类算法性能评估"
   ]
  },
  {
   "cell_type": "markdown",
   "metadata": {},
   "source": [
    "##### 1.如果备用来评估的数据本身带有正确的分类信息，那可以使用Adjusted Rand Index ARI指标来度量算法的性能。ARI同分类问题中的Accuary指标类似，同时兼顾了类簇和分类标记一一对应的问题"
   ]
  },
  {
   "cell_type": "code",
   "execution_count": 10,
   "metadata": {
    "collapsed": false
   },
   "outputs": [
    {
     "data": {
      "text/plain": [
       "0.66217738010446148"
      ]
     },
     "execution_count": 10,
     "metadata": {},
     "output_type": "execute_result"
    }
   ],
   "source": [
    "from sklearn import metrics\n",
    "#使用ARI指标度量算法性能\n",
    "metrics.adjusted_rand_score(y_test,kmeans_predict)"
   ]
  },
  {
   "cell_type": "markdown",
   "metadata": {},
   "source": [
    "##### 2.如果用于评估的数据没有类别信息，我们可以使用轮廓系数Silhouette Coefficient来度量聚类结果。轮廓系数同时兼顾了聚类的凝聚度Cohesion和分\n",
    "#####   散度Separation,用于评估分类的效果，并且取值范围为[-1,1].轮廓系数越大，表示聚类效果越好。\n",
    "#####   具体计算步骤如下：\n",
    "#####    1.对于已聚类数据中第i个样本xi,计算xi与同一个类簇内所有其他样本距离的平均值，记为ai,用于量化簇内的凝聚度\n",
    "#####    2.选取xi外的一个簇b,计算xi与簇b中所有样本的平均距离，遍历所有其他簇，找到最近的这个平均距离，记为bi,用于量化簇之间的分离度Separation\n",
    "#####    3.对于样本xi，轮廓系数为：sci = (bi-ai)/max(bi,ai)\n",
    "#####    4.最后对所有样本X求出平均值即为当前聚类结果的整体轮廓系数\n",
    "#####  由轮廓系数的计算公式，如果sci小于0，说明xi与其簇内元素的平均距离大于最近的其他簇，表示聚类效果不好。如果ai趋于0或者bi足够大，那sci趋于1\n",
    "#####   说明聚类效果较好"
   ]
  },
  {
   "cell_type": "markdown",
   "metadata": {},
   "source": [
    "# 利用轮廓系数评价不同类簇数量的k-means聚类"
   ]
  },
  {
   "cell_type": "code",
   "execution_count": 11,
   "metadata": {
    "collapsed": false
   },
   "outputs": [],
   "source": [
    "import numpy as np\n",
    "from sklearn.cluster import KMeans\n",
    "from sklearn.metrics import silhouette_score#用于计算轮廓系数\n",
    "import matplotlib.pyplot as plt\n",
    "x1 = [9.1,7.2,3.6,7.8,9.2,6.8,9.3,1.1,7.8,8.0,5.4,4.3,5.2,1.9,4.7]\n",
    "x2 = x1\n",
    "X = np.array(list(zip(x1,x2))).reshape(len(x1),2)"
   ]
  },
  {
   "cell_type": "code",
   "execution_count": 12,
   "metadata": {
    "collapsed": false
   },
   "outputs": [
    {
     "data": {
      "text/plain": [
       "array([[ 9.1,  9.1],\n",
       "       [ 7.2,  7.2],\n",
       "       [ 3.6,  3.6],\n",
       "       [ 7.8,  7.8],\n",
       "       [ 9.2,  9.2],\n",
       "       [ 6.8,  6.8],\n",
       "       [ 9.3,  9.3],\n",
       "       [ 1.1,  1.1],\n",
       "       [ 7.8,  7.8],\n",
       "       [ 8. ,  8. ],\n",
       "       [ 5.4,  5.4],\n",
       "       [ 4.3,  4.3],\n",
       "       [ 5.2,  5.2],\n",
       "       [ 1.9,  1.9],\n",
       "       [ 4.7,  4.7]])"
      ]
     },
     "execution_count": 12,
     "metadata": {},
     "output_type": "execute_result"
    }
   ],
   "source": [
    "X"
   ]
  },
  {
   "cell_type": "code",
   "execution_count": 13,
   "metadata": {
    "collapsed": false
   },
   "outputs": [
    {
     "data": {
      "image/png": "[encoded data removed]",
      "text/plain": [
       "<matplotlib.figure.Figure at 0xbeb0dd8>"
      ]
     },
     "metadata": {},
     "output_type": "display_data"
    }
   ],
   "source": [
    "#构建网格，用于绘制子图\n",
    "plt.figure(figsize=(15,10))\n",
    "plt.subplot(3,2,1)\n",
    "plt.xlim(0,10)\n",
    "plt.ylim(0,10)\n",
    "plt.title('origin data')\n",
    "plt.scatter(x1,x2)\n",
    "\n",
    "colors = ['b','g','r','c','m','y','k','b']\n",
    "markers = ['o','s','D','v','^','p','*','+']\n",
    "\n",
    "clusters = [2,3,4,5,8]\n",
    "subplot_counter = 1\n",
    "\n",
    "sc_scores = []\n",
    "\n",
    "for i in clusters:\n",
    "    subplot_counter += 1\n",
    "    plt.subplot(3,2,subplot_counter)\n",
    "    kmeans_model = KMeans(n_clusters=i).fit(X)\n",
    "    \n",
    "    for j,l in enumerate(kmeans_model.labels_):\n",
    "        #print('k=%s,index=%s,label=%s'%(i,j,l))\n",
    "        plt.plot(x1[j],x2[j],color=colors[l],marker=markers[l],ls='None')\n",
    "    plt.xlim(0,10)\n",
    "    plt.ylim(0,10)\n",
    "    #metric使用euclidean欧几里得距离\n",
    "    sc_score = silhouette_score(X,kmeans_model.labels_,metric='euclidean')\n",
    "    sc_scores.append(sc_score)\n",
    "    \n",
    "    plt.title('K=%s,silhouette coefficient=%0.03f'%(i,sc_score))\n",
    "\n",
    "plt.show()"
   ]
  },
  {
   "cell_type": "markdown",
   "metadata": {
    "collapsed": true
   },
   "source": [
    "### k-mean聚类的特点"
   ]
  },
  {
   "cell_type": "markdown",
   "metadata": {},
   "source": [
    "##### k-means算法采用迭代式算法，直观易懂方便实用。但是有量大缺陷：1.容易收敛到局部最优解。2.需要预先设定簇的数量\n",
    "##### 工程中总是通过多次执行k-means算法来找到最好的初始中心点。"
   ]
  },
  {
   "cell_type": "markdown",
   "metadata": {},
   "source": [
    "##### 可以使用“肘部观察法”粗略的估计相对合理的簇类个数。因为K-means模型最终期望所有数据点到其所属的簇类距离的平方和趋于稳定，\n",
    "##### 所以我们可以通过观察这个数值随着K的走势来找出最佳的簇类数量。理想情况下这个折线在不断下降并且趋于平缓的过程，在这个过程中会出现斜率的\n",
    "##### 拐点。从这个拐点开始，簇类中心的增加不会过于破坏数据聚类的结构。这个拐点就是最佳的K值\n"
   ]
  },
  {
   "cell_type": "markdown",
   "metadata": {},
   "source": [
    "### 肘部观察法"
   ]
  },
  {
   "cell_type": "code",
   "execution_count": 14,
   "metadata": {
    "collapsed": false
   },
   "outputs": [],
   "source": [
    "import numpy as np\n",
    "from sklearn.cluster import KMeans\n",
    "from scipy.spatial.distance import cdist\n",
    "import matplotlib.pyplot as plt"
   ]
  },
  {
   "cell_type": "code",
   "execution_count": 16,
   "metadata": {
    "collapsed": false
   },
   "outputs": [],
   "source": [
    "#产生0.1到2.1之间的均匀分布的5行2列的矩阵\n",
    "c1 = np.random.uniform(0.1,2.1,(5,2))\n",
    "c2 = np.random.uniform(5.1,7.1,(5,2))\n",
    "c3 = np.random.uniform(9.5,9.9,(5,2))"
   ]
  },
  {
   "cell_type": "code",
   "execution_count": 17,
   "metadata": {
    "collapsed": false
   },
   "outputs": [],
   "source": [
    "#将三个矩阵按垂直方向拼接\n",
    "data = np.vstack((c1,c2,c3))"
   ]
  },
  {
   "cell_type": "code",
   "execution_count": 18,
   "metadata": {
    "collapsed": false
   },
   "outputs": [
    {
     "data": {
      "image/png": "[encoded data removed]",
      "text/plain": [
       "<matplotlib.figure.Figure at 0x7b73710>"
      ]
     },
     "metadata": {},
     "output_type": "display_data"
    }
   ],
   "source": [
    "#绘制data对应的散点图\n",
    "plt.scatter(data[:,0],data[:,1])\n",
    "plt.xlabel('x')\n",
    "plt.ylabel('y')\n",
    "plt.show()"
   ]
  },
  {
   "cell_type": "code",
   "execution_count": 49,
   "metadata": {
    "collapsed": true
   },
   "outputs": [],
   "source": [
    "#测试取不同K值的聚集质量"
   ]
  },
  {
   "cell_type": "code",
   "execution_count": 19,
   "metadata": {
    "collapsed": false
   },
   "outputs": [
    {
     "data": {
      "image/png": "[encoded data removed]",
      "text/plain": [
       "<matplotlib.figure.Figure at 0x9757dd8>"
      ]
     },
     "metadata": {},
     "output_type": "display_data"
    }
   ],
   "source": [
    "K = range(1,15)\n",
    "#离差\n",
    "dispersion = []\n",
    "\n",
    "for k in K:\n",
    "    kmeans = KMeans(n_clusters=k)\n",
    "    kmeans.fit(data)\n",
    "    dispersion.append(sum(np.min(cdist(data,kmeans.cluster_centers_,'euclidean'),axis=1)) / data.shape[0])\n",
    "plt.figure(figsize=(15,8))\n",
    "plt.plot(K,dispersion,'r-.')\n",
    "plt.xlabel('K')\n",
    "plt.ylabel('dispersion')\n",
    "plt.title('K Elbow Method')\n",
    "plt.show()"
   ]
  },
  {
   "cell_type": "code",
   "execution_count": 20,
   "metadata": {
    "collapsed": false
   },
   "outputs": [
    {
     "data": {
      "text/plain": [
       "array([[ 1.46151389,  1.40340632],\n",
       "       [ 9.78574364,  9.52477995],\n",
       "       [ 6.15385163,  6.00716655],\n",
       "       [ 0.33351336,  1.47821266],\n",
       "       [ 6.89311329,  5.96630266],\n",
       "       [ 1.96947193,  0.61006445],\n",
       "       [ 9.72085879,  9.85192162],\n",
       "       [ 5.69078827,  6.67129693],\n",
       "       [ 1.77058981,  1.13330987],\n",
       "       [ 6.27918252,  5.70668013],\n",
       "       [ 6.98858797,  5.62589883],\n",
       "       [ 1.64393893,  1.60357395],\n",
       "       [ 9.53528718,  9.81000951],\n",
       "       [ 9.57248102,  9.51196922]])"
      ]
     },
     "execution_count": 20,
     "metadata": {},
     "output_type": "execute_result"
    }
   ],
   "source": [
    "kmeans.cluster_centers_"
   ]
  },
  {
   "cell_type": "code",
   "execution_count": null,
   "metadata": {
    "collapsed": true
   },
   "outputs": [],
   "source": []
  }
 ],
 "metadata": {
  "kernelspec": {
   "display_name": "Python 3",
   "language": "python",
   "name": "python3"
  },
  "language_info": {
   "codemirror_mode": {
    "name": "ipython",
    "version": 3
   },
   "file_extension": ".py",
   "mimetype": "text/x-python",
   "name": "python",
   "nbconvert_exporter": "python",
   "pygments_lexer": "ipython3",
   "version": "3.6.0"
  }
 },
 "nbformat": 4,
 "nbformat_minor": 2
}
