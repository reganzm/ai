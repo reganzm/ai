{
 "cells": [
  {
   "cell_type": "markdown",
   "metadata": {},
   "source": [
    "### 继续使用集成模型来进行数据的回归分析"
   ]
  },
  {
   "cell_type": "markdown",
   "metadata": {},
   "source": [
    "### 要使用到普通随机森林、提升树回归模型、和极端随机森林。并对比这三种树模型在波士顿房价预测上的性能差异"
   ]
  },
  {
   "cell_type": "markdown",
   "metadata": {},
   "source": [
    "##### 极端随机森林extremely randomized tress，与普通随机森林不同的地方是，它每当构建一个分裂节点的时候，不会任意的选择特征；\n",
    "##### 而是随机搜集一部分特征，然后使用Entropy信息熵或基尼不纯度Jini Impurity来挑选最佳的节点"
   ]
  },
  {
   "cell_type": "markdown",
   "metadata": {},
   "source": [
    "### 1.加载数据\n"
   ]
  },
  {
   "cell_type": "code",
   "execution_count": 1,
   "metadata": {
    "collapsed": true
   },
   "outputs": [],
   "source": [
    "from sklearn.datasets import load_boston\n",
    "df = load_boston()"
   ]
  },
  {
   "cell_type": "markdown",
   "metadata": {},
   "source": [
    "### 2.数据分割"
   ]
  },
  {
   "cell_type": "code",
   "execution_count": 2,
   "metadata": {
    "collapsed": false
   },
   "outputs": [
    {
     "name": "stderr",
     "output_type": "stream",
     "text": [
      "D:\\softwares\\Anaconda3\\lib\\site-packages\\sklearn\\cross_validation.py:41: DeprecationWarning: This module was deprecated in version 0.18 in favor of the model_selection module into which all the refactored classes and functions are moved. Also note that the interface of the new CV iterators are different from that of this module. This module will be removed in 0.20.\n",
      "  \"This module will be removed in 0.20.\", DeprecationWarning)\n"
     ]
    }
   ],
   "source": [
    "from sklearn.cross_validation import train_test_split\n",
    "x_train,x_test,y_train,y_test = train_test_split(df.data,df.target,test_size=0.25,random_state=123)"
   ]
  },
  {
   "cell_type": "markdown",
   "metadata": {},
   "source": [
    "### 3.使用三种树形回归预测房价"
   ]
  },
  {
   "cell_type": "code",
   "execution_count": 4,
   "metadata": {
    "collapsed": true
   },
   "outputs": [],
   "source": [
    "from sklearn.ensemble import RandomForestRegressor,ExtraTreesRegressor,GradientBoostingRegressor\n",
    "\n",
    "#普通随机深林\n",
    "rfr = RandomForestRegressor(n_estimators=100)\n",
    "rfr.fit(x_train,y_train)\n",
    "rfr_predict = rfr.predict(x_test)\n",
    "\n",
    "#极端随机森林\n",
    "etr = ExtraTreesRegressor(n_estimators=100)\n",
    "etr.fit(x_train,y_train)\n",
    "etr_predict = etr.predict(x_test)\n",
    "\n",
    "#梯度提升树\n",
    "gbr = GradientBoostingRegressor(n_estimators=100)\n",
    "gbr.fit(x_train,y_train)\n",
    "gbr_predict = gbr.predict(x_test)"
   ]
  },
  {
   "cell_type": "markdown",
   "metadata": {},
   "source": [
    "### 4.性能评估"
   ]
  },
  {
   "cell_type": "code",
   "execution_count": 5,
   "metadata": {
    "collapsed": false
   },
   "outputs": [
    {
     "name": "stdout",
     "output_type": "stream",
     "text": [
      "普通随机森林：R-squared : 0.798777604544 , MSE : 15.2364673543 , MAE : 2.22626771654\n",
      "极端随机森林：R-squared : 0.830096663585 , MSE : 12.205984685 , MAE : 2.1658503937\n",
      "梯度提升树：R-squared : 0.831776348656 , MSE : 13.6826340285 , MAE : 2.26740684706\n"
     ]
    }
   ],
   "source": [
    "from sklearn.metrics import r2_score,mean_absolute_error,mean_squared_error\n",
    "print('普通随机森林：R-squared : %s , MSE : %s , MAE : %s'%(r2_score(rfr_predict,y_test),\n",
    "                                                     mean_squared_error(rfr_predict,y_test),mean_absolute_error(rfr_predict,y_test)))\n",
    "\n",
    "print('极端随机森林：R-squared : %s , MSE : %s , MAE : %s'%(r2_score(etr_predict,y_test),\n",
    "                                                     mean_squared_error(etr_predict,y_test),mean_absolute_error(etr_predict,y_test)))\n",
    "\n",
    "print('梯度提升树：R-squared : %s , MSE : %s , MAE : %s'%(r2_score(gbr_predict,y_test),\n",
    "                                                     mean_squared_error(gbr_predict,y_test),mean_absolute_error(gbr_predict,y_test)))"
   ]
  },
  {
   "cell_type": "code",
   "execution_count": 6,
   "metadata": {
    "collapsed": false
   },
   "outputs": [
    {
     "name": "stdout",
     "output_type": "stream",
     "text": [
      "[['0.00284444758598' 'AGE']\n",
      " ['0.00484871887672' 'B']\n",
      " ['0.0144323983971' 'CHAS']\n",
      " ['0.0145231261998' 'CRIM']\n",
      " ['0.0173157045183' 'DIS']\n",
      " ['0.0288086860723' 'INDUS']\n",
      " ['0.0325966755958' 'LSTAT']\n",
      " ['0.0377769643196' 'NOX']\n",
      " ['0.0398316431178' 'PTRATIO']\n",
      " ['0.0404295609625' 'RAD']\n",
      " ['0.0478236994209' 'RM']\n",
      " ['0.356460621393' 'TAX']\n",
      " ['0.36230775354' 'ZN']]\n"
     ]
    }
   ],
   "source": [
    "import numpy as np\n",
    "#利用训练好的极端随机森林，输入每种特征对输出目标的贡献度\n",
    "print(np.sort(tuple(zip(etr.feature_importances_,df.feature_names)),axis=0))"
   ]
  },
  {
   "cell_type": "code",
   "execution_count": 19,
   "metadata": {
    "collapsed": false
   },
   "outputs": [
    {
     "data": {
      "text/plain": [
       "array(['CRIM', 'ZN', 'INDUS', 'CHAS', 'NOX', 'RM', 'AGE', 'DIS', 'RAD',\n",
       "       'TAX', 'PTRATIO', 'B', 'LSTAT'],\n",
       "      dtype='<U7')"
      ]
     },
     "execution_count": 19,
     "metadata": {},
     "output_type": "execute_result"
    }
   ],
   "source": [
    "df.feature_names"
   ]
  },
  {
   "cell_type": "code",
   "execution_count": 20,
   "metadata": {
    "collapsed": false
   },
   "outputs": [
    {
     "data": {
      "text/plain": [
       "array([ 0.02445915,  0.00986784,  0.0158564 ,  0.00163278,  0.03230127,\n",
       "        0.34264414,  0.01901012,  0.04515863,  0.02683744,  0.06400414,\n",
       "        0.0367347 ,  0.01189511,  0.36959827])"
      ]
     },
     "execution_count": 20,
     "metadata": {},
     "output_type": "execute_result"
    }
   ],
   "source": [
    "etr.feature_importances_"
   ]
  },
  {
   "cell_type": "code",
   "execution_count": 23,
   "metadata": {
    "collapsed": false
   },
   "outputs": [
    {
     "data": {
      "text/plain": [
       "[(0.024459154970015155, 'CRIM'),\n",
       " (0.0098678442495268182, 'ZN'),\n",
       " (0.015856402704781794, 'INDUS'),\n",
       " (0.0016327793087089963, 'CHAS'),\n",
       " (0.032301271608473452, 'NOX'),\n",
       " (0.34264414143704819, 'RM'),\n",
       " (0.019010115373657859, 'AGE'),\n",
       " (0.045158626829870076, 'DIS'),\n",
       " (0.026837436977527336, 'RAD'),\n",
       " (0.064004141082167412, 'TAX'),\n",
       " (0.03673470174942451, 'PTRATIO'),\n",
       " (0.011895111923940787, 'B'),\n",
       " (0.36959827178485755, 'LSTAT')]"
      ]
     },
     "execution_count": 23,
     "metadata": {},
     "output_type": "execute_result"
    }
   ],
   "source": [
    "list(zip(etr.feature_importances_,df.feature_names))"
   ]
  },
  {
   "cell_type": "code",
   "execution_count": 27,
   "metadata": {
    "collapsed": false
   },
   "outputs": [
    {
     "name": "stdout",
     "output_type": "stream",
     "text": [
      "[  8.12203929e-02   9.96693026e-03   3.77328837e-02   1.50855139e-04\n",
      "   7.13855382e-02   1.87724845e-01   9.04964973e-02   1.26455338e-01\n",
      "   2.03974848e-02   7.38847461e-02   5.76633451e-02   7.86477480e-02\n",
      "   1.64273396e-01]\n"
     ]
    }
   ],
   "source": [
    "print(gbr.feature_importances_)"
   ]
  },
  {
   "cell_type": "code",
   "execution_count": 28,
   "metadata": {
    "collapsed": false
   },
   "outputs": [
    {
     "data": {
      "text/plain": [
       "array([ 0.02976292,  0.00117874,  0.00585249,  0.00114585,  0.02098487,\n",
       "        0.5730904 ,  0.01480721,  0.04071374,  0.00294294,  0.02012298,\n",
       "        0.01178815,  0.00996938,  0.26764032])"
      ]
     },
     "execution_count": 28,
     "metadata": {},
     "output_type": "execute_result"
    }
   ],
   "source": [
    "rfr.feature_importances_"
   ]
  },
  {
   "cell_type": "markdown",
   "metadata": {},
   "source": [
    "### 5.集成算法特点分析"
   ]
  },
  {
   "cell_type": "markdown",
   "metadata": {},
   "source": [
    "##### 集成算法的性能一般都比较高，因此备受青睐"
   ]
  },
  {
   "cell_type": "code",
   "execution_count": null,
   "metadata": {
    "collapsed": true
   },
   "outputs": [],
   "source": []
  }
 ],
 "metadata": {
  "kernelspec": {
   "display_name": "Python 3",
   "language": "python",
   "name": "python3"
  },
  "language_info": {
   "codemirror_mode": {
    "name": "ipython",
    "version": 3
   },
   "file_extension": ".py",
   "mimetype": "text/x-python",
   "name": "python",
   "nbconvert_exporter": "python",
   "pygments_lexer": "ipython3",
   "version": "3.6.0"
  }
 },
 "nbformat": 4,
 "nbformat_minor": 2
}
