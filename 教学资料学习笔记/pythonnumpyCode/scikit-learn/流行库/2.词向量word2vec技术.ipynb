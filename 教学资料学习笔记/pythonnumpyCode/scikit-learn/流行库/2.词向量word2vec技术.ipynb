{
 "cells": [
  {
   "cell_type": "code",
   "execution_count": 2,
   "metadata": {
    "collapsed": true
   },
   "outputs": [],
   "source": [
    "from sklearn.datasets import fetch_20newsgroups\n",
    "news = fetch_20newsgroups(subset='all')"
   ]
  },
  {
   "cell_type": "code",
   "execution_count": 3,
   "metadata": {
    "collapsed": true
   },
   "outputs": [],
   "source": [
    "x,y = news.data,news.target"
   ]
  },
  {
   "cell_type": "code",
   "execution_count": 5,
   "metadata": {
    "collapsed": true
   },
   "outputs": [],
   "source": [
    "from bs4 import BeautifulSoup\n",
    "import nltk,re"
   ]
  },
  {
   "cell_type": "code",
   "execution_count": 41,
   "metadata": {
    "collapsed": true
   },
   "outputs": [],
   "source": [
    "#定义函数，将每条新闻中的句子逐一剥离出来，返回一个句子的列表\n",
    "def news_to_sentences(news):\n",
    "    news_text = BeautifulSoup(news,'html.parser').get_text()\n",
    "    toknizer = nltk.data.load('tokenizers/punkt/english.pickle')\n",
    "    raw_sentences = toknizer.tokenize(news_text)\n",
    "    sentences = []\n",
    "    for sent in raw_sentences:\n",
    "        #将字母开头的，变成小写,用空格分开\n",
    "        sentences.append(re.sub('[^a-zA-Z]',' ',sent.lower().strip()).split())\n",
    "    return sentences"
   ]
  },
  {
   "cell_type": "code",
   "execution_count": 44,
   "metadata": {
    "collapsed": true
   },
   "outputs": [],
   "source": [
    "sentences = []"
   ]
  },
  {
   "cell_type": "code",
   "execution_count": 45,
   "metadata": {
    "collapsed": false
   },
   "outputs": [],
   "source": [
    "#将唱片新闻中的句子剥离出来，用于训练\n",
    "for new_data in x:\n",
    "    sentences += news_to_sentences(new_data)"
   ]
  },
  {
   "cell_type": "code",
   "execution_count": 47,
   "metadata": {
    "collapsed": false
   },
   "outputs": [],
   "source": [
    "#从gensim.models里面导入word2vec\n",
    "from gensim.models import word2vec\n",
    "#配置词向量维度\n",
    "num_features = 300\n",
    "#保证被考虑到的词汇频率\n",
    "min_word_count = 20\n",
    "#设定并行化训练使用CPU计算核心的数量\n",
    "num_workers = 3\n",
    "#定义训练词向量的上下文窗口大小\n",
    "window = 5\n",
    "downsampling = 1e-3\n",
    "model = word2vec.Word2Vec(sentences,workers=num_workers,size=num_features,min_count=min_word_count,window=window,sample=downsampling)"
   ]
  },
  {
   "cell_type": "code",
   "execution_count": 48,
   "metadata": {
    "collapsed": true
   },
   "outputs": [],
   "source": [
    "#设定代表当前训练好的词向量最终版，也可以加快模型训练的速度\n",
    "model.init_sims(replace=True)"
   ]
  },
  {
   "cell_type": "code",
   "execution_count": 49,
   "metadata": {
    "collapsed": false
   },
   "outputs": [
    {
     "data": {
      "text/plain": [
       "[('he', 0.8231163024902344),\n",
       " ('her', 0.7196239233016968),\n",
       " ('doctor', 0.610402524471283),\n",
       " ('him', 0.6087732315063477),\n",
       " ('nobody', 0.6079404354095459),\n",
       " ('jesus', 0.5880248546600342),\n",
       " ('somebody', 0.5773591995239258),\n",
       " ('pain', 0.5752191543579102),\n",
       " ('someone', 0.5718115568161011),\n",
       " ('child', 0.5711559057235718)]"
      ]
     },
     "execution_count": 49,
     "metadata": {},
     "output_type": "execute_result"
    }
   ],
   "source": [
    "#利用训练好的模型，寻找训练文本中与dog最相关的10个词汇\n",
    "model.most_similar('she')"
   ]
  },
  {
   "cell_type": "code",
   "execution_count": 50,
   "metadata": {
    "collapsed": false
   },
   "outputs": [
    {
     "data": {
      "text/plain": [
       "[('woman', 0.7764749526977539),\n",
       " ('himself', 0.616173505783081),\n",
       " ('son', 0.6048915982246399),\n",
       " ('satan', 0.5991507768630981),\n",
       " ('lord', 0.5941281318664551),\n",
       " ('god', 0.5927965044975281),\n",
       " ('father', 0.5792840123176575),\n",
       " ('christ', 0.5655056238174438),\n",
       " ('jehovah', 0.5572310090065002),\n",
       " ('spirit', 0.5548400282859802)]"
      ]
     },
     "execution_count": 50,
     "metadata": {},
     "output_type": "execute_result"
    }
   ],
   "source": [
    "#利用训练好的模型，寻找训练文本中与man最相关的10个词汇\n",
    "model.most_similar('man')"
   ]
  },
  {
   "cell_type": "code",
   "execution_count": 51,
   "metadata": {
    "collapsed": false
   },
   "outputs": [
    {
     "data": {
      "text/plain": [
       "[('man', 0.7764750123023987),\n",
       " ('son', 0.7450671195983887),\n",
       " ('wife', 0.6993557214736938),\n",
       " ('mother', 0.6985374689102173),\n",
       " ('father', 0.6921697854995728),\n",
       " ('child', 0.6893677711486816),\n",
       " ('himself', 0.6662220358848572),\n",
       " ('lawyer', 0.6635123491287231),\n",
       " ('husband', 0.6634109020233154),\n",
       " ('prophet', 0.6594805717468262)]"
      ]
     },
     "execution_count": 51,
     "metadata": {},
     "output_type": "execute_result"
    }
   ],
   "source": [
    "#利用训练好的模型，寻找训练文本中与woman最相关的10个词汇\n",
    "model.most_similar('woman')"
   ]
  },
  {
   "cell_type": "code",
   "execution_count": null,
   "metadata": {
    "collapsed": true
   },
   "outputs": [],
   "source": []
  }
 ],
 "metadata": {
  "kernelspec": {
   "display_name": "Python 3",
   "language": "python",
   "name": "python3"
  },
  "language_info": {
   "codemirror_mode": {
    "name": "ipython",
    "version": 3
   },
   "file_extension": ".py",
   "mimetype": "text/x-python",
   "name": "python",
   "nbconvert_exporter": "python",
   "pygments_lexer": "ipython3",
   "version": "3.6.0"
  }
 },
 "nbformat": 4,
 "nbformat_minor": 2
}
