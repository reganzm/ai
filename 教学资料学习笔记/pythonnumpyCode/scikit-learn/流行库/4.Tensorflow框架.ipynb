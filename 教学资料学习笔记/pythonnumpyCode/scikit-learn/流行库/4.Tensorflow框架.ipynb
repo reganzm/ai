{
 "cells": [
  {
   "cell_type": "markdown",
   "metadata": {},
   "source": [
    "### tensorflow使用图Graph来表示计算任务，并使用会话Session来执行图"
   ]
  },
  {
   "cell_type": "markdown",
   "metadata": {},
   "source": [
    "### 使用tenforflow输出一句话"
   ]
  },
  {
   "cell_type": "code",
   "execution_count": 1,
   "metadata": {
    "collapsed": true
   },
   "outputs": [],
   "source": [
    "import tensorflow as tf\n",
    "import numpy as np"
   ]
  },
  {
   "cell_type": "code",
   "execution_count": 2,
   "metadata": {
    "collapsed": false
   },
   "outputs": [
    {
     "name": "stdout",
     "output_type": "stream",
     "text": [
      "hello deep learning!\n"
     ]
    }
   ],
   "source": [
    "#初始化一个tensorflow常量（定义一个图）\n",
    "hello = tf.constant('hello deep learning!')\n",
    "#启动一个会话\n",
    "sess = tf.Session()\n",
    "#使用会话执行图计算\n",
    "res = sess.run(hello)\n",
    "print(res.decode('utf-8'))\n",
    "sess.close()"
   ]
  },
  {
   "cell_type": "markdown",
   "metadata": {},
   "source": [
    "### 使用Tensorflow完成一次线性函数的计算"
   ]
  },
  {
   "cell_type": "code",
   "execution_count": 3,
   "metadata": {
    "collapsed": false
   },
   "outputs": [
    {
     "name": "stdout",
     "output_type": "stream",
     "text": [
      "[[ 32.]]\n"
     ]
    }
   ],
   "source": [
    "m1 = tf.constant([[3.,3.]])#1*2\n",
    "m2 = tf.constant([[3.],[5.]])#2*1\n",
    "res = tf.matmul(m1,m2)\n",
    "linear = tf.add(res,tf.constant(8.0))\n",
    "\n",
    "#启动会话\n",
    "with tf.Session() as sess:\n",
    "    res = sess.run(linear)\n",
    "    print(res)"
   ]
  },
  {
   "cell_type": "markdown",
   "metadata": {},
   "source": [
    "### 使用Tensorflow定义线性分类器，完成“良/恶性乳腺癌肿瘤”的预测功能"
   ]
  },
  {
   "cell_type": "code",
   "execution_count": 4,
   "metadata": {
    "collapsed": false
   },
   "outputs": [
    {
     "name": "stderr",
     "output_type": "stream",
     "text": [
      "D:\\softwares\\Anaconda3\\lib\\site-packages\\sklearn\\cross_validation.py:41: DeprecationWarning: This module was deprecated in version 0.18 in favor of the model_selection module into which all the refactored classes and functions are moved. Also note that the interface of the new CV iterators are different from that of this module. This module will be removed in 0.20.\n",
      "  \"This module will be removed in 0.20.\", DeprecationWarning)\n"
     ]
    }
   ],
   "source": [
    "import tensorflow as tf\n",
    "import numpy as np\n",
    "import pandas as pd\n",
    "from sklearn.cross_validation import train_test_split\n",
    "\n",
    "column_names = ['Sample code number','Clump Thickness','Uniformity of Cell Size','Uniformity of Cell Shape','Marginal Adhesion',\n",
    "                'Single Epithelial Cell Size','Bare Nuclei','Bland Chromatin','Normal Nucleoli','Mitoses','Class']\n",
    "df = pd.read_csv('https://archive.ics.uci.edu/ml/machine-learning-databases/breast-cancer-wisconsin/breast-cancer-wisconsin.data'\n",
    "                 ,names=column_names)\n",
    "# 发现虽然没有nan的数据，但是看到有？的数据。把？的数据替换为标准缺失值表示nan\n",
    "df = df.replace(to_replace=\"?\",value=np.nan)\n",
    "#丢掉数据，策略是一行中只要有一个位nan就丢弃整行，还有一种策略是设置为all，整行都为nan才丢弃\n",
    "df.dropna(how='any',inplace=True)\n",
    "train,test = train_test_split(df,test_size=0.25,random_state = 123)"
   ]
  },
  {
   "cell_type": "code",
   "execution_count": 5,
   "metadata": {
    "collapsed": false
   },
   "outputs": [],
   "source": [
    "#分割特征与分类目标\n",
    "X_train = np.float32(train[['Clump Thickness','Uniformity of Cell Size']].T)\n",
    "Y_train = np.float32(train['Class'].T)\n",
    "\n",
    "X_test = np.float32(test[['Clump Thickness','Uniformity of Cell Size']].T)\n",
    "Y_test = np.float32(test['Class'].T)"
   ]
  },
  {
   "cell_type": "code",
   "execution_count": 6,
   "metadata": {
    "collapsed": false
   },
   "outputs": [],
   "source": [
    "#定义一个tensorflow变量，作为线性模型的截距\n",
    "b = tf.Variable(tf.zeros([1]))"
   ]
  },
  {
   "cell_type": "code",
   "execution_count": 7,
   "metadata": {
    "collapsed": false
   },
   "outputs": [],
   "source": [
    "#定义一个tensorflow变量W作为线性模型的系数，设置为-1到1之间的均匀分布随机数\n",
    "W = tf.Variable(tf.random_uniform([1,2],-1.0,1.0))"
   ]
  },
  {
   "cell_type": "code",
   "execution_count": 8,
   "metadata": {
    "collapsed": false
   },
   "outputs": [],
   "source": [
    "#定义这个线性代数\n",
    "y = tf.matmul(W,X_train) + b"
   ]
  },
  {
   "cell_type": "code",
   "execution_count": 9,
   "metadata": {
    "collapsed": true
   },
   "outputs": [],
   "source": [
    "#使用tensorflow中的reduce_mean取得训练集上的均方误差\n",
    "loss = tf.reduce_mean(tf.square(y - Y_train))"
   ]
  },
  {
   "cell_type": "code",
   "execution_count": 10,
   "metadata": {
    "collapsed": true
   },
   "outputs": [],
   "source": [
    "#使用梯度下降法估计参数W、b，并设置迭代步长为0.01,与scikit-learn中的SGDRegressor类似\n",
    "optimizer = tf.train.GradientDescentOptimizer(0.01)"
   ]
  },
  {
   "cell_type": "code",
   "execution_count": 11,
   "metadata": {
    "collapsed": true
   },
   "outputs": [],
   "source": [
    "#以最小二乘损失为优化目标\n",
    "train = optimizer.minimize(loss)\n"
   ]
  },
  {
   "cell_type": "code",
   "execution_count": 21,
   "metadata": {
    "collapsed": false
   },
   "outputs": [
    {
     "name": "stdout",
     "output_type": "stream",
     "text": [
      "WARNING:tensorflow:From D:\\softwares\\Anaconda3\\lib\\site-packages\\tensorflow\\python\\util\\tf_should_use.py:170: initialize_all_variables (from tensorflow.python.ops.variables) is deprecated and will be removed after 2017-03-02.\n",
      "Instructions for updating:\n",
      "Use `tf.global_variables_initializer` instead.\n"
     ]
    }
   ],
   "source": [
    "#初始化所有变量\n",
    "init = tf.initialize_all_variables()"
   ]
  },
  {
   "cell_type": "code",
   "execution_count": 22,
   "metadata": {
    "collapsed": true
   },
   "outputs": [],
   "source": [
    "#开启会话\n",
    "sess = tf.Session()"
   ]
  },
  {
   "cell_type": "code",
   "execution_count": 23,
   "metadata": {
    "collapsed": true
   },
   "outputs": [],
   "source": [
    "#执行变量初始化操作\n",
    "sess.run(init)"
   ]
  },
  {
   "cell_type": "code",
   "execution_count": 24,
   "metadata": {
    "collapsed": false,
    "scrolled": false
   },
   "outputs": [
    {
     "name": "stdout",
     "output_type": "stream",
     "text": [
      "0 [[-0.46010095  1.1072762 ]] [ 0.06928917]\n",
      "500 [[ 0.12633613  0.190065  ]] [ 1.52036965]\n",
      "1000 [[ 0.11335963  0.18999504]] [ 1.59974027]\n",
      "1500 [[ 0.11257986  0.18999083]] [ 1.60450971]\n",
      "2000 [[ 0.1125332   0.18999061]] [ 1.60479498]\n",
      "2500 [[ 0.11253165  0.18999058]] [ 1.60480452]\n",
      "3000 [[ 0.11253165  0.18999058]] [ 1.60480452]\n",
      "3500 [[ 0.11253165  0.18999058]] [ 1.60480452]\n",
      "4000 [[ 0.11253165  0.18999058]] [ 1.60480452]\n",
      "4500 [[ 0.11253165  0.18999058]] [ 1.60480452]\n"
     ]
    }
   ],
   "source": [
    "#迭代500次，训练参数\n",
    "for i in np.arange(5000):\n",
    "    sess.run(train)\n",
    "    if(i % 500 ==0):\n",
    "        print(i,sess.run(W),sess.run(b))"
   ]
  },
  {
   "cell_type": "code",
   "execution_count": 25,
   "metadata": {
    "collapsed": false
   },
   "outputs": [],
   "source": [
    "test_negetive = test.loc[test['Class']==2][['Clump Thickness','Uniformity of Cell Size']]\n",
    "test_positive = test.loc[test['Class']==4][['Clump Thickness','Uniformity of Cell Size']]"
   ]
  },
  {
   "cell_type": "code",
   "execution_count": 27,
   "metadata": {
    "collapsed": false
   },
   "outputs": [
    {
     "data": {
      "image/png": "[encoded data removed]",
      "text/plain": [
       "<matplotlib.figure.Figure at 0xbbf0828>"
      ]
     },
     "metadata": {},
     "output_type": "display_data"
    }
   ],
   "source": [
    "import matplotlib.pyplot as plt\n",
    "plt.figure(figsize=(10,6))\n",
    "plt.scatter(test_negetive['Clump Thickness'],test_negetive['Uniformity of Cell Size'],marker='x')\n",
    "plt.scatter(test_positive['Clump Thickness'],test_positive['Uniformity of Cell Size'],marker='*')\n",
    "plt.ylabel('Cell Size')\n",
    "plt.xlabel('Clump Thickness')\n",
    "\n",
    "lx = np.arange(0,12)\n",
    "ly = (0.5-sess.run(b) - lx*sess.run(W)[0][0]) / sess.run(W)[0][1]\n",
    "#plt.plot(lx,ly,color='g')\n",
    "plt.show()"
   ]
  },
  {
   "cell_type": "code",
   "execution_count": null,
   "metadata": {
    "collapsed": false
   },
   "outputs": [],
   "source": []
  },
  {
   "cell_type": "code",
   "execution_count": null,
   "metadata": {
    "collapsed": true
   },
   "outputs": [],
   "source": []
  }
 ],
 "metadata": {
  "kernelspec": {
   "display_name": "Python 3",
   "language": "python",
   "name": "python3"
  },
  "language_info": {
   "codemirror_mode": {
    "name": "ipython",
    "version": 3
   },
   "file_extension": ".py",
   "mimetype": "text/x-python",
   "name": "python",
   "nbconvert_exporter": "python",
   "pygments_lexer": "ipython3",
   "version": "3.6.0"
  }
 },
 "nbformat": 4,
 "nbformat_minor": 2
}
