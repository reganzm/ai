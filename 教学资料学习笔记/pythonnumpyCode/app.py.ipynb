{
 "cells": [
  {
   "cell_type": "code",
   "execution_count": 3,
   "metadata": {
    "collapsed": false
   },
   "outputs": [
    {
     "name": "stderr",
     "output_type": "stream",
     "text": [
      " * Running on http://0.0.0.0:5000/ (Press CTRL+C to quit)\n",
      " * Restarting with stat\n"
     ]
    },
    {
     "ename": "SystemExit",
     "evalue": "1",
     "output_type": "error",
     "traceback": [
      "An exception has occurred, use %tb to see the full traceback.\n",
      "\u001b[0;31mSystemExit\u001b[0m\u001b[0;31m:\u001b[0m 1\n"
     ]
    },
    {
     "name": "stderr",
     "output_type": "stream",
     "text": [
      "D:\\softwares\\Anaconda3\\lib\\site-packages\\IPython\\core\\interactiveshell.py:2889: UserWarning: To exit: use 'exit', 'quit', or Ctrl-D.\n",
      "  warn(\"To exit: use 'exit', 'quit', or Ctrl-D.\", stacklevel=1)\n"
     ]
    }
   ],
   "source": [
    "#导入Flask和Redis模块\n",
    "from flask import Flask\n",
    "from redis import Redis\n",
    "import os\n",
    "#创建Flask app\n",
    "app = Flask(__name__)\n",
    "#通过host连接到Redis\n",
    "redis = Redis(host=\"redis\",port=6379)\n",
    "#指定访问路径\n",
    "@app.route('/')\n",
    "def hi():\n",
    "    redis.incr(\"ping\")\n",
    "    return 'hi , you have ping {0} times'.format(redis.get('ping'))\n",
    "\n",
    "if __name__ == '__main__':\n",
    "    app.run(host=\"0.0.0.0\",debug=True)"
   ]
  },
  {
   "cell_type": "code",
   "execution_count": 13,
   "metadata": {
    "collapsed": false
   },
   "outputs": [],
   "source": [
    "import requests"
   ]
  },
  {
   "cell_type": "code",
   "execution_count": 14,
   "metadata": {
    "collapsed": false
   },
   "outputs": [
    {
     "ename": "SyntaxError",
     "evalue": "invalid character in identifier (<ipython-input-14-2138f1a630a4>, line 1)",
     "output_type": "error",
     "traceback": [
      "\u001b[0;36m  File \u001b[0;32m\"<ipython-input-14-2138f1a630a4>\"\u001b[0;36m, line \u001b[0;32m1\u001b[0m\n\u001b[0;31m    Data={‘username’:username,’password’:password}\u001b[0m\n\u001b[0m                   ^\u001b[0m\n\u001b[0;31mSyntaxError\u001b[0m\u001b[0;31m:\u001b[0m invalid character in identifier\n"
     ]
    }
   ],
   "source": [
    "Data={‘username’:username,’password’:password}  "
   ]
  },
  {
   "cell_type": "code",
   "execution_count": 15,
   "metadata": {
    "collapsed": false
   },
   "outputs": [
    {
     "data": {
      "text/plain": [
       "'    <!DOCTYPE html>\\r\\n\\t<html lang=\"en-US\">\\r\\n\\t<head>\\r\\n\\t   \\r\\n    <meta name=\"viewport\" content=\"width=device-width, user-scalable=no, initial-scale=1.0, maximum-scale=1.0, minimum-scale=1.0\" />\\r\\n    <meta name=\"apple-mobile-web-app-capable\" content=\"yes\" />\\r\\n    <meta name=\"apple-mobile-web-app-status-bar-style\" content=\"black\" />\\r\\n    <meta name=\"format-detection\" content=\"telephone=no, email=no\" />\\r\\n    <meta name=\"renderer\" content=\"webkit\">\\r\\n    <meta http-equiv=\"X-UA-Compatible\" content=\"IE=edge\">\\r\\n    <meta name=\"HandheldFriendly\" content=\"true\">\\r\\n    <meta name=\"MobileOptimized\" content=\"320\">\\r\\n    <meta name=\"screen-orientation\" content=\"portrait\">\\r\\n    <meta name=\"x5-orientation\" content=\"portrait\">\\r\\n    <meta name=\"full-screen\" content=\"yes\">\\r\\n    <meta name=\"x5-fullscreen\" content=\"true\">\\r\\n    <meta name=\"browsermode\" content=\"application\">\\r\\n    <meta name=\"x5-page-mode\" content=\"app\">\\r\\n    <meta name=\"msapplication-tap-highlight\" content=\"no\"> \\r\\n\\t\\t\\t\\t<meta charset=\"UTF-8\">\\r\\n\\t\\t<meta name=\"csrf-param\" content=\"_csrf\">\\n    <meta name=\"csrf-token\" content=\"bnd3NWhBbmEqQyhUBywJER0wIGw6F1pXLAMkWy12PyQqHDRzLCc/Mg==\">\\n\\t\\t<title>51CTO技术家园</title>\\r\\n\\t\\t<link rel=\"shortcut icon\" href=\"https://static1.51cto.com/home/web/images/favicon.ico\" type=\"image/x-icon\">\\t\\r\\n\\t\\t<link href=\"https://static4.51cto.com/home/web/css/z_sign.min.css?v=100008\" rel=\"stylesheet\">\\n<script src=\"https://static5.51cto.com/home/web/js/jquery.min.js?v=10001\"></script>\\n<script src=\"https://static4.51cto.com/home/web/js/51cto.js?v=10001\"></script>\\n<script src=\"https://static1.51cto.com/home/web/js/public/msg.js?v=10001\"></script>\\n<script src=\"https://static5.51cto.com/home/web/js/jquery.message.js?v=10001\"></script>\\n<script src=\"https://static4.51cto.com/home/web/js/yii/yii.js?v=10001\"></script>\\n<script src=\"https://static5.51cto.com/home/web/js/yii/yii.activeForm.js?v=10001\"></script>\\n<script src=\"https://static4.51cto.com/home/web/js/yii/yii.validation.js?v=10001\"></script>\\t\\t\\r\\n\\t</head>\\t\\r\\n\\t\\t<body>\\r\\n \\r\\n <div class=\"sign\">\\r\\n  <div class=\"loginWrap\"> <a class=\"logo\"></a>\\r\\n    <div class=\"loginPic zxflogoPic clearfix\">\\r\\n      <div class=\"loginImg\">\\r\\n         <a href=\"hhttp://bbs.51cto.com/thread-1544168-1.html\" target=\"_blank\"><img src=\"https://s3.51cto.com/oss/201712/11/ac27c4b34a191dae924e598fb7272197.jpg\" alt=\"\" border=\"0\" /></a>   \\r\\n      </div>\\r\\n      <div class=\"loginBord\" id=\"login-base\">\\r\\n        <a style=\"font-size:12px; color:#d54e4e; position:absolute; top:0; right:17px;  background:url(https://s1.51cto.com/images/201712/06/85c5d4cfd0ed85ac160a967b78e76cfa.png) no-repeat center top; height:33px; line-height:27px; width:222px; text-align:center;\" href=\"http://edu.51cto.com/activity/6.html?qd=?denglu#ling\">12月5号-14号注册送51CTO月会员哦！</a>\\r\\n        <div class=\"loginTit\">\\r\\n\\r\\n          <div class=\"tosignup\"> <a target=\"_blank\" href=\"http://51ctohome.blog.51cto.com/1805422/579769\" style=\"margin-right:10px;color:#969696;\">无法登录?</a>|<a href=\"/user/register?reback=http%3A%2F%2Fedu.51cto.com%2Fcenter%2Fuser%2Findex%2Flogin-success%3Fsign%3D27bbVFNTAgdTVgMJAwMFAAYNVQtbUAEMVABUUgAJQxBFWBlLBgdHGVZXUE1cT1IKWRcAXAwQXUpLExEJVAhDS1wMUgEbTFVSF0tAWF8EQkhGXQBWEAAHSAUEBlsAR0QNTwcLVlNRBVUB%26client%3Dweb\" style=\"margin-left:10px;color:#d54e4e;\">注册</a> </div>\\r\\n\\r\\n          <h1 style=\"color:#333;\">登录51CTO</h1>\\r\\n        </div>\\r\\n           <form id=\"login-form\" action=\"/index/?reback=http%3A%2F%2Fedu.51cto.com%2Fcenter%2Fuser%2Findex%2Flogin-success%3Fsign%3D27bbVFNTAgdTVgMJAwMFAAYNVQtbUAEMVABUUgAJQxBFWBlLBgdHGVZXUE1cT1IKWRcAXAwQXUpLExEJVAhDS1wMUgEbTFVSF0tAWF8EQkhGXQBWEAAHSAUEBlsAR0QNTwcLVlNRBVUB%26client%3Dweb\" method=\"post\" role=\"form\">\\n<input type=\"hidden\" name=\"_csrf\" value=\"bnd3NWhBbmEqQyhUBywJER0wIGw6F1pXLAMkWy12PyQqHDRzLCc/Mg==\">\\t\\t\\r\\n          <div class=\"inpBox textbox_ui user\">          \\r\\n\\t\\t\\t<div class=\"form-group field-loginform-username required\">\\n<label class=\"control-label\" for=\"loginform-username\"></label>\\n<input type=\"text\" id=\"loginform-username\" class=\"form-control\" name=\"LoginForm[username]\" placeholder=\"用户名/邮箱/手机\">\\n\\n<div class=\"custom invalid error_9o8Kl\" style=\"display:none\"></div>\\n</div>          </div>\\r\\n          <div class=\"inpBox textbox_ui pass zxfpass\">\\r\\n\\t\\t\\t <div class=\"form-group field-loginform-password required\">\\n<label class=\"control-label\" for=\"loginform-password\"></label>\\n<input type=\"password\" id=\"loginform-password\" class=\"form-control\" name=\"LoginForm[password]\" placeholder=\"密码\">\\n\\n<div class=\"custom invalid error_9o8Kl\" style=\"display:none\"></div>\\n</div>          </div>\\r\\n\\t\\t    \\r\\n\\r\\n          <div class=\"clearfix zxfDl\">\\r\\n            <a class=\"fr\" href=\"/forgot-password/find-password?reback=http%3A%2F%2Fedu.51cto.com%2Fcenter%2Fuser%2Findex%2Flogin-success%3Fsign%3D27bbVFNTAgdTVgMJAwMFAAYNVQtbUAEMVABUUgAJQxBFWBlLBgdHGVZXUE1cT1IKWRcAXAwQXUpLExEJVAhDS1wMUgEbTFVSF0tAWF8EQkhGXQBWEAAHSAUEBlsAR0QNTwcLVlNRBVUB%26client%3Dweb\">忘记密码?</a>\\r\\n                <label for=\"agree_userterm\" class=\"fr\">\\r\\n                  <div class=\"form-group field-loginform-rememberme\">\\n<div class=\"checkbox\">\\n<label for=\"loginform-rememberme\">\\n<input type=\"hidden\" name=\"LoginForm[rememberMe]\" value=\"0\"><input type=\"checkbox\" id=\"loginform-rememberme\" name=\"LoginForm[rememberMe]\" value=\"1\">\\n10天内自动登录\\n</label>\\n<div class=\"custom invalid error_9o8Kl\" style=\"display:none\"></div>\\n\\n</div>\\n</div>                </label>\\r\\n\\t\\t   <input type=\"submit\" class=\"loginbtn fl\" name=\"login-button\" value=\"登 录\">              </div>\\r\\n          <div id=\"errorMsg\"></div>\\r\\n        </form>          <div class=\"zxfWechat\"><a href=\"javascript:;\"  onclick=\"wechat_login()\">微信登录</a></div>\\r\\n        <div class=\"otherAccout zxfAccout\">\\r\\n          <p>你也可以使用以下账号登录</p>\\r\\n          <div class=\"z_box\">\\r\\n          <div class=\"z_a\">\\r\\n            <div class=\"z_a_m clearfix\">\\r\\n                <a class=\"a_QQ\" href=\"/third-party/auth?type=qq\"><i class=\"iQQ\"></i>QQ</a>\\r\\n\\t\\t\\t\\t<a href=\"/third-party/auth?type=sina\"><i class=\"iweibo\"></i>微博</a>\\r\\n                <a href=\"/third-party/auth?type=douban\"><i class=\"douban\"></i>豆瓣</a>\\r\\n                <a href=\"/third-party/auth?type=renren\"><i class=\"irenren\"></i>人人</a>\\r\\n                <a href=\"/third-party/auth?type=github\" style=\"width: 64px;\"><i class=\"igitup\"></i>github</a>\\r\\n            </div>\\r\\n          </div>       \\r\\n        </div>\\r\\n        </div>\\r\\n        <div class=\"shadow_l\"></div>\\r\\n        <div class=\"shadow_r\"></div>\\r\\n      </div>\\r\\n        <div class=\"loginBord\" id=\"login-wechat\" style=\"display:none\">\\r\\n            <div class=\"loginTit\">\\r\\n                <div class=\"tosignup\"><a href=\"javascript:void(0);\" onclick=\"base_login()\" class=\"back_account\">返回账号登陆</a> </div>\\r\\n            <h1>登录51CTO</h1>\\r\\n        </div>\\r\\n            <!--20160530检测到微信开始-->\\r\\n            <div class=\"code_wxbox\">\\r\\n                <div class=\"wx_img\"><img src=\"\" width=\"185\" height=\"185\" id=\"qr-img\"></div>\\r\\n                <div class=\"wx_0s\">\\r\\n                    <div class=\"ts\">请使用微信扫描上方二维码</div>\\r\\n                    <div class=\"usehelp\"><a href=\"javascript:void(0)\">使用帮助</a></div>\\r\\n                </div>\\r\\n                <div class=\"wx_10s\" style=\"display:none\">\\r\\n                    <span class=\"wx_loseicon\"></span><span class=\"wx_losetxt\">二维码失效<br />请点击<a href=\"javascript:void(0);\" onclick=\"getQrImg()\">刷新二维码</a></span>\\r\\n                </div>\\r\\n                <div class=\"hidetips\"><img src=\"public/images/weixin_logintip.png\" width=\"258\" height=\"240\"></div>\\r\\n            </div>\\r\\n            <script type=\"text/javascript\">\\r\\n                $(function(){\\r\\n                    $(\\'.zxfAccout p\\').click(function() {\\r\\n                        $(\\'.z_box\\').toggle();\\r\\n                        $(\\'.zxfAccout p\\').toggleClass(\\'pUp\\');\\r\\n                    });\\r\\n                    function btnbg(zxf_a){\\r\\n                        $(zxf_a).focus(function() {\\r\\n                            $(\\'.zxfDl .loginbtn\\').addClass(\\'zxfBtnbg\\');\\r\\n                        });\\r\\n                        $(zxf_a).blur(function() {\\r\\n                            if($(\\'.pass input\\').val() == \\'\\' &&  $(\\'.user input\\').val() == \\'\\'){\\r\\n                                $(\\'.zxfDl .loginbtn\\').removeClass(\\'zxfBtnbg\\');\\r\\n                            }\\r\\n                        });\\r\\n                    }\\r\\n                    btnbg(\\'.pass input\\');\\r\\n                    btnbg(\\'.user input\\');\\r\\n                    $(\".usehelp a\").hover(function(){\\r\\n                        $(\".hidetips\").show()\\r\\n                    },function(){\\r\\n                        $(\".hidetips\").hide()\\r\\n                    });\\r\\n\\r\\n                });\\r\\n            </script>\\r\\n            <!--20160530检测到微信结束-->\\r\\n            <div class=\"shadow_l\"></div>\\r\\n            <div class=\"shadow_r\"></div>\\r\\n        </div>\\r\\n    </div>\\r\\n  </div>\\r\\n</div>\\r\\n\\r\\n\\r\\n\\r\\n <script type=\"text/javascript\">\\r\\n\\r\\n     var timmer_pull = null ;\\r\\n     var sid = \\'\\' ;\\r\\n\\r\\n     function getQrImg(){\\r\\n\\r\\n         $(\\'#qr-img\\').attr(\\'src\\', \\'https://static1.51cto.com/home/web/images/wx_bind/wx_loading.gif\\');\\r\\n\\r\\n         $.getJSON(\\'/wechat/get-qr-code\\', function(data){\\r\\n             if (data.code == 200){\\r\\n                 stopPull();\\r\\n\\r\\n                 $(\\'.wx_10s\\').hide();\\r\\n                 $(\\'.wx_0s\\').show();\\r\\n\\r\\n                 sid = data.data.sid ;\\r\\n                 $(\\'#qr-img\\').attr(\\'src\\', data.data.img);\\r\\n\\r\\n                 timmer_pull = setInterval(\"pull()\", 1000) ;\\r\\n             }else{\\r\\n             }\\r\\n\\r\\n         });\\r\\n     }\\r\\n\\r\\n\\r\\n\\r\\n     function stopPull(){\\r\\n         if (timmer_pull != null){\\r\\n             clearTimeout(timmer_pull);\\r\\n             timmer_pull = null;\\r\\n         }\\r\\n     }\\r\\n     function pull(){\\r\\n\\t\\t var timestamp = Date.parse(new Date());\\t\\t \\r\\n         $.getJSON(\\'/wechat/scan-pull?sid=\\'+sid+\\'&time=\\'+timestamp, function(data){\\r\\n\\r\\n             if (data.code == 200){\\r\\n                 if (data.data.isok == 1){\\r\\n                     window.location.href = \"/third-party/reg-login?from=http%3A%2F%2Fedu.51cto.com%2Fcenter%2Fuser%2Findex%2Flogin-success%3Fsign%3D27bbVFNTAgdTVgMJAwMFAAYNVQtbUAEMVABUUgAJQxBFWBlLBgdHGVZXUE1cT1IKWRcAXAwQXUpLExEJVAhDS1wMUgEbTFVSF0tAWF8EQkhGXQBWEAAHSAUEBlsAR0QNTwcLVlNRBVUB%26client%3Dweb\";\\r\\n                 }\\r\\n             }else{\\r\\n\\r\\n                 $(\\'.wx_10s\\').show();\\r\\n                 $(\\'.wx_0s\\').hide();\\r\\n                 stopPull();\\r\\n             }\\r\\n\\r\\n         });\\r\\n\\r\\n     }\\r\\n\\r\\n     function wechat_login(){\\r\\n         $(\\'#login-wechat\\').show();\\r\\n         $(\\'#login-base\\').hide();\\r\\n         getQrImg();\\r\\n     }\\r\\n\\r\\n     function base_login(){\\r\\n         $(\\'#login-wechat\\').hide();\\r\\n         $(\\'#login-base\\').show();\\r\\n         stopPull();\\r\\n     }\\r\\n     $(function(){\\r\\n         $(\".jsCloseBg\").click(function(){\\r\\n             $(\"#jsValidateUser\").hide();\\r\\n             $(\".jsShaow\").hide();\\r\\n         });\\r\\n     });\\r\\n          \\r\\n </script>\\r\\n\\r\\n\\r\\n\\t\\r\\n\\t<!--意见反馈-->\\r\\n<div class=\"feedback\" style=\"display:none\">\\r\\n    <div class=\"popyjdatil\">\\r\\n        <dl class=\"dl_400 pl20 mb10 clearfix\">\\r\\n            <dt class=\"left mt5 tr\">意见或建议：</dt>\\r\\n            <dd class=\"left validation_or\">\\r\\n                <span><textarea name=\"feedarea\" cols=\"\" rows=\"\" class=\"pop_area_320 inputtext_del t12\" placeholder=\"请详细描述意见、问题或建议，2-300字以内\"></textarea><span class=\"cl_red\" id=\"cl_redp\"></span></span>\\r\\n            </dd>\\r\\n\\r\\n        </dl>\\r\\n        <dl class=\"dl_400 pl20 mb10 clearfix\">\\r\\n            <dt class=\"left mt5 tr\">联系方式：</dt>\\r\\n            <dd class=\"left validation_or\">\\r\\n                <span><input type=\"text\" value=\"\" placeholder=\"邮箱/QQ号\" class=\"pop_input_320 inputtext_del t12\" name=\"feedord\"><span class=\"cl_red\" id=\"c1_redb\"></span></span>\\r\\n            </dd>\\r\\n\\r\\n        </dl>\\r\\n    </div>\\r\\n</div>\\r\\n<div class=\"feedbackstatus\" style=\"display:none\">\\r\\n    <div class=\"popsuctext\" >您已提交成功！<br />感谢您的宝贵意见，我们会尽快处理</div>\\r\\n    <div class=\"regemailloeslist\" style=\"display:none\">\\r\\n        <div class=\"tl t14 mb15 pl20 emailstatus\" ></div>\\r\\n    </div>\\r\\n</div>\\r\\n<div class=\"foot\">\\r\\n<a target=\"_blank\" href=\"http://www.51cto.com/about/aboutus.html\">关于我们</a>\\r\\n|\\r\\n<a target=\"_blank\" href=\"http://www.51cto.com/about/zhaopin.html\">诚聘英才</a>\\r\\n|\\r\\n<a target=\"_blank\" href=\"http://www.51cto.com/about/contactus.html\">联系我们</a>\\r\\n|\\r\\n<a target=\"_blank\" href=\"http://www.51cto.com/about/history2011.html\">网站大事</a>\\r\\n|\\r\\n<a href=\"javascript:void(0)\" class=\"ina popyjdatilfeedback\" >意见反馈</a>\\r\\n|\\r\\n<a target=\"_blank\" href=\"http://www.51cto.com/about/map.htm\">网站地图</a>\\r\\n<br>Copyright &copy; 2005-2017 <a href=\"Http://www.51cto.com\">51CTO.COM</a> 版权所有\\r\\n</div>\\r\\n\\t\\r\\n\\t<script src=\"https://static1.51cto.com/home/web/js/loginForm.js?v=10007\"></script>\\r\\n\\t\\r\\n<div style=\"display:none\">\\r\\n<script src=\"https://logs.51cto.com/rizhi/count/count.js\"></script>\\r\\n<script>\\r\\n\\tvar _hmt = _hmt || [];\\r\\n\\t(function() {\\r\\n\\t  var hm = document.createElement(\"script\");\\r\\n\\t  hm.src = \"https://hm.baidu.com/hm.js?844390da7774b6a92b34d40f8e16f5ac\";\\r\\n\\t  var s = document.getElementsByTagName(\"script\")[0]; \\r\\n\\t  s.parentNode.insertBefore(hm, s);\\r\\n\\t})();\\r\\n</script>\\r\\n</div>\\r\\n  <script type=\"text/javascript\">\\r\\n            var uid = \\'0\\';\\r\\n            var _educto = _educto || [];\\r\\n            _educto.push([\\'_setUserId\\',uid]);\\r\\n        </script>\\r\\n<script type=\"text/javascript\">\\r\\n            document.write(decodeURI(\"%3Cscript src=\\'https://tongji.51cto.com/cto.js/3d7ca8d8c01f7e7b50250ff1c15bdae3\\' type=\\'text/javascript\\'%3E%3C/script%3E\"));\\r\\n</script>\\r\\n\\t<script type=\"text/javascript\">jQuery(document).ready(function () {\\njQuery(\\'#login-form\\').yiiActiveForm([{\"id\":\"loginform-username\",\"name\":\"username\",\"container\":\".field-loginform-username\",\"input\":\"#loginform-username\",\"error\":\".custom.invalid.error_9o8Kl\",\"encodeError\":false,\"validate\":function (attribute, value, messages, deferred, $form) {yii.validation.required(value, messages, {\"message\":\"账号不能为空\"});}},{\"id\":\"loginform-password\",\"name\":\"password\",\"container\":\".field-loginform-password\",\"input\":\"#loginform-password\",\"error\":\".custom.invalid.error_9o8Kl\",\"encodeError\":false,\"validate\":function (attribute, value, messages, deferred, $form) {yii.validation.required(value, messages, {\"message\":\"密码不能为空\"});}},{\"id\":\"loginform-rememberme\",\"name\":\"rememberMe\",\"container\":\".field-loginform-rememberme\",\"input\":\"#loginform-rememberme\",\"error\":\".custom.invalid.error_9o8Kl\",\"encodeError\":false,\"validate\":function (attribute, value, messages, deferred, $form) {yii.validation.boolean(value, messages, {\"trueValue\":\"1\",\"falseValue\":\"0\",\"message\":\"10天内自动登录 must be either \\\\\"1\\\\\" or \\\\\"0\\\\\".\",\"skipOnEmpty\":1});}}], []);\\n});</script>\\t</body>\\r\\n\\t</html>\\r\\n'"
      ]
     },
     "execution_count": 15,
     "metadata": {},
     "output_type": "execute_result"
    }
   ],
   "source": [
    "response = requests.get('http://edu.51cto.com/center/profit/index/get-sales-record?page=2&size=20')\n",
    "response.text"
   ]
  },
  {
   "cell_type": "code",
   "execution_count": null,
   "metadata": {
    "collapsed": false
   },
   "outputs": [],
   "source": []
  },
  {
   "cell_type": "code",
   "execution_count": null,
   "metadata": {
    "collapsed": true
   },
   "outputs": [],
   "source": []
  }
 ],
 "metadata": {
  "kernelspec": {
   "display_name": "Python 3",
   "language": "python",
   "name": "python3"
  },
  "language_info": {
   "codemirror_mode": {
    "name": "ipython",
    "version": 3
   },
   "file_extension": ".py",
   "mimetype": "text/x-python",
   "name": "python",
   "nbconvert_exporter": "python",
   "pygments_lexer": "ipython3",
   "version": "3.6.0"
  }
 },
 "nbformat": 4,
 "nbformat_minor": 2
}
