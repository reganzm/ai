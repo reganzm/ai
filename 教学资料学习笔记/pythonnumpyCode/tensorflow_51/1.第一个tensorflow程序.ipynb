{
 "cells": [
  {
   "cell_type": "code",
   "execution_count": 2,
   "metadata": {
    "collapsed": true
   },
   "outputs": [],
   "source": [
    "import tensorflow as tf\n",
    "import numpy as np"
   ]
  },
  {
   "cell_type": "code",
   "execution_count": 12,
   "metadata": {
    "collapsed": false
   },
   "outputs": [],
   "source": [
    "#第一个tensorflow例子,创建一个计算图\n",
    "a = tf.Variable(np.random.random([2,2]))\n",
    "b = tf.Variable(np.random.random([2,2]))\n",
    "res = tf.matmul(a,b)\n",
    "init_op = tf.global_variables_initializer()"
   ]
  },
  {
   "cell_type": "code",
   "execution_count": 30,
   "metadata": {
    "collapsed": false
   },
   "outputs": [
    {
     "name": "stdout",
     "output_type": "stream",
     "text": [
      "[[ 0.77693286  0.30337097]\n",
      " [ 0.20540581  0.46197954]]\n",
      "[[ 0.30389118  0.19378293]\n",
      " [ 0.86185497  0.92127162]]\n",
      "-----------------------------\n",
      "[[ 0.49756482  0.43004339]\n",
      " [ 0.46058038  0.46541278]]\n",
      "[[ 0.49756482  0.43004339]\n",
      " [ 0.46058038  0.46541278]]\n"
     ]
    }
   ],
   "source": [
    "#Tensorflow中的所有操作，都需要在Session中执行\n",
    "with tf.Session() as sess:\n",
    "    #调用session上的run方法运行图\n",
    "    sess.run(init_op)\n",
    "    print(a.eval())\n",
    "    print(b.eval())\n",
    "    print('-----------------------------')\n",
    "    print(res.eval())\n",
    "    print(sess.run(res))"
   ]
  },
  {
   "cell_type": "markdown",
   "metadata": {},
   "source": [
    "### 基本操作"
   ]
  },
  {
   "cell_type": "markdown",
   "metadata": {},
   "source": [
    "##### tensorflow里面的操作算子跟numpy里面的很多算子是类似的"
   ]
  },
  {
   "cell_type": "code",
   "execution_count": 53,
   "metadata": {
    "collapsed": false
   },
   "outputs": [
    {
     "name": "stdout",
     "output_type": "stream",
     "text": [
      "zeros:\n",
      "[[ 0.  0.  0.]\n",
      " [ 0.  0.  0.]]\n",
      "zeros_like:\n",
      "[[ 0.  0.  0.  0.  0.]\n",
      " [ 0.  0.  0.  0.  0.]\n",
      " [ 0.  0.  0.  0.  0.]\n",
      " [ 0.  0.  0.  0.  0.]]\n",
      "ones:\n",
      "[[ 1.  1.  1.  1.  1.  1.  1.]\n",
      " [ 1.  1.  1.  1.  1.  1.  1.]\n",
      " [ 1.  1.  1.  1.  1.  1.  1.]]\n",
      "ones_like:\n",
      "[[ 1.  1.  1.  1.  1.]\n",
      " [ 1.  1.  1.  1.  1.]\n",
      " [ 1.  1.  1.  1.  1.]\n",
      " [ 1.  1.  1.  1.  1.]]\n",
      "constant:\n",
      "[[ 0.31660333  0.93274365  0.88576333  0.21276277  0.60063155  0.74706908]\n",
      " [ 0.81785227  0.00837294  0.52901356  0.79063927  0.67519436  0.08165647]\n",
      " [ 0.48268766  0.7035593   0.9296307   0.23192016  0.89041657  0.37935023]]\n",
      "linspace:\n",
      "[ 1.  2.  3.  4.  5.]\n",
      "range:\n",
      "[10 12 14 16 18]\n",
      "random_normal:\n",
      "[[ 0.4583672  -0.62816924 -0.01578521 -0.96882486  0.97768754  1.77148509]\n",
      " [-1.17991543 -0.56594795 -1.33655834  1.12693012 -0.06740503  0.90800941]]\n",
      "random_shuffle:\n",
      "[[-1.48549628  1.86747241 -0.51968598  1.42260683  0.10085818  0.6981619 ]\n",
      " [ 0.46687928  1.58161557  0.34181243 -1.12870979  0.57411706 -1.147367  ]]\n"
     ]
    }
   ],
   "source": [
    "#### 1.定义元素为0的tensor\n",
    "a = tf.zeros([2,3])\n",
    "b = tf.Variable(np.random.random([4,5]))\n",
    "aa = tf.zeros_like(b)\n",
    "c = tf.ones([3,7])\n",
    "cc = tf.ones_like(b)\n",
    "#定义常量\n",
    "d = tf.constant(np.random.random([3,6]))\n",
    "#linspace\n",
    "e = tf.linspace(1.0,5.0,5,name='linspace')\n",
    "#range序列\n",
    "f = tf.range(10,20,2)\n",
    "#生成随机tensor变量\n",
    "g = tf.random_normal([2,6])\n",
    "#洗牌操作\n",
    "h = tf.random_shuffle(g)\n",
    "with tf.Session() as sess:\n",
    "    print('zeros:\\n%s'%(sess.run(a)))\n",
    "    print('zeros_like:\\n%s'%(sess.run(aa)))\n",
    "    print('ones:\\n%s'%(sess.run(c)))\n",
    "    print('ones_like:\\n%s'%(sess.run(cc)))\n",
    "    print('constant:\\n%s'%(sess.run(d)))\n",
    "    print('linspace:\\n%s'%(sess.run(e)))\n",
    "    print('range:\\n%s'%(sess.run(f)))\n",
    "    print('random_normal:\\n%s'%(sess.run(g)))\n",
    "    print('random_shuffle:\\n%s'%(sess.run(h)))"
   ]
  },
  {
   "cell_type": "markdown",
   "metadata": {},
   "source": [
    "### tensorflow中做累加操作"
   ]
  },
  {
   "cell_type": "code",
   "execution_count": 64,
   "metadata": {
    "collapsed": false
   },
   "outputs": [
    {
     "name": "stdout",
     "output_type": "stream",
     "text": [
      "1\n",
      "2\n",
      "3\n",
      "4\n",
      "5\n",
      "6\n",
      "7\n",
      "8\n",
      "9\n",
      "10\n"
     ]
    }
   ],
   "source": [
    "#使用tensorflow做累加\n",
    "init = tf.Variable(0)\n",
    "new_value = tf.add(init,tf.constant(1))\n",
    "#更新，把第二个参数指定的值赋值给第一个参数\n",
    "update = tf.assign(init,new_value)\n",
    "#在Session里面完成所有的计算\n",
    "with tf.Session() as sess:\n",
    "    sess.run(tf.global_variables_initializer())\n",
    "    sess.run(new_value)\n",
    "    for _ in np.arange(0,10):\n",
    "        print(sess.run(update))"
   ]
  },
  {
   "cell_type": "markdown",
   "metadata": {},
   "source": [
    "### numpy数据格式转换为tensor数据格式"
   ]
  },
  {
   "cell_type": "code",
   "execution_count": 65,
   "metadata": {
    "collapsed": false
   },
   "outputs": [
    {
     "name": "stdout",
     "output_type": "stream",
     "text": [
      "[[ 0.17958437  0.65612458  0.96211077  0.32094504  0.99788719  0.44490107]\n",
      " [ 0.92814125  0.68682988  0.36403594  0.86896883  0.52834255  0.26489186]\n",
      " [ 0.852673    0.94986708  0.76352973  0.34439875  0.71958958  0.35908035]\n",
      " [ 0.44044319  0.07143515  0.64661832  0.23750976  0.78909106  0.31788175]\n",
      " [ 0.93294889  0.5094474   0.11082057  0.75866291  0.70132457  0.00739416]]\n"
     ]
    }
   ],
   "source": [
    "a = np.random.random([5,6])\n",
    "b = tf.convert_to_tensor(a)\n",
    "with tf.Session() as sess:\n",
    "    print(sess.run(b))"
   ]
  },
  {
   "cell_type": "markdown",
   "metadata": {},
   "source": [
    "### 计算图中的占位符"
   ]
  },
  {
   "cell_type": "code",
   "execution_count": 70,
   "metadata": {
    "collapsed": false
   },
   "outputs": [
    {
     "name": "stdout",
     "output_type": "stream",
     "text": [
      "[ 0.78985882  0.61303282  0.98176062  1.34278333]\n"
     ]
    }
   ],
   "source": [
    "a = tf.placeholder(tf.float32)\n",
    "b = tf.placeholder(tf.float32)\n",
    "c = tf.add(a,b)\n",
    "#先构建出计算图，在Session计算的时候再填入真实的数据\n",
    "with tf.Session() as sess:\n",
    "    print(sess.run(c,feed_dict={a:np.random.random(4),b:np.random.random(4)}))"
   ]
  },
  {
   "cell_type": "code",
   "execution_count": null,
   "metadata": {
    "collapsed": true
   },
   "outputs": [],
   "source": []
  }
 ],
 "metadata": {
  "kernelspec": {
   "display_name": "Python 3",
   "language": "python",
   "name": "python3"
  },
  "language_info": {
   "codemirror_mode": {
    "name": "ipython",
    "version": 3
   },
   "file_extension": ".py",
   "mimetype": "text/x-python",
   "name": "python",
   "nbconvert_exporter": "python",
   "pygments_lexer": "ipython3",
   "version": "3.6.0"
  }
 },
 "nbformat": 4,
 "nbformat_minor": 2
}
