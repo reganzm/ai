{
 "cells": [
  {
   "cell_type": "code",
   "execution_count": 1,
   "metadata": {
    "collapsed": false
   },
   "outputs": [
    {
     "name": "stdout",
     "output_type": "stream",
     "text": [
      "V1: [[-0.48337707 -1.38035023 -0.95308626  0.94919461]\n",
      " [-1.38756776  1.34212625 -0.27619359  0.417579  ]]\n",
      "V2: [[-0.17616035 -0.10801019  1.65568447 -0.55630022  0.18890123]\n",
      " [ 1.18153358  1.07211208  0.19738743 -2.03522134  1.17540669]\n",
      " [ 1.72167706  0.06605922 -0.16109166 -0.7220574   0.48254135]]\n",
      "Model saved in file:  ./model/model.ckpt\n"
     ]
    }
   ],
   "source": [
    "import tensorflow as tf\n",
    "\n",
    "v1 = tf.Variable(tf.random_normal([2,4]), name=\"v1\")\n",
    "v2 = tf.Variable(tf.random_normal([3,5]), name=\"v2\")\n",
    "init_op = tf.global_variables_initializer()\n",
    "saver = tf.train.Saver()\n",
    "with tf.Session() as sess:\n",
    "    sess.run(init_op)\n",
    "    print (\"V1:\",sess.run(v1))  \n",
    "    print (\"V2:\",sess.run(v2))\n",
    "    saver_path = saver.save(sess, \"./model/model.ckpt\")\n",
    "    print (\"模型保存在: \", saver_path) "
   ]
  },
  {
   "cell_type": "code",
   "execution_count": 2,
   "metadata": {
    "collapsed": false
   },
   "outputs": [
    {
     "name": "stdout",
     "output_type": "stream",
     "text": [
      "INFO:tensorflow:Restoring parameters from ./model/model.ckpt\n",
      "V1: [[-0.48337707 -1.38035023 -0.95308626  0.94919461]\n",
      " [-1.38756776  1.34212625 -0.27619359  0.417579  ]]\n",
      "V2: [[-0.17616035 -0.10801019  1.65568447 -0.55630022  0.18890123]\n",
      " [ 1.18153358  1.07211208  0.19738743 -2.03522134  1.17540669]\n",
      " [ 1.72167706  0.06605922 -0.16109166 -0.7220574   0.48254135]]\n",
      "Model restored\n"
     ]
    }
   ],
   "source": [
    "import tensorflow as tf\n",
    "saver = tf.train.Saver()\n",
    "with tf.Session() as sess:\n",
    "    saver.restore(sess, \"./model/model.ckpt\")\n",
    "    print (\"V1:\",sess.run(v1))  \n",
    "    print (\"V2:\",sess.run(v2))\n",
    "    print (\"Model restored\")"
   ]
  },
  {
   "cell_type": "code",
   "execution_count": null,
   "metadata": {
    "collapsed": true
   },
   "outputs": [],
   "source": []
  }
 ],
 "metadata": {
  "anaconda-cloud": {},
  "kernelspec": {
   "display_name": "Python 3",
   "language": "python",
   "name": "python3"
  },
  "language_info": {
   "codemirror_mode": {
    "name": "ipython",
    "version": 3
   },
   "file_extension": ".py",
   "mimetype": "text/x-python",
   "name": "python",
   "nbconvert_exporter": "python",
   "pygments_lexer": "ipython3",
   "version": "3.6.0"
  }
 },
 "nbformat": 4,
 "nbformat_minor": 1
}
