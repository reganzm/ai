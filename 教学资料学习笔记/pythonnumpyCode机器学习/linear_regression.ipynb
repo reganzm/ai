{
 "cells": [
  {
   "cell_type": "code",
   "execution_count": null,
   "metadata": {
    "collapsed": false
   },
   "outputs": [],
   "source": []
  },
  {
   "cell_type": "code",
   "execution_count": 1,
   "metadata": {
    "collapsed": true
   },
   "outputs": [],
   "source": [
    "import matplotlib.pyplot as plt\n",
    "import numpy as np\n",
    "from sklearn import datasets"
   ]
  },
  {
   "cell_type": "code",
   "execution_count": 2,
   "metadata": {
    "collapsed": true
   },
   "outputs": [],
   "source": [
    "class LinearRegression():\n",
    "    def __init__(self):\n",
    "        self.w = None\n",
    "\n",
    "    def fit(self, X, y):\n",
    "        # Insert constant ones for bias weights\n",
    "        print (X.shape)\n",
    "        X = np.insert(X, 0, 1, axis=1)\n",
    "        print (X.shape)        \n",
    "        X_ = np.linalg.inv(X.T.dot(X))\n",
    "        self.w = X_.dot(X.T).dot(y)\n",
    "\n",
    "    def predict(self, X):\n",
    "        # Insert constant ones for bias weights\n",
    "        X = np.insert(X, 0, 1, axis=1)\n",
    "        y_pred = X.dot(self.w)\n",
    "        return y_pred\n"
   ]
  },
  {
   "cell_type": "code",
   "execution_count": 3,
   "metadata": {
    "collapsed": true
   },
   "outputs": [],
   "source": [
    "def mean_squared_error(y_true, y_pred):\n",
    "    mse = np.mean(np.power(y_true - y_pred, 2))\n",
    "    return mse"
   ]
  },
  {
   "cell_type": "code",
   "execution_count": 4,
   "metadata": {
    "collapsed": false
   },
   "outputs": [],
   "source": [
    "def main():\n",
    "    # Load the diabetes dataset\n",
    "    diabetes = datasets.load_diabetes()\n",
    "\n",
    "    # Use only one feature\n",
    "    X = diabetes.data[:, np.newaxis, 2]\n",
    "    print (X.shape)\n",
    "    # Split the data into training/testing sets\n",
    "    x_train, x_test = X[:-20], X[-20:]\n",
    "\n",
    "    # Split the targets into training/testing sets\n",
    "    y_train, y_test = diabetes.target[:-20], diabetes.target[-20:]\n",
    "\n",
    "    clf = LinearRegression()\n",
    "    clf.fit(x_train, y_train)\n",
    "    y_pred = clf.predict(x_test)\n",
    "\n",
    "    # Print the mean squared error\n",
    "    print (\"Mean Squared Error:\", mean_squared_error(y_test, y_pred))\n",
    "\n",
    "    # Plot the results\n",
    "    plt.scatter(x_test[:,0], y_test,  color='black')\n",
    "    plt.plot(x_test[:,0], y_pred, color='blue', linewidth=3)\n",
    "    plt.show()"
   ]
  },
  {
   "cell_type": "code",
   "execution_count": 5,
   "metadata": {
    "collapsed": false
   },
   "outputs": [
    {
     "name": "stdout",
     "output_type": "stream",
     "text": [
      "(442, 1)\n",
      "(422, 1)\n",
      "(422, 2)\n",
      "Mean Squared Error: 2548.07239873\n"
     ]
    },
    {
     "data": {
      "image/png": "[encoded data removed]",
      "text/plain": [
       "<matplotlib.figure.Figure at 0x8835898>"
      ]
     },
     "metadata": {},
     "output_type": "display_data"
    }
   ],
   "source": [
    "main()"
   ]
  },
  {
   "cell_type": "markdown",
   "metadata": {},
   "source": []
  },
  {
   "cell_type": "markdown",
   "metadata": {},
   "source": []
  },
  {
   "cell_type": "code",
   "execution_count": null,
   "metadata": {
    "collapsed": true
   },
   "outputs": [],
   "source": []
  }
 ],
 "metadata": {
  "anaconda-cloud": {},
  "kernelspec": {
   "display_name": "Python 3",
   "language": "python",
   "name": "python3"
  },
  "language_info": {
   "codemirror_mode": {
    "name": "ipython",
    "version": 3
   },
   "file_extension": ".py",
   "mimetype": "text/x-python",
   "name": "python",
   "nbconvert_exporter": "python",
   "pygments_lexer": "ipython3",
   "version": "3.6.0"
  }
 },
 "nbformat": 4,
 "nbformat_minor": 1
}
