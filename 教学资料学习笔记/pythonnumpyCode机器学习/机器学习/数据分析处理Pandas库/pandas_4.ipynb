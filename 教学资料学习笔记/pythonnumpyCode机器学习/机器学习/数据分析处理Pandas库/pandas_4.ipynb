{
 "cells": [
  {
   "cell_type": "code",
   "execution_count": 1,
   "metadata": {
    "collapsed": true
   },
   "outputs": [],
   "source": [
    "#Series (collection of values)\n",
    "#DataFrame (collection of Series objects)\n",
    "#Panel (collection of DataFrame objects)"
   ]
  },
  {
   "cell_type": "code",
   "execution_count": 2,
   "metadata": {
    "collapsed": true
   },
   "outputs": [],
   "source": [
    "#A Series object can hold many data types, including\n",
    "#float - for representing float values\n",
    "#int - for representing integer values\n",
    "#bool - for representing Boolean values\n",
    "#datetime64[ns] - for representing date & time, without time-zone\n",
    "#datetime64[ns, tz] - for representing date & time, with time-zone\n",
    "#timedelta[ns] - for representing differences in dates & times (seconds, minutes, etc.)\n",
    "#category - for representing categorical values\n",
    "#object - for representing String values\n",
    "\n",
    "#FILM - film name\n",
    "#RottenTomatoes - Rotten Tomatoes critics average score\n",
    "#RottenTomatoes_User - Rotten Tomatoes user average score\n",
    "#RT_norm - Rotten Tomatoes critics average score (normalized to a 0 to 5 point system)\n",
    "#RT_user_norm - Rotten Tomatoes user average score (normalized to a 0 to 5 point system)\n",
    "#Metacritic - Metacritic critics average score\n",
    "#Metacritic_User - Metacritic user average score"
   ]
  },
  {
   "cell_type": "code",
   "execution_count": 1,
   "metadata": {
    "collapsed": false
   },
   "outputs": [
    {
     "name": "stdout",
     "output_type": "stream",
     "text": [
      "0    Avengers: Age of Ultron (2015)\n",
      "1                 Cinderella (2015)\n",
      "2                    Ant-Man (2015)\n",
      "3            Do You Believe? (2015)\n",
      "4     Hot Tub Time Machine 2 (2015)\n",
      "Name: FILM, dtype: object\n",
      "0    74\n",
      "1    85\n",
      "2    80\n",
      "3    18\n",
      "4    14\n",
      "Name: RottenTomatoes, dtype: int64\n"
     ]
    }
   ],
   "source": [
    "import pandas as pd\n",
    "fandango = pd.read_csv('fandango_score_comparison.csv')\n",
    "series_film = fandango['FILM']\n",
    "print(series_film[0:5])\n",
    "series_rt = fandango['RottenTomatoes']\n",
    "print (series_rt[0:5])"
   ]
  },
  {
   "cell_type": "code",
   "execution_count": 2,
   "metadata": {
    "collapsed": false
   },
   "outputs": [
    {
     "name": "stdout",
     "output_type": "stream",
     "text": [
      "['Avengers: Age of Ultron (2015)' 'Cinderella (2015)' 'Ant-Man (2015)'\n",
      " 'Do You Believe? (2015)' 'Hot Tub Time Machine 2 (2015)'\n",
      " 'The Water Diviner (2015)' 'Irrational Man (2015)' 'Top Five (2014)'\n",
      " 'Shaun the Sheep Movie (2015)' 'Love & Mercy (2015)'\n",
      " 'Far From The Madding Crowd (2015)' 'Black Sea (2015)' 'Leviathan (2014)'\n",
      " 'Unbroken (2014)' 'The Imitation Game (2014)' 'Taken 3 (2015)'\n",
      " 'Ted 2 (2015)' 'Southpaw (2015)'\n",
      " 'Night at the Museum: Secret of the Tomb (2014)' 'Pixels (2015)'\n",
      " 'McFarland, USA (2015)' 'Insidious: Chapter 3 (2015)'\n",
      " 'The Man From U.N.C.L.E. (2015)' 'Run All Night (2015)'\n",
      " 'Trainwreck (2015)' 'Selma (2014)' 'Ex Machina (2015)'\n",
      " 'Still Alice (2015)' 'Wild Tales (2014)' 'The End of the Tour (2015)'\n",
      " 'Red Army (2015)' 'When Marnie Was There (2015)'\n",
      " 'The Hunting Ground (2015)' 'The Boy Next Door (2015)' 'Aloha (2015)'\n",
      " 'The Loft (2015)' '5 Flights Up (2015)' 'Welcome to Me (2015)'\n",
      " 'Saint Laurent (2015)' 'Maps to the Stars (2015)'\n",
      " \"I'll See You In My Dreams (2015)\" 'Timbuktu (2015)' 'About Elly (2015)'\n",
      " 'The Diary of a Teenage Girl (2015)' 'Kingsman: The Secret Service (2015)'\n",
      " 'Tomorrowland (2015)' 'The Divergent Series: Insurgent (2015)'\n",
      " 'Annie (2014)' 'Fantastic Four (2015)' 'Terminator Genisys (2015)'\n",
      " 'Pitch Perfect 2 (2015)' 'Entourage (2015)' 'The Age of Adaline (2015)'\n",
      " 'Hot Pursuit (2015)' 'The DUFF (2015)' 'Black or White (2015)'\n",
      " 'Project Almanac (2015)' 'Ricki and the Flash (2015)' 'Seventh Son (2015)'\n",
      " 'Mortdecai (2015)' 'Unfinished Business (2015)' 'American Ultra (2015)'\n",
      " 'True Story (2015)' 'Child 44 (2015)' 'Dark Places (2015)'\n",
      " 'Birdman (2014)' 'The Gift (2015)' 'Unfriended (2015)'\n",
      " 'Monkey Kingdom (2015)' 'Mr. Turner (2014)'\n",
      " 'Seymour: An Introduction (2015)' 'The Wrecking Crew (2015)'\n",
      " 'American Sniper (2015)' 'Furious 7 (2015)'\n",
      " 'The Hobbit: The Battle of the Five Armies (2014)' 'San Andreas (2015)'\n",
      " 'Straight Outta Compton (2015)' 'Vacation (2015)' 'Chappie (2015)'\n",
      " 'Poltergeist (2015)' 'Paper Towns (2015)' 'Big Eyes (2014)'\n",
      " 'Blackhat (2015)' 'Self/less (2015)' 'Sinister 2 (2015)'\n",
      " 'Little Boy (2015)' 'Me and Earl and The Dying Girl (2015)'\n",
      " 'Maggie (2015)' 'Mad Max: Fury Road (2015)' 'Spy (2015)'\n",
      " 'The SpongeBob Movie: Sponge Out of Water (2015)' 'Paddington (2015)'\n",
      " 'Dope (2015)' 'What We Do in the Shadows (2015)' 'The Overnight (2015)'\n",
      " 'The Salt of the Earth (2015)' 'Song of the Sea (2014)'\n",
      " 'Fifty Shades of Grey (2015)' 'Get Hard (2015)' 'Focus (2015)'\n",
      " 'Jupiter Ascending (2015)' 'The Gallows (2015)'\n",
      " 'The Second Best Exotic Marigold Hotel (2015)' 'Strange Magic (2015)'\n",
      " 'The Gunman (2015)' 'Hitman: Agent 47 (2015)' 'Cake (2015)'\n",
      " 'The Vatican Tapes (2015)' 'A Little Chaos (2015)'\n",
      " 'The 100-Year-Old Man Who Climbed Out the Window and Disappeared (2015)'\n",
      " 'Escobar: Paradise Lost (2015)' 'Into the Woods (2014)'\n",
      " 'It Follows (2015)' 'Inherent Vice (2014)' 'A Most Violent Year (2014)'\n",
      " \"While We're Young (2015)\" 'Clouds of Sils Maria (2015)'\n",
      " 'Testament of Youth (2015)' 'Infinitely Polar Bear (2015)'\n",
      " 'Phoenix (2015)' 'The Wolfpack (2015)'\n",
      " 'The Stanford Prison Experiment (2015)' 'Tangerine (2015)'\n",
      " 'Magic Mike XXL (2015)' 'Home (2015)' 'The Wedding Ringer (2015)'\n",
      " 'Woman in Gold (2015)' 'The Last Five Years (2015)'\n",
      " 'Mission: Impossible â€“ Rogue Nation (2015)' 'Amy (2015)'\n",
      " 'Jurassic World (2015)' 'Minions (2015)' 'Max (2015)'\n",
      " 'Paul Blart: Mall Cop 2 (2015)' 'The Longest Ride (2015)'\n",
      " 'The Lazarus Effect (2015)' 'The Woman In Black 2 Angel of Death (2015)'\n",
      " 'Danny Collins (2015)' 'Spare Parts (2015)' 'Serena (2015)'\n",
      " 'Inside Out (2015)' 'Mr. Holmes (2015)' \"'71 (2015)\"\n",
      " 'Two Days, One Night (2014)' 'Gett: The Trial of Viviane Amsalem (2015)'\n",
      " 'Kumiko, The Treasure Hunter (2015)']\n",
      "[ 74  85  80  18  14  63  42  86  99  89  84  82  99  51  90   9  46  59\n",
      "  50  17  79  59  68  60  85  99  92  88  96  92  96  89  92  10  19  11\n",
      "  52  71  51  60  94  99  97  95  75  50  30  27   9  26  67  32  54   8\n",
      "  71  39  34  64  12  12  11  46  45  26  26  92  93  60  94  98 100  93\n",
      "  72  81  61  50  90  27  30  31  55  72  34  20  13  20  81  54  97  93\n",
      "  78  98  87  96  82  96  99  25  29  57  26  16  62  17  17   7  49  13\n",
      "  40  67  52  71  96  73  90  83  89  81  80  99  84  84  95  62  45  27\n",
      "  52  60  92  97  71  54  35   5  31  14  22  77  52  18  98  87  97  97\n",
      " 100  87]\n"
     ]
    },
    {
     "data": {
      "text/plain": [
       "Minions (2015)      54\n",
       "Leviathan (2014)    99\n",
       "dtype: int64"
      ]
     },
     "execution_count": 2,
     "metadata": {},
     "output_type": "execute_result"
    }
   ],
   "source": [
    "# Import the Series object from pandas\n",
    "from pandas import Series\n",
    "\n",
    "film_names = series_film.values\n",
    "#print (type(film_names))\n",
    "print (film_names)\n",
    "rt_scores = series_rt.values\n",
    "print (rt_scores)\n",
    "series_custom = Series(rt_scores , index=film_names)\n",
    "series_custom[['Minions (2015)', 'Leviathan (2014)']]"
   ]
  },
  {
   "cell_type": "code",
   "execution_count": 3,
   "metadata": {
    "collapsed": false
   },
   "outputs": [
    {
     "name": "stdout",
     "output_type": "stream",
     "text": [
      "The Water Diviner (2015)        63\n",
      "Irrational Man (2015)           42\n",
      "Top Five (2014)                 86\n",
      "Shaun the Sheep Movie (2015)    99\n",
      "Love & Mercy (2015)             89\n",
      "dtype: int64\n"
     ]
    }
   ],
   "source": [
    "# int index is also aviable\n",
    "series_custom = Series(rt_scores , index=film_names)\n",
    "series_custom[['Minions (2015)', 'Leviathan (2014)']]\n",
    "fiveten = series_custom[5:10]\n",
    "print(fiveten)"
   ]
  },
  {
   "cell_type": "code",
   "execution_count": 5,
   "metadata": {
    "collapsed": false
   },
   "outputs": [
    {
     "name": "stdout",
     "output_type": "stream",
     "text": [
      "['Avengers: Age of Ultron (2015)', 'Cinderella (2015)', 'Ant-Man (2015)', 'Do You Believe? (2015)', 'Hot Tub Time Machine 2 (2015)', 'The Water Diviner (2015)', 'Irrational Man (2015)', 'Top Five (2014)', 'Shaun the Sheep Movie (2015)', 'Love & Mercy (2015)', 'Far From The Madding Crowd (2015)', 'Black Sea (2015)', 'Leviathan (2014)', 'Unbroken (2014)', 'The Imitation Game (2014)', 'Taken 3 (2015)', 'Ted 2 (2015)', 'Southpaw (2015)', 'Night at the Museum: Secret of the Tomb (2014)', 'Pixels (2015)', 'McFarland, USA (2015)', 'Insidious: Chapter 3 (2015)', 'The Man From U.N.C.L.E. (2015)', 'Run All Night (2015)', 'Trainwreck (2015)', 'Selma (2014)', 'Ex Machina (2015)', 'Still Alice (2015)', 'Wild Tales (2014)', 'The End of the Tour (2015)', 'Red Army (2015)', 'When Marnie Was There (2015)', 'The Hunting Ground (2015)', 'The Boy Next Door (2015)', 'Aloha (2015)', 'The Loft (2015)', '5 Flights Up (2015)', 'Welcome to Me (2015)', 'Saint Laurent (2015)', 'Maps to the Stars (2015)', \"I'll See You In My Dreams (2015)\", 'Timbuktu (2015)', 'About Elly (2015)', 'The Diary of a Teenage Girl (2015)', 'Kingsman: The Secret Service (2015)', 'Tomorrowland (2015)', 'The Divergent Series: Insurgent (2015)', 'Annie (2014)', 'Fantastic Four (2015)', 'Terminator Genisys (2015)', 'Pitch Perfect 2 (2015)', 'Entourage (2015)', 'The Age of Adaline (2015)', 'Hot Pursuit (2015)', 'The DUFF (2015)', 'Black or White (2015)', 'Project Almanac (2015)', 'Ricki and the Flash (2015)', 'Seventh Son (2015)', 'Mortdecai (2015)', 'Unfinished Business (2015)', 'American Ultra (2015)', 'True Story (2015)', 'Child 44 (2015)', 'Dark Places (2015)', 'Birdman (2014)', 'The Gift (2015)', 'Unfriended (2015)', 'Monkey Kingdom (2015)', 'Mr. Turner (2014)', 'Seymour: An Introduction (2015)', 'The Wrecking Crew (2015)', 'American Sniper (2015)', 'Furious 7 (2015)', 'The Hobbit: The Battle of the Five Armies (2014)', 'San Andreas (2015)', 'Straight Outta Compton (2015)', 'Vacation (2015)', 'Chappie (2015)', 'Poltergeist (2015)', 'Paper Towns (2015)', 'Big Eyes (2014)', 'Blackhat (2015)', 'Self/less (2015)', 'Sinister 2 (2015)', 'Little Boy (2015)', 'Me and Earl and The Dying Girl (2015)', 'Maggie (2015)', 'Mad Max: Fury Road (2015)', 'Spy (2015)', 'The SpongeBob Movie: Sponge Out of Water (2015)', 'Paddington (2015)', 'Dope (2015)', 'What We Do in the Shadows (2015)', 'The Overnight (2015)', 'The Salt of the Earth (2015)', 'Song of the Sea (2014)', 'Fifty Shades of Grey (2015)', 'Get Hard (2015)', 'Focus (2015)', 'Jupiter Ascending (2015)', 'The Gallows (2015)', 'The Second Best Exotic Marigold Hotel (2015)', 'Strange Magic (2015)', 'The Gunman (2015)', 'Hitman: Agent 47 (2015)', 'Cake (2015)', 'The Vatican Tapes (2015)', 'A Little Chaos (2015)', 'The 100-Year-Old Man Who Climbed Out the Window and Disappeared (2015)', 'Escobar: Paradise Lost (2015)', 'Into the Woods (2014)', 'It Follows (2015)', 'Inherent Vice (2014)', 'A Most Violent Year (2014)', \"While We're Young (2015)\", 'Clouds of Sils Maria (2015)', 'Testament of Youth (2015)', 'Infinitely Polar Bear (2015)', 'Phoenix (2015)', 'The Wolfpack (2015)', 'The Stanford Prison Experiment (2015)', 'Tangerine (2015)', 'Magic Mike XXL (2015)', 'Home (2015)', 'The Wedding Ringer (2015)', 'Woman in Gold (2015)', 'The Last Five Years (2015)', 'Mission: Impossible â€“ Rogue Nation (2015)', 'Amy (2015)', 'Jurassic World (2015)', 'Minions (2015)', 'Max (2015)', 'Paul Blart: Mall Cop 2 (2015)', 'The Longest Ride (2015)', 'The Lazarus Effect (2015)', 'The Woman In Black 2 Angel of Death (2015)', 'Danny Collins (2015)', 'Spare Parts (2015)', 'Serena (2015)', 'Inside Out (2015)', 'Mr. Holmes (2015)', \"'71 (2015)\", 'Two Days, One Night (2014)', 'Gett: The Trial of Viviane Amsalem (2015)', 'Kumiko, The Treasure Hunter (2015)']\n",
      "[\"'71 (2015)\", '5 Flights Up (2015)', 'A Little Chaos (2015)', 'A Most Violent Year (2014)', 'About Elly (2015)', 'Aloha (2015)', 'American Sniper (2015)', 'American Ultra (2015)', 'Amy (2015)', 'Annie (2014)', 'Ant-Man (2015)', 'Avengers: Age of Ultron (2015)', 'Big Eyes (2014)', 'Birdman (2014)', 'Black Sea (2015)', 'Black or White (2015)', 'Blackhat (2015)', 'Cake (2015)', 'Chappie (2015)', 'Child 44 (2015)', 'Cinderella (2015)', 'Clouds of Sils Maria (2015)', 'Danny Collins (2015)', 'Dark Places (2015)', 'Do You Believe? (2015)', 'Dope (2015)', 'Entourage (2015)', 'Escobar: Paradise Lost (2015)', 'Ex Machina (2015)', 'Fantastic Four (2015)', 'Far From The Madding Crowd (2015)', 'Fifty Shades of Grey (2015)', 'Focus (2015)', 'Furious 7 (2015)', 'Get Hard (2015)', 'Gett: The Trial of Viviane Amsalem (2015)', 'Hitman: Agent 47 (2015)', 'Home (2015)', 'Hot Pursuit (2015)', 'Hot Tub Time Machine 2 (2015)', \"I'll See You In My Dreams (2015)\", 'Infinitely Polar Bear (2015)', 'Inherent Vice (2014)', 'Inside Out (2015)', 'Insidious: Chapter 3 (2015)', 'Into the Woods (2014)', 'Irrational Man (2015)', 'It Follows (2015)', 'Jupiter Ascending (2015)', 'Jurassic World (2015)', 'Kingsman: The Secret Service (2015)', 'Kumiko, The Treasure Hunter (2015)', 'Leviathan (2014)', 'Little Boy (2015)', 'Love & Mercy (2015)', 'Mad Max: Fury Road (2015)', 'Maggie (2015)', 'Magic Mike XXL (2015)', 'Maps to the Stars (2015)', 'Max (2015)', 'McFarland, USA (2015)', 'Me and Earl and The Dying Girl (2015)', 'Minions (2015)', 'Mission: Impossible â€“ Rogue Nation (2015)', 'Monkey Kingdom (2015)', 'Mortdecai (2015)', 'Mr. Holmes (2015)', 'Mr. Turner (2014)', 'Night at the Museum: Secret of the Tomb (2014)', 'Paddington (2015)', 'Paper Towns (2015)', 'Paul Blart: Mall Cop 2 (2015)', 'Phoenix (2015)', 'Pitch Perfect 2 (2015)', 'Pixels (2015)', 'Poltergeist (2015)', 'Project Almanac (2015)', 'Red Army (2015)', 'Ricki and the Flash (2015)', 'Run All Night (2015)', 'Saint Laurent (2015)', 'San Andreas (2015)', 'Self/less (2015)', 'Selma (2014)', 'Serena (2015)', 'Seventh Son (2015)', 'Seymour: An Introduction (2015)', 'Shaun the Sheep Movie (2015)', 'Sinister 2 (2015)', 'Song of the Sea (2014)', 'Southpaw (2015)', 'Spare Parts (2015)', 'Spy (2015)', 'Still Alice (2015)', 'Straight Outta Compton (2015)', 'Strange Magic (2015)', 'Taken 3 (2015)', 'Tangerine (2015)', 'Ted 2 (2015)', 'Terminator Genisys (2015)', 'Testament of Youth (2015)', 'The 100-Year-Old Man Who Climbed Out the Window and Disappeared (2015)', 'The Age of Adaline (2015)', 'The Boy Next Door (2015)', 'The DUFF (2015)', 'The Diary of a Teenage Girl (2015)', 'The Divergent Series: Insurgent (2015)', 'The End of the Tour (2015)', 'The Gallows (2015)', 'The Gift (2015)', 'The Gunman (2015)', 'The Hobbit: The Battle of the Five Armies (2014)', 'The Hunting Ground (2015)', 'The Imitation Game (2014)', 'The Last Five Years (2015)', 'The Lazarus Effect (2015)', 'The Loft (2015)', 'The Longest Ride (2015)', 'The Man From U.N.C.L.E. (2015)', 'The Overnight (2015)', 'The Salt of the Earth (2015)', 'The Second Best Exotic Marigold Hotel (2015)', 'The SpongeBob Movie: Sponge Out of Water (2015)', 'The Stanford Prison Experiment (2015)', 'The Vatican Tapes (2015)', 'The Water Diviner (2015)', 'The Wedding Ringer (2015)', 'The Wolfpack (2015)', 'The Woman In Black 2 Angel of Death (2015)', 'The Wrecking Crew (2015)', 'Timbuktu (2015)', 'Tomorrowland (2015)', 'Top Five (2014)', 'Trainwreck (2015)', 'True Story (2015)', 'Two Days, One Night (2014)', 'Unbroken (2014)', 'Unfinished Business (2015)', 'Unfriended (2015)', 'Vacation (2015)', 'Welcome to Me (2015)', 'What We Do in the Shadows (2015)', 'When Marnie Was There (2015)', \"While We're Young (2015)\", 'Wild Tales (2014)', 'Woman in Gold (2015)']\n"
     ]
    }
   ],
   "source": [
    "original_index = series_custom.index.tolist()\n",
    "print (original_index)\n",
    "sorted_index = sorted(original_index)\n",
    "sorted_by_index = series_custom.reindex(sorted_index)\n",
    "print (sorted_index)"
   ]
  },
  {
   "cell_type": "code",
   "execution_count": 6,
   "metadata": {
    "collapsed": false
   },
   "outputs": [
    {
     "name": "stdout",
     "output_type": "stream",
     "text": [
      "'71 (2015)                    97\n",
      "5 Flights Up (2015)           52\n",
      "A Little Chaos (2015)         40\n",
      "A Most Violent Year (2014)    90\n",
      "About Elly (2015)             97\n",
      "Aloha (2015)                  19\n",
      "American Sniper (2015)        72\n",
      "American Ultra (2015)         46\n",
      "Amy (2015)                    97\n",
      "Annie (2014)                  27\n",
      "dtype: int64\n",
      "Paul Blart: Mall Cop 2 (2015)     5\n",
      "Hitman: Agent 47 (2015)           7\n",
      "Hot Pursuit (2015)                8\n",
      "Fantastic Four (2015)             9\n",
      "Taken 3 (2015)                    9\n",
      "The Boy Next Door (2015)         10\n",
      "The Loft (2015)                  11\n",
      "Unfinished Business (2015)       11\n",
      "Mortdecai (2015)                 12\n",
      "Seventh Son (2015)               12\n",
      "dtype: int64\n"
     ]
    }
   ],
   "source": [
    "sc2 = series_custom.sort_index()\n",
    "sc3 = series_custom.sort_values()\n",
    "print(sc2[0:10])\n",
    "print(sc3[0:10])"
   ]
  },
  {
   "cell_type": "code",
   "execution_count": 7,
   "metadata": {
    "collapsed": false
   },
   "outputs": [
    {
     "ename": "SyntaxError",
     "evalue": "invalid syntax (<ipython-input-7-b5da0574c4de>, line 4)",
     "output_type": "error",
     "traceback": [
      "\u001b[0;36m  File \u001b[0;32m\"<ipython-input-7-b5da0574c4de>\"\u001b[0;36m, line \u001b[0;32m4\u001b[0m\n\u001b[0;31m    print np.add(series_custom, series_custom)\u001b[0m\n\u001b[0m           ^\u001b[0m\n\u001b[0;31mSyntaxError\u001b[0m\u001b[0;31m:\u001b[0m invalid syntax\n"
     ]
    }
   ],
   "source": [
    "#The values in a Series object are treated as an ndarray, the core data type in NumPy\n",
    "import numpy as np\n",
    "# Add each value with each other\n",
    "print (np.add(series_custom, series_custom)\n",
    "# Apply sine function to each value\n",
    "np.sin(series_custom)\n",
    "# Return the highest value (will return a single value not a Series)\n",
    "np.max(series_custom)"
   ]
  },
  {
   "cell_type": "code",
   "execution_count": 37,
   "metadata": {
    "collapsed": false
   },
   "outputs": [
    {
     "name": "stdout",
     "output_type": "stream",
     "text": [
      "Avengers: Age of Ultron (2015)                                            74\n",
      "The Water Diviner (2015)                                                  63\n",
      "Unbroken (2014)                                                           51\n",
      "Southpaw (2015)                                                           59\n",
      "Insidious: Chapter 3 (2015)                                               59\n",
      "The Man From U.N.C.L.E. (2015)                                            68\n",
      "Run All Night (2015)                                                      60\n",
      "5 Flights Up (2015)                                                       52\n",
      "Welcome to Me (2015)                                                      71\n",
      "Saint Laurent (2015)                                                      51\n",
      "Maps to the Stars (2015)                                                  60\n",
      "Pitch Perfect 2 (2015)                                                    67\n",
      "The Age of Adaline (2015)                                                 54\n",
      "The DUFF (2015)                                                           71\n",
      "Ricki and the Flash (2015)                                                64\n",
      "Unfriended (2015)                                                         60\n",
      "American Sniper (2015)                                                    72\n",
      "The Hobbit: The Battle of the Five Armies (2014)                          61\n",
      "Paper Towns (2015)                                                        55\n",
      "Big Eyes (2014)                                                           72\n",
      "Maggie (2015)                                                             54\n",
      "Focus (2015)                                                              57\n",
      "The Second Best Exotic Marigold Hotel (2015)                              62\n",
      "The 100-Year-Old Man Who Climbed Out the Window and Disappeared (2015)    67\n",
      "Escobar: Paradise Lost (2015)                                             52\n",
      "Into the Woods (2014)                                                     71\n",
      "Inherent Vice (2014)                                                      73\n",
      "Magic Mike XXL (2015)                                                     62\n",
      "Woman in Gold (2015)                                                      52\n",
      "The Last Five Years (2015)                                                60\n",
      "Jurassic World (2015)                                                     71\n",
      "Minions (2015)                                                            54\n",
      "Spare Parts (2015)                                                        52\n",
      "dtype: int64\n"
     ]
    }
   ],
   "source": [
    "#will actually return a Series object with a boolean value for each film\n",
    "series_custom > 50\n",
    "series_greater_than_50 = series_custom[series_custom > 50]\n",
    "\n",
    "criteria_one = series_custom > 50\n",
    "criteria_two = series_custom < 75\n",
    "both_criteria = series_custom[criteria_one & criteria_two]\n",
    "print (both_criteria)"
   ]
  },
  {
   "cell_type": "code",
   "execution_count": 38,
   "metadata": {
    "collapsed": false
   },
   "outputs": [
    {
     "name": "stdout",
     "output_type": "stream",
     "text": [
      "FILM\n",
      "Avengers: Age of Ultron (2015)                    80.0\n",
      "Cinderella (2015)                                 82.5\n",
      "Ant-Man (2015)                                    85.0\n",
      "Do You Believe? (2015)                            51.0\n",
      "Hot Tub Time Machine 2 (2015)                     21.0\n",
      "The Water Diviner (2015)                          62.5\n",
      "Irrational Man (2015)                             47.5\n",
      "Top Five (2014)                                   75.0\n",
      "Shaun the Sheep Movie (2015)                      90.5\n",
      "Love & Mercy (2015)                               88.0\n",
      "Far From The Madding Crowd (2015)                 80.5\n",
      "Black Sea (2015)                                  71.0\n",
      "Leviathan (2014)                                  89.0\n",
      "Unbroken (2014)                                   60.5\n",
      "The Imitation Game (2014)                         91.0\n",
      "Taken 3 (2015)                                    27.5\n",
      "Ted 2 (2015)                                      52.0\n",
      "Southpaw (2015)                                   69.5\n",
      "Night at the Museum: Secret of the Tomb (2014)    54.0\n",
      "Pixels (2015)                                     35.5\n",
      "McFarland, USA (2015)                             84.0\n",
      "Insidious: Chapter 3 (2015)                       57.5\n",
      "The Man From U.N.C.L.E. (2015)                    74.0\n",
      "Run All Night (2015)                              59.5\n",
      "Trainwreck (2015)                                 79.5\n",
      "Selma (2014)                                      92.5\n",
      "Ex Machina (2015)                                 89.0\n",
      "Still Alice (2015)                                86.5\n",
      "Wild Tales (2014)                                 94.0\n",
      "The End of the Tour (2015)                        90.5\n",
      "                                                  ... \n",
      "Clouds of Sils Maria (2015)                       78.0\n",
      "Testament of Youth (2015)                         80.0\n",
      "Infinitely Polar Bear (2015)                      78.0\n",
      "Phoenix (2015)                                    90.0\n",
      "The Wolfpack (2015)                               78.5\n",
      "The Stanford Prison Experiment (2015)             85.5\n",
      "Tangerine (2015)                                  90.5\n",
      "Magic Mike XXL (2015)                             63.0\n",
      "Home (2015)                                       55.0\n",
      "The Wedding Ringer (2015)                         46.5\n",
      "Woman in Gold (2015)                              66.5\n",
      "The Last Five Years (2015)                        60.0\n",
      "Mission: Impossible â€“ Rogue Nation (2015)       91.0\n",
      "Amy (2015)                                        94.0\n",
      "Jurassic World (2015)                             76.0\n",
      "Minions (2015)                                    53.0\n",
      "Max (2015)                                        54.0\n",
      "Paul Blart: Mall Cop 2 (2015)                     20.5\n",
      "The Longest Ride (2015)                           52.0\n",
      "The Lazarus Effect (2015)                         18.5\n",
      "The Woman In Black 2 Angel of Death (2015)        23.5\n",
      "Danny Collins (2015)                              76.0\n",
      "Spare Parts (2015)                                67.5\n",
      "Serena (2015)                                     21.5\n",
      "Inside Out (2015)                                 94.0\n",
      "Mr. Holmes (2015)                                 82.5\n",
      "'71 (2015)                                        89.5\n",
      "Two Days, One Night (2014)                        87.5\n",
      "Gett: The Trial of Viviane Amsalem (2015)         90.5\n",
      "Kumiko, The Treasure Hunter (2015)                75.0\n",
      "dtype: float64\n"
     ]
    }
   ],
   "source": [
    "#data alignment same index\n",
    "rt_critics = Series(fandango['RottenTomatoes'].values, index=fandango['FILM'])\n",
    "rt_users = Series(fandango['RottenTomatoes_User'].values, index=fandango['FILM'])\n",
    "rt_mean = (rt_critics + rt_users)/2\n",
    "\n",
    "print(rt_mean)"
   ]
  },
  {
   "cell_type": "code",
   "execution_count": null,
   "metadata": {
    "collapsed": true
   },
   "outputs": [],
   "source": []
  }
 ],
 "metadata": {
  "anaconda-cloud": {},
  "kernelspec": {
   "display_name": "Python 3",
   "language": "python",
   "name": "python3"
  },
  "language_info": {
   "codemirror_mode": {
    "name": "ipython",
    "version": 3
   },
   "file_extension": ".py",
   "mimetype": "text/x-python",
   "name": "python",
   "nbconvert_exporter": "python",
   "pygments_lexer": "ipython3",
   "version": "3.6.0"
  }
 },
 "nbformat": 4,
 "nbformat_minor": 1
}
