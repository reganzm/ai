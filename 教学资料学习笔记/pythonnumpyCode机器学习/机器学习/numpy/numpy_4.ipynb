{
 "cells": [
  {
   "cell_type": "code",
   "execution_count": 1,
   "metadata": {
    "collapsed": false
   },
   "outputs": [
    {
     "name": "stdout",
     "output_type": "stream",
     "text": [
      "[0 1 2]\n",
      "[ 0.          1.          1.41421356]\n"
     ]
    }
   ],
   "source": [
    "import numpy as np\n",
    "B = np.arange(3)\n",
    "print (B)\n",
    "#print np.exp(B)\n",
    "print (np.sqrt(B))"
   ]
  },
  {
   "cell_type": "code",
   "execution_count": 5,
   "metadata": {
    "collapsed": false
   },
   "outputs": [
    {
     "name": "stdout",
     "output_type": "stream",
     "text": [
      "[[ 0.  8.  4.  7.]\n",
      " [ 4.  3.  2.  5.]\n",
      " [ 1.  9.  2.  5.]]\n",
      "(3, 4)\n",
      "[ 0.  8.  4.  7.  4.  3.  2.  5.  1.  9.  2.  5.]\n",
      "[[ 0.  8.]\n",
      " [ 4.  7.]\n",
      " [ 4.  3.]\n",
      " [ 2.  5.]\n",
      " [ 1.  9.]\n",
      " [ 2.  5.]]\n",
      "[[ 0.  4.  4.  2.  1.  2.]\n",
      " [ 8.  7.  3.  5.  9.  5.]]\n",
      "None\n",
      "[[ 0.  8.  4.  7.  4.  3.]\n",
      " [ 2.  5.  1.  9.  2.  5.]]\n"
     ]
    },
    {
     "data": {
      "text/plain": [
       "array([[ 0.,  8.,  4.,  7.],\n",
       "       [ 4.,  3.,  2.,  5.],\n",
       "       [ 1.,  9.,  2.,  5.]])"
      ]
     },
     "execution_count": 5,
     "metadata": {},
     "output_type": "execute_result"
    }
   ],
   "source": [
    "#Return the floor of the input\n",
    "a = np.floor(10*np.random.random((3,4)))\n",
    "print (a)\n",
    "\n",
    "print(a.shape)\n",
    "## flatten the array\n",
    "print (a.ravel())\n",
    "a.shape = (6, 2)\n",
    "print (a) \n",
    "print (a.T)\n",
    "print (a.resize((2,6)))\n",
    "print (a)\n",
    "\n",
    "#If a dimension is given as -1 in a reshaping operation, the other dimensions are automatically calculated:\n",
    "a.reshape(3,-1)"
   ]
  },
  {
   "cell_type": "code",
   "execution_count": 6,
   "metadata": {
    "collapsed": false
   },
   "outputs": [
    {
     "name": "stdout",
     "output_type": "stream",
     "text": [
      "[[ 8.  5.]\n",
      " [ 8.  4.]]\n",
      "---\n",
      "[[ 8.  4.]\n",
      " [ 8.  7.]]\n",
      "---\n",
      "[[ 8.  5.  8.  4.]\n",
      " [ 8.  4.  8.  7.]]\n"
     ]
    }
   ],
   "source": [
    "a = np.floor(10*np.random.random((2,2)))\n",
    "b = np.floor(10*np.random.random((2,2)))\n",
    "print (a)\n",
    "print ('---')\n",
    "print (b)\n",
    "print ('---')\n",
    "print (np.hstack((a,b)))\n",
    "#np.hstack((a,b))"
   ]
  },
  {
   "cell_type": "code",
   "execution_count": 9,
   "metadata": {
    "collapsed": false
   },
   "outputs": [
    {
     "name": "stdout",
     "output_type": "stream",
     "text": [
      "[[ 2.  6.  7.  4.  8.  8.  6.  1.  7.  3.  9.  1.]\n",
      " [ 5.  8.  5.  3.  5.  1.  2.  9.  5.  1.  9.  3.]]\n",
      "[array([[ 2.,  6.,  7.,  4.],\n",
      "       [ 5.,  8.,  5.,  3.]]), array([[ 8.,  8.,  6.,  1.],\n",
      "       [ 5.,  1.,  2.,  9.]]), array([[ 7.,  3.,  9.,  1.],\n",
      "       [ 5.,  1.,  9.,  3.]])]\n",
      "[array([[ 2.,  6.,  7.],\n",
      "       [ 5.,  8.,  5.]]), array([[ 4.,  8.,  8.,  6.,  1.,  7.],\n",
      "       [ 3.,  5.,  1.,  2.,  9.,  5.]]), array([[ 3.,  9.,  1.],\n",
      "       [ 1.,  9.,  3.]])]\n",
      "[[ 3.  1.]\n",
      " [ 8.  4.]\n",
      " [ 4.  1.]\n",
      " [ 5.  2.]\n",
      " [ 2.  1.]\n",
      " [ 7.  7.]\n",
      " [ 8.  1.]\n",
      " [ 3.  1.]\n",
      " [ 0.  3.]\n",
      " [ 4.  1.]\n",
      " [ 9.  2.]\n",
      " [ 7.  7.]]\n"
     ]
    },
    {
     "data": {
      "text/plain": [
       "[array([[ 3.,  1.],\n",
       "        [ 8.,  4.],\n",
       "        [ 4.,  1.],\n",
       "        [ 5.,  2.]]), array([[ 2.,  1.],\n",
       "        [ 7.,  7.],\n",
       "        [ 8.,  1.],\n",
       "        [ 3.,  1.]]), array([[ 0.,  3.],\n",
       "        [ 4.,  1.],\n",
       "        [ 9.,  2.],\n",
       "        [ 7.,  7.]])]"
      ]
     },
     "execution_count": 9,
     "metadata": {},
     "output_type": "execute_result"
    }
   ],
   "source": [
    "a = np.floor(10*np.random.random((2,12)))\n",
    "print (a)\n",
    "print (np.hsplit(a,3))\n",
    "print (np.hsplit(a,(3,9)))   # Split a after the third and the fourth column\n",
    "a = np.floor(10*np.random.random((12,2)))\n",
    "print (a)\n",
    "np.vsplit(a,3)"
   ]
  },
  {
   "cell_type": "code",
   "execution_count": 10,
   "metadata": {
    "collapsed": false
   },
   "outputs": [
    {
     "name": "stdout",
     "output_type": "stream",
     "text": [
      "True\n",
      "(3, 4)\n",
      "92134016\n",
      "92134016\n"
     ]
    }
   ],
   "source": [
    "#Simple assignments make no copy of array objects or of their data.\n",
    "a = np.arange(12)\n",
    "b = a\n",
    "# a and b are two names for the same ndarray object\n",
    "print(b is a)\n",
    "b.shape = 3,4\n",
    "print (a.shape)\n",
    "print (id(a))\n",
    "print (id(b))"
   ]
  },
  {
   "cell_type": "code",
   "execution_count": 11,
   "metadata": {
    "collapsed": false
   },
   "outputs": [
    {
     "name": "stdout",
     "output_type": "stream",
     "text": [
      "False\n"
     ]
    },
    {
     "data": {
      "text/plain": [
       "array([[   0,    1,    2,    3],\n",
       "       [1234,    5,    6,    7],\n",
       "       [   8,    9,   10,   11]])"
      ]
     },
     "execution_count": 11,
     "metadata": {},
     "output_type": "execute_result"
    }
   ],
   "source": [
    "#The view method creates a new array object that looks at the same data.\n",
    "c = a.view()\n",
    "print(c is a)\n",
    "c.shape = 2,6\n",
    "#print a.shape\n",
    "c[0,4] = 1234\n",
    "a"
   ]
  },
  {
   "cell_type": "code",
   "execution_count": 46,
   "metadata": {
    "collapsed": false
   },
   "outputs": [
    {
     "name": "stdout",
     "output_type": "stream",
     "text": [
      "[[9999    1    2    3]\n",
      " [1234    5    6    7]\n",
      " [   8    9   10   11]]\n",
      "[[   0    1    2    3]\n",
      " [1234    5    6    7]\n",
      " [   8    9   10   11]]\n"
     ]
    }
   ],
   "source": [
    "#The copy method makes a complete copy of the array and its data.\n",
    "d = a.copy() \n",
    "d is a\n",
    "d[0,0] = 9999\n",
    "print d \n",
    "print a"
   ]
  },
  {
   "cell_type": "code",
   "execution_count": null,
   "metadata": {
    "collapsed": true
   },
   "outputs": [],
   "source": []
  }
 ],
 "metadata": {
  "kernelspec": {
   "display_name": "Python2.7.2",
   "language": "python",
   "name": "python2"
  },
  "language_info": {
   "codemirror_mode": {
    "name": "ipython",
    "version": 3
   },
   "file_extension": ".py",
   "mimetype": "text/x-python",
   "name": "python",
   "nbconvert_exporter": "python",
   "pygments_lexer": "ipython3",
   "version": "3.6.0"
  }
 },
 "nbformat": 4,
 "nbformat_minor": 1
}
